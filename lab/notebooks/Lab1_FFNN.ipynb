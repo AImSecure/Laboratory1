{
  "cells": [
    {
      "cell_type": "markdown",
      "metadata": {
        "id": "view-in-github",
        "colab_type": "text"
      },
      "source": [
        "<a href=\"https://colab.research.google.com/github/AImSecure/Laboratory1/blob/main/lab/notebooks/Lab1_FFNN.ipynb\" target=\"_parent\"><img src=\"https://colab.research.google.com/assets/colab-badge.svg\" alt=\"Open In Colab\"/></a>"
      ]
    },
    {
      "cell_type": "markdown",
      "metadata": {
        "id": "KaRjftvSROvg"
      },
      "source": [
        "# Laboratory 1 — Feed Forward Neural Networks\n",
        "\n",
        "This notebook follows the lab brief in `resources/Lab1_FFNN.txt` and is organized into tasks:\n",
        "- Task 1: Data preprocessing (cleaning, splitting, outliers, normalization)\n",
        "- Task 2: Shallow NN (1 layer), train sizes {32, 64, 128}, metrics and analysis; then ReLU change\n",
        "- Task 3: Impact of specific features (Destination Port), bias test and port removal\n",
        "- Task 4: Loss function impact (weighted CrossEntropy)\n",
        "- Task 5: Deep NN, batch size, optimizer comparisons\n",
        "- Task 6: Overfitting and regularization (dropout, batchnorm, weight decay)"
      ]
    },
    {
      "cell_type": "markdown",
      "source": [
        "## Setup"
      ],
      "metadata": {
        "id": "NXfnBkl-P0ma"
      }
    },
    {
      "cell_type": "code",
      "execution_count": 1,
      "metadata": {
        "colab": {
          "base_uri": "https://localhost:8080/"
        },
        "id": "svE8FspeRPW3",
        "outputId": "5300cd3c-cdb5-4617-a379-2c26e6556cbd"
      },
      "outputs": [
        {
          "output_type": "stream",
          "name": "stdout",
          "text": [
            "Python 3.12.12\n",
            "Requirement already satisfied: pip in /usr/local/lib/python3.12/dist-packages (24.1.2)\n",
            "Collecting pip\n",
            "  Downloading pip-25.2-py3-none-any.whl.metadata (4.7 kB)\n",
            "Downloading pip-25.2-py3-none-any.whl (1.8 MB)\n",
            "\u001b[2K   \u001b[90m━━━━━━━━━━━━━━━━━━━━━━━━━━━━━━━━━━━━━━━━\u001b[0m \u001b[32m1.8/1.8 MB\u001b[0m \u001b[31m20.7 MB/s\u001b[0m eta \u001b[36m0:00:00\u001b[0m\n",
            "\u001b[?25hInstalling collected packages: pip\n",
            "  Attempting uninstall: pip\n",
            "    Found existing installation: pip 24.1.2\n",
            "    Uninstalling pip-24.1.2:\n",
            "      Successfully uninstalled pip-24.1.2\n",
            "Successfully installed pip-25.2\n"
          ]
        }
      ],
      "source": [
        "# --- Check Python & pip versions ---\n",
        "!python --version\n",
        "!pip install --upgrade pip"
      ]
    },
    {
      "cell_type": "code",
      "execution_count": 2,
      "metadata": {
        "colab": {
          "base_uri": "https://localhost:8080/"
        },
        "id": "fyfyzIzWbHTG",
        "outputId": "052242cb-6bd8-4d1a-8165-4bd6fbb14362"
      },
      "outputs": [
        {
          "output_type": "stream",
          "name": "stdout",
          "text": [
            "Requirement already satisfied: torch in /usr/local/lib/python3.12/dist-packages (2.8.0+cu126)\n",
            "Requirement already satisfied: filelock in /usr/local/lib/python3.12/dist-packages (from torch) (3.20.0)\n",
            "Requirement already satisfied: typing-extensions>=4.10.0 in /usr/local/lib/python3.12/dist-packages (from torch) (4.15.0)\n",
            "Requirement already satisfied: setuptools in /usr/local/lib/python3.12/dist-packages (from torch) (75.2.0)\n",
            "Requirement already satisfied: sympy>=1.13.3 in /usr/local/lib/python3.12/dist-packages (from torch) (1.13.3)\n",
            "Requirement already satisfied: networkx in /usr/local/lib/python3.12/dist-packages (from torch) (3.5)\n",
            "Requirement already satisfied: jinja2 in /usr/local/lib/python3.12/dist-packages (from torch) (3.1.6)\n",
            "Requirement already satisfied: fsspec in /usr/local/lib/python3.12/dist-packages (from torch) (2025.3.0)\n",
            "Requirement already satisfied: nvidia-cuda-nvrtc-cu12==12.6.77 in /usr/local/lib/python3.12/dist-packages (from torch) (12.6.77)\n",
            "Requirement already satisfied: nvidia-cuda-runtime-cu12==12.6.77 in /usr/local/lib/python3.12/dist-packages (from torch) (12.6.77)\n",
            "Requirement already satisfied: nvidia-cuda-cupti-cu12==12.6.80 in /usr/local/lib/python3.12/dist-packages (from torch) (12.6.80)\n",
            "Requirement already satisfied: nvidia-cudnn-cu12==9.10.2.21 in /usr/local/lib/python3.12/dist-packages (from torch) (9.10.2.21)\n",
            "Requirement already satisfied: nvidia-cublas-cu12==12.6.4.1 in /usr/local/lib/python3.12/dist-packages (from torch) (12.6.4.1)\n",
            "Requirement already satisfied: nvidia-cufft-cu12==11.3.0.4 in /usr/local/lib/python3.12/dist-packages (from torch) (11.3.0.4)\n",
            "Requirement already satisfied: nvidia-curand-cu12==10.3.7.77 in /usr/local/lib/python3.12/dist-packages (from torch) (10.3.7.77)\n",
            "Requirement already satisfied: nvidia-cusolver-cu12==11.7.1.2 in /usr/local/lib/python3.12/dist-packages (from torch) (11.7.1.2)\n",
            "Requirement already satisfied: nvidia-cusparse-cu12==12.5.4.2 in /usr/local/lib/python3.12/dist-packages (from torch) (12.5.4.2)\n",
            "Requirement already satisfied: nvidia-cusparselt-cu12==0.7.1 in /usr/local/lib/python3.12/dist-packages (from torch) (0.7.1)\n",
            "Requirement already satisfied: nvidia-nccl-cu12==2.27.3 in /usr/local/lib/python3.12/dist-packages (from torch) (2.27.3)\n",
            "Requirement already satisfied: nvidia-nvtx-cu12==12.6.77 in /usr/local/lib/python3.12/dist-packages (from torch) (12.6.77)\n",
            "Requirement already satisfied: nvidia-nvjitlink-cu12==12.6.85 in /usr/local/lib/python3.12/dist-packages (from torch) (12.6.85)\n",
            "Requirement already satisfied: nvidia-cufile-cu12==1.11.1.6 in /usr/local/lib/python3.12/dist-packages (from torch) (1.11.1.6)\n",
            "Requirement already satisfied: triton==3.4.0 in /usr/local/lib/python3.12/dist-packages (from torch) (3.4.0)\n",
            "Requirement already satisfied: mpmath<1.4,>=1.1.0 in /usr/local/lib/python3.12/dist-packages (from sympy>=1.13.3->torch) (1.3.0)\n",
            "Requirement already satisfied: MarkupSafe>=2.0 in /usr/local/lib/python3.12/dist-packages (from jinja2->torch) (3.0.3)\n",
            "Requirement already satisfied: numpy in /usr/local/lib/python3.12/dist-packages (2.0.2)\n",
            "Requirement already satisfied: pandas in /usr/local/lib/python3.12/dist-packages (2.2.2)\n",
            "Requirement already satisfied: scikit-learn in /usr/local/lib/python3.12/dist-packages (1.6.1)\n",
            "Requirement already satisfied: matplotlib in /usr/local/lib/python3.12/dist-packages (3.10.0)\n",
            "Requirement already satisfied: seaborn in /usr/local/lib/python3.12/dist-packages (0.13.2)\n",
            "Requirement already satisfied: python-dateutil>=2.8.2 in /usr/local/lib/python3.12/dist-packages (from pandas) (2.9.0.post0)\n",
            "Requirement already satisfied: pytz>=2020.1 in /usr/local/lib/python3.12/dist-packages (from pandas) (2025.2)\n",
            "Requirement already satisfied: tzdata>=2022.7 in /usr/local/lib/python3.12/dist-packages (from pandas) (2025.2)\n",
            "Requirement already satisfied: scipy>=1.6.0 in /usr/local/lib/python3.12/dist-packages (from scikit-learn) (1.16.2)\n",
            "Requirement already satisfied: joblib>=1.2.0 in /usr/local/lib/python3.12/dist-packages (from scikit-learn) (1.5.2)\n",
            "Requirement already satisfied: threadpoolctl>=3.1.0 in /usr/local/lib/python3.12/dist-packages (from scikit-learn) (3.6.0)\n",
            "Requirement already satisfied: contourpy>=1.0.1 in /usr/local/lib/python3.12/dist-packages (from matplotlib) (1.3.3)\n",
            "Requirement already satisfied: cycler>=0.10 in /usr/local/lib/python3.12/dist-packages (from matplotlib) (0.12.1)\n",
            "Requirement already satisfied: fonttools>=4.22.0 in /usr/local/lib/python3.12/dist-packages (from matplotlib) (4.60.1)\n",
            "Requirement already satisfied: kiwisolver>=1.3.1 in /usr/local/lib/python3.12/dist-packages (from matplotlib) (1.4.9)\n",
            "Requirement already satisfied: packaging>=20.0 in /usr/local/lib/python3.12/dist-packages (from matplotlib) (25.0)\n",
            "Requirement already satisfied: pillow>=8 in /usr/local/lib/python3.12/dist-packages (from matplotlib) (11.3.0)\n",
            "Requirement already satisfied: pyparsing>=2.3.1 in /usr/local/lib/python3.12/dist-packages (from matplotlib) (3.2.5)\n",
            "Requirement already satisfied: six>=1.5 in /usr/local/lib/python3.12/dist-packages (from python-dateutil>=2.8.2->pandas) (1.17.0)\n",
            "Requirement already satisfied: tqdm in /usr/local/lib/python3.12/dist-packages (4.67.1)\n"
          ]
        }
      ],
      "source": [
        "# --- Install required libraries ---\n",
        "!pip install torch\n",
        "!pip install numpy pandas scikit-learn matplotlib seaborn\n",
        "!pip install tqdm"
      ]
    },
    {
      "cell_type": "code",
      "execution_count": 3,
      "metadata": {
        "id": "vZXgjER_TsGp"
      },
      "outputs": [],
      "source": [
        "# --- Import libraries ---\n",
        "import os\n",
        "import time\n",
        "import numpy as np\n",
        "import pandas as pd\n",
        "import matplotlib.pyplot as plt\n",
        "import seaborn as sns\n",
        "import json\n",
        "\n",
        "from sklearn.model_selection import train_test_split\n",
        "from sklearn.preprocessing import StandardScaler, MinMaxScaler\n",
        "from sklearn.utils.class_weight import compute_class_weight\n",
        "from sklearn.metrics import classification_report, confusion_matrix, accuracy_score, f1_score\n",
        "from sklearn.decomposition import PCA\n",
        "from sklearn.impute import SimpleImputer\n",
        "\n",
        "import torch\n",
        "import torch.nn as nn\n",
        "import torch.optim as optim\n",
        "from torch.utils.data import Dataset, DataLoader, TensorDataset\n",
        "\n",
        "from tqdm import tqdm"
      ]
    },
    {
      "cell_type": "markdown",
      "metadata": {
        "id": "w201oyWVxE9k"
      },
      "source": [
        "### Colab Pro"
      ]
    },
    {
      "cell_type": "code",
      "execution_count": 4,
      "metadata": {
        "colab": {
          "base_uri": "https://localhost:8080/"
        },
        "id": "_kIggYNUxFuZ",
        "outputId": "cb60c7f8-966f-460b-d4ce-d9ea1e9bf06b"
      },
      "outputs": [
        {
          "output_type": "stream",
          "name": "stdout",
          "text": [
            "/bin/bash: line 1: nvidia-smi: command not found\n"
          ]
        }
      ],
      "source": [
        "# --- Check GPU availability ---\n",
        "gpu_info = !nvidia-smi\n",
        "gpu_info = '\\n'.join(gpu_info)\n",
        "if gpu_info.find('failed') >= 0:\n",
        "  print('Not connected to a GPU')\n",
        "else:\n",
        "  print(gpu_info)"
      ]
    },
    {
      "cell_type": "code",
      "execution_count": 5,
      "metadata": {
        "colab": {
          "base_uri": "https://localhost:8080/"
        },
        "id": "DH-w_NELxHpV",
        "outputId": "8f4b0da8-0fd5-4fcf-b585-5f008a09dc6a"
      },
      "outputs": [
        {
          "output_type": "stream",
          "name": "stdout",
          "text": [
            "Your runtime has 13.6 gigabytes of available RAM\n",
            "\n",
            "Not using a high-RAM runtime\n"
          ]
        }
      ],
      "source": [
        "# --- Check RAM availability ---\n",
        "from psutil import virtual_memory\n",
        "ram_gb = virtual_memory().total / 1e9\n",
        "print('Your runtime has {:.1f} gigabytes of available RAM\\n'.format(ram_gb))\n",
        "\n",
        "if ram_gb < 20:\n",
        "  print('Not using a high-RAM runtime')\n",
        "else:\n",
        "  print('You are using a high-RAM runtime!')"
      ]
    },
    {
      "cell_type": "markdown",
      "metadata": {
        "id": "2rFNp6fgTv9w"
      },
      "source": [
        "### Paths setup\n"
      ]
    },
    {
      "cell_type": "code",
      "execution_count": 6,
      "metadata": {
        "colab": {
          "base_uri": "https://localhost:8080/"
        },
        "id": "rAnAndzpTxe5",
        "outputId": "fdb14711-076b-4d9d-bdf1-e2ce81e45304"
      },
      "outputs": [
        {
          "output_type": "stream",
          "name": "stdout",
          "text": [
            "Mounted at /content/drive\n"
          ]
        }
      ],
      "source": [
        "# --- Mount Google Drive (for Google Colab users) ---\n",
        "from google.colab import drive\n",
        "drive.mount('/content/drive')"
      ]
    },
    {
      "cell_type": "code",
      "execution_count": 7,
      "metadata": {
        "colab": {
          "base_uri": "https://localhost:8080/"
        },
        "id": "XqMS_38yTvFN",
        "outputId": "789f6341-9aa7-420c-f667-7df8657aebaf"
      },
      "outputs": [
        {
          "output_type": "stream",
          "name": "stdout",
          "text": [
            "Project path: /content/drive/MyDrive/Projects/AImSecure/Laboratory1/\n",
            "Data path: /content/drive/MyDrive/Projects/AImSecure/Laboratory1/data/\n",
            "Results path: /content/drive/MyDrive/Projects/AImSecure/Laboratory1/results/\n"
          ]
        }
      ],
      "source": [
        "# --- Define Paths ---\n",
        "group = 'AImSecure'\n",
        "laboratory = 'Laboratory1'\n",
        "\n",
        "base_path = '/content/drive/MyDrive/'\n",
        "project_path = base_path + f'Projects/{group}/{laboratory}/'\n",
        "data_path = project_path + 'data/'\n",
        "results_path = project_path + 'results/'\n",
        "\n",
        "# --- Ensure directories exist ---\n",
        "os.makedirs(project_path, exist_ok=True)\n",
        "os.makedirs(data_path, exist_ok=True)\n",
        "os.makedirs(results_path, exist_ok=True)\n",
        "\n",
        "print(f\"Project path: {project_path}\")\n",
        "print(f\"Data path: {data_path}\")\n",
        "print(f\"Results path: {results_path}\")"
      ]
    },
    {
      "cell_type": "code",
      "execution_count": 8,
      "metadata": {
        "id": "pi-G9FFHwZjK"
      },
      "outputs": [],
      "source": [
        "# --- Set visual style ---\n",
        "sns.set(style=\"whitegrid\", palette=\"muted\", font_scale=1.1)\n",
        "\n",
        "def save_plot(fig: plt.Figure, filename: str, path: str = \"./plots/\", fmt: str = \"png\", dpi: int = 300) -> None:\n",
        "    \"\"\"\n",
        "    Save a Matplotlib figure in a specific to a specified directory.\n",
        "\n",
        "    Args:\n",
        "        fig (plt.Figure): Matplotlib figure object to save.\n",
        "        filename (str): Name of the file to save (e.g., 'plot.png').\n",
        "        path (str, optional): Directory path to save the figure. Defaults to './plots/'.\n",
        "        fmt (str, optional): File format for the saved figure. Defaults to 'png'.\n",
        "        dpi (int, optional): Dots per inch for the saved figure. Defaults to 300.\n",
        "\n",
        "    Returns:\n",
        "        None\n",
        "    \"\"\"\n",
        "    # Ensure the directory exists\n",
        "    os.makedirs(path, exist_ok=True)\n",
        "    save_path = os.path.join(path, f\"{filename}.{fmt}\")\n",
        "\n",
        "    # Save the figure\n",
        "    fig.savefig(save_path, bbox_inches='tight', pad_inches=0.1, dpi=dpi, format=fmt)\n",
        "    # plt.close(fig) # Removed to display plots in notebook\n",
        "\n",
        "    print(f\"Saved plot: {save_path}\")"
      ]
    },
    {
      "cell_type": "markdown",
      "metadata": {
        "id": "dswv2Je3UA5Y"
      },
      "source": [
        "## Task 1 — Data preprocessing\n",
        "What we will do:\n",
        "- Load CSV from `lab/data/dataset_lab_1.csv`\n",
        "- Inspect basic info, class distribution, and feature ranges\n",
        "- Remove NaN and duplicate rows; report counts before/after\n",
        "- Split into train/val/test with stratify (60/20/20, fixed SEED)\n",
        "- Inspect outliers on train/val (e.g., boxplots, z-scores) and choose normalization\n",
        "- Fit scaler on train only; transform val/test; persist scaler if needed"
      ]
    },
    {
      "cell_type": "code",
      "execution_count": 22,
      "metadata": {
        "colab": {
          "base_uri": "https://localhost:8080/"
        },
        "id": "-vEJrc85UCuJ",
        "outputId": "36e6b75d-4f78-4d80-ad89-5d36a65228bf"
      },
      "outputs": [
        {
          "output_type": "stream",
          "name": "stdout",
          "text": [
            "Shape (raw): (31507, 17)\n",
            "Columns: ['Flow Duration', 'Flow IAT Mean', 'Fwd PSH Flags', 'Bwd Packet Length Mean', 'Bwd Packet Length Max', 'Flow Bytes/s', 'Down/Up Ratio', 'SYN Flag Count', 'Fwd Packet Length Mean', 'Fwd IAT Std', 'Packet Length Mean', 'Fwd Packet Length Max', 'Subflow Fwd Packets', 'Flow Packets/s', 'Total Fwd Packets', 'Destination Port', 'Label']\n",
            "   Flow Duration  Flow IAT Mean  Fwd PSH Flags  Bwd Packet Length Mean  \\\n",
            "0         303376        30337.6              0                   749.4   \n",
            "1            117          117.0              0                     0.0   \n",
            "2            142          142.0              0                     0.0   \n",
            "\n",
            "   Bwd Packet Length Max  Flow Bytes/s  Down/Up Ratio  SYN Flag Count  \\\n",
            "0                   1448     12743.263              0               0   \n",
            "1                      0         0.000              1               0   \n",
            "2                      0     84507.040              0               0   \n",
            "\n",
            "   Fwd Packet Length Mean  Fwd IAT Std  Packet Length Mean  \\\n",
            "0               19.833334     98776.15           322.16666   \n",
            "1                0.000000         0.00             0.00000   \n",
            "2                6.000000         0.00             6.00000   \n",
            "\n",
            "   Fwd Packet Length Max  Subflow Fwd Packets  Flow Packets/s  \\\n",
            "0                    119                    6       36.258636   \n",
            "1                      0                    1    17094.018000   \n",
            "2                      6                    2    14084.507000   \n",
            "\n",
            "   Total Fwd Packets  Destination Port   Label  \n",
            "0                  6               443  Benign  \n",
            "1                  1             52631  Benign  \n",
            "2                  2                80  Benign  \n",
            "\n",
            "Label distribution (raw):\n",
            "Label\n",
            "Benign         20000\n",
            "DoS Hulk        5000\n",
            "PortScan        5000\n",
            "Brute Force     1507\n",
            "Name: count, dtype: int64\n"
          ]
        }
      ],
      "source": [
        "# --- Load dataset and perform initial inspection ---\n",
        "\n",
        "# Set random seed for reproducibility\n",
        "np.random.seed(42)\n",
        "\n",
        "# Create directory for plots\n",
        "save_dir = results_path + 'images/' + 'task1_plots/'\n",
        "os.makedirs(save_dir, exist_ok=True)\n",
        "\n",
        "# Load Dataset\n",
        "file_path = data_path + 'dataset_lab_1.csv'\n",
        "df = pd.read_csv(file_path)\n",
        "\n",
        "print(\"Shape (raw):\", df.shape)\n",
        "print(\"Columns:\", list(df.columns))\n",
        "print(df.head(3))\n",
        "\n",
        "# Basic info\n",
        "print(\"\\nLabel distribution (raw):\")\n",
        "print(df['Label'].value_counts(dropna=False))"
      ]
    },
    {
      "cell_type": "code",
      "execution_count": 23,
      "metadata": {
        "id": "2aKPJf9UwZjL"
      },
      "outputs": [],
      "source": [
        "def plot_class_distribution(\n",
        "    df,\n",
        "    label_col='Label',\n",
        "    save_path='./plots/',\n",
        "    fig_size=(8, 5),\n",
        "    color='Set2'\n",
        "):\n",
        "    \"\"\"\n",
        "    Plot the number of samples for each class.\n",
        "\n",
        "    Args:\n",
        "        df (pd.DataFrame): The input DataFrame.\n",
        "        label_col (str): The name of the label column. Defaults to 'Label'.\n",
        "        save_path (str): The directory to save the plot. Defaults to './plots/'.\n",
        "        fig_size (tuple): Size of the figure. Defaults to (8, 5).\n",
        "        color (str): Seaborn color.\n",
        "    \"\"\"\n",
        "    os.makedirs(save_path, exist_ok=True)\n",
        "\n",
        "    # Create a figure and axes for the plot\n",
        "    fig, ax = plt.subplots(figsize=fig_size)\n",
        "\n",
        "    # Create a countplot showing the distribution of classes\n",
        "    sns.countplot(x=label_col, data=df, order=df[label_col].value_counts().index, ax=ax, color='skyblue')\n",
        "\n",
        "    # Set the title and labels for the plot\n",
        "    ax.set_title(\"Class Distribution\")\n",
        "    ax.set_xlabel(\"Traffic Type\")\n",
        "    ax.set_ylabel(\"Count\")\n",
        "\n",
        "    # Rotate x-axis labels for better readability\n",
        "    plt.xticks(rotation=30)\n",
        "\n",
        "    # Annotate bars with counts\n",
        "    for p in ax.patches:\n",
        "        height = p.get_height()\n",
        "        ax.annotate(f'{height}', (p.get_x() + p.get_width() / 2., height),\n",
        "                    ha='center', va='bottom', fontsize=10)\n",
        "\n",
        "    # Save the plot to the specified path\n",
        "    save_plot(fig, \"class_distribution\", save_path)"
      ]
    },
    {
      "cell_type": "code",
      "execution_count": 24,
      "metadata": {
        "colab": {
          "base_uri": "https://localhost:8080/",
          "height": 561
        },
        "id": "Lpu-3ls8hlRV",
        "outputId": "a6d307a1-195b-4fbd-d539-6c3de48d185a"
      },
      "outputs": [
        {
          "output_type": "stream",
          "name": "stdout",
          "text": [
            "Saved plot: /content/drive/MyDrive/Projects/AImSecure/Laboratory1/results/images/task1_plots/class_distribution.png\n"
          ]
        },
        {
          "output_type": "display_data",
          "data": {
            "text/plain": [
              "<Figure size 800x500 with 1 Axes>"
            ],
            "image/png": "[encoded data removed]"
          },
          "metadata": {}
        }
      ],
      "source": [
        "# --- Visualize raw data characteristics and distributions ---\n",
        "\n",
        "# Plot class distribution to understand data balance\n",
        "plot_class_distribution(df, save_path=save_dir)\n",
        "\n",
        "# TODO: check for other useful plots"
      ]
    },
    {
      "cell_type": "markdown",
      "metadata": {
        "id": "owZLKx9LeWOj"
      },
      "source": [
        "### Removing NaN and duplicates"
      ]
    },
    {
      "cell_type": "code",
      "execution_count": 25,
      "metadata": {
        "colab": {
          "base_uri": "https://localhost:8080/"
        },
        "id": "yk16WOa3hlHh",
        "outputId": "028c7f21-0a10-498e-8183-f770d04c266e"
      },
      "outputs": [
        {
          "output_type": "stream",
          "name": "stdout",
          "text": [
            "Removed 2114 rows (NaN+dupes). New shape: (29393, 17)\n"
          ]
        }
      ],
      "source": [
        "# --- Remove NaN and duplicates ---\n",
        "\n",
        "raw_n = len(df)\n",
        "df = df.dropna()\n",
        "df = df.drop_duplicates()\n",
        "clean_n = len(df)\n",
        "\n",
        "print(f\"Removed {raw_n-clean_n} rows (NaN+dupes). New shape: {df.shape}\")"
      ]
    },
    {
      "cell_type": "code",
      "source": [
        "print(\"\\nLabel distribution (after NaN and duplicates removal):\")\n",
        "print(df['Label'].value_counts())"
      ],
      "metadata": {
        "colab": {
          "base_uri": "https://localhost:8080/"
        },
        "id": "0FVlanNCbVbe",
        "outputId": "0becd9fe-9ab8-4714-a101-6392b4b93b16"
      },
      "execution_count": 26,
      "outputs": [
        {
          "output_type": "stream",
          "name": "stdout",
          "text": [
            "\n",
            "Label distribution (after NaN and duplicates removal):\n",
            "Label\n",
            "Benign         19248\n",
            "PortScan        4850\n",
            "DoS Hulk        3868\n",
            "Brute Force     1427\n",
            "Name: count, dtype: int64\n"
          ]
        }
      ]
    },
    {
      "cell_type": "markdown",
      "metadata": {
        "id": "NSgqScEihOaM"
      },
      "source": [
        "### Split data"
      ]
    },
    {
      "cell_type": "code",
      "execution_count": 27,
      "metadata": {
        "colab": {
          "base_uri": "https://localhost:8080/"
        },
        "id": "CCMaPIGOhKpE",
        "outputId": "8e3b3b6f-7d2d-4426-8216-dd1ad659556f"
      },
      "outputs": [
        {
          "output_type": "stream",
          "name": "stdout",
          "text": [
            "Splits: (17635, 16) (5879, 16) (5879, 16)\n",
            "Train label counts:\n",
            " Label\n",
            "Benign         11548\n",
            "PortScan        2910\n",
            "DoS Hulk        2321\n",
            "Brute Force      856\n",
            "Name: count, dtype: int64\n",
            "Val label counts:\n",
            " Label\n",
            "Benign         3850\n",
            "PortScan        970\n",
            "DoS Hulk        774\n",
            "Brute Force     285\n",
            "Name: count, dtype: int64\n",
            "Test label counts:\n",
            " Label\n",
            "Benign         3850\n",
            "PortScan        970\n",
            "DoS Hulk        773\n",
            "Brute Force     286\n",
            "Name: count, dtype: int64\n"
          ]
        }
      ],
      "source": [
        "# --- Split data ---\n",
        "\n",
        "# Split features/target\n",
        "label_col = 'Label'\n",
        "feature_cols = [c for c in df.columns if c != label_col]\n",
        "X = df[feature_cols]\n",
        "y = df[label_col]\n",
        "\n",
        "# We use a stratified approach due to the class imbalance\n",
        "\n",
        "# Train/val/test split 60/20/20 with stratify\n",
        "X_train, X_tmp, y_train, y_tmp = train_test_split(\n",
        "    X, y, test_size=0.4, stratify=y, random_state=42\n",
        ")\n",
        "X_val, X_test, y_val, y_test = train_test_split(\n",
        "    X_tmp, y_tmp, test_size=0.5, stratify=y_tmp, random_state=42\n",
        ")\n",
        "print(\"Splits:\", X_train.shape, X_val.shape, X_test.shape)\n",
        "print(\"Train label counts:\\n\", y_train.value_counts())\n",
        "print(\"Val label counts:\\n\", y_val.value_counts())\n",
        "print(\"Test label counts:\\n\", y_test.value_counts())"
      ]
    },
    {
      "cell_type": "markdown",
      "source": [
        "### Normalize data and handle outliers"
      ],
      "metadata": {
        "id": "fnab_F5ah49P"
      }
    },
    {
      "cell_type": "code",
      "source": [
        "# Try to firstly visualize some outliers\n"
      ],
      "metadata": {
        "id": "FmQUfXEbh0jN"
      },
      "execution_count": null,
      "outputs": []
    },
    {
      "cell_type": "code",
      "source": [
        "# --- Apply normalization with outlier handling ---\n",
        "\n",
        "# TODO: check and update this block\n",
        "\n",
        "# Outlier analysis: count features with z-score > 3 on training set\n",
        "num_cols = X_train.select_dtypes(include=[np.number]).columns.tolist()\n",
        "zs = ((X_train[num_cols] - X_train[num_cols].mean())/X_train[num_cols].std(ddof=0)).abs()\n",
        "outlier_counts = (zs > 3).sum().sort_values(ascending=False)\n",
        "print(\"\\nOutliers (>3 std) per feature on train:\\n\", outlier_counts.head(10))\n",
        "\n",
        "# Handle infinite values by replacing with NaN\n",
        "X_train[num_cols] = X_train[num_cols].replace([np.inf, -np.inf], np.nan)\n",
        "X_val[num_cols] = X_val[num_cols].replace([np.inf, -np.inf], np.nan)\n",
        "X_test[num_cols] = X_test[num_cols].replace([np.inf, -np.inf], np.nan)\n",
        "\n",
        "# Impute missing values using median strategy fitted on training data\n",
        "imputer = SimpleImputer(strategy='median')\n",
        "X_train_imputed = imputer.fit_transform(X_train[num_cols])\n",
        "X_val_imputed = imputer.transform(X_val[num_cols])\n",
        "X_test_imputed = imputer.transform(X_test[num_cols])\n",
        "\n",
        "# Standardize features using StandardScaler fitted on training data only\n",
        "scaler = StandardScaler()\n",
        "X_train_s = scaler.fit_transform(X_train_imputed)\n",
        "X_val_s = scaler.transform(X_val_imputed)\n",
        "X_test_s = scaler.transform(X_test_imputed)\n",
        "\n",
        "# --- Save preprocessing metadata for reproducibility ---\n",
        "\n",
        "scaler_meta = {\n",
        "    \"type\":\"StandardScaler\",\n",
        "    \"fit_on\":\"train\",\n",
        "    \"num_features\": num_cols,\n",
        "    \"imputer_strategy\": \"median\"\n",
        "}\n",
        "\n",
        "# Create metrics_dir if it doesn't exist\n",
        "metrics_dir = results_path + 'metrics/'\n",
        "os.makedirs(metrics_dir, exist_ok=True)\n",
        "\n",
        "with open(os.path.join(metrics_dir, \"scaler_meta.json\"), \"w\") as f:\n",
        "    json.dump(scaler_meta, f, indent=2)\n",
        "\n",
        "print(\"Normalization complete. Shapes:\", X_train_s.shape, X_val_s.shape, X_test_s.shape)"
      ],
      "metadata": {
        "colab": {
          "base_uri": "https://localhost:8080/"
        },
        "id": "r8axCj9fXIRk",
        "outputId": "7a0b3d81-fb43-493d-f622-3a509fee34b4"
      },
      "execution_count": null,
      "outputs": [
        {
          "output_type": "stream",
          "name": "stdout",
          "text": [
            "\n",
            "Outliers (>3 std) per feature on train:\n",
            " Fwd PSH Flags             710\n",
            "SYN Flag Count            710\n",
            "Fwd IAT Std               570\n",
            "Bwd Packet Length Max     523\n",
            "Bwd Packet Length Mean    340\n",
            "Packet Length Mean        274\n",
            "Destination Port          231\n",
            "Fwd Packet Length Max     204\n",
            "Flow IAT Mean             196\n",
            "Fwd Packet Length Mean    153\n",
            "dtype: int64\n",
            "Normalization complete. Shapes: (17635, 16) (5879, 16) (5879, 16)\n"
          ]
        }
      ]
    },
    {
      "cell_type": "code",
      "execution_count": null,
      "metadata": {
        "id": "CuUQ3CLrwZjL"
      },
      "outputs": [],
      "source": [
        "def plot_boxplots(df, numeric_cols=None, save_path='./plots/'):\n",
        "    \"\"\"\n",
        "    Create boxplots for each numeric feature to detect outliers.\n",
        "\n",
        "    Args:\n",
        "        df (pd.DataFrame): The input DataFrame.\n",
        "        numeric_cols (list): A list of numeric column names to plot. If None, plots all numeric columns.\n",
        "        save_path (str): The directory to save the plot. Defaults to './plots/'.\n",
        "    \"\"\"\n",
        "    # If numeric_cols is not provided, select all numeric columns\n",
        "    if numeric_cols is None:\n",
        "        numeric_cols = df.select_dtypes(include=np.number).columns\n",
        "\n",
        "    # Iterate through each numeric column and plot a boxplot\n",
        "    for col in numeric_cols:\n",
        "        # Create a figure and axes for the plot\n",
        "        fig, ax = plt.subplots(figsize=(6, 4))\n",
        "\n",
        "        # Create a boxplot\n",
        "        sns.boxplot(x=df[col], color='lightcoral', ax=ax)\n",
        "\n",
        "        # Set the title for the boxplot\n",
        "        ax.set_title(f\"Boxplot of {col}\")\n",
        "\n",
        "        # Replace '/' with '_' in filename to avoid path issues\n",
        "        filename = f\"boxplot_{col.replace('/', '_')}\"\n",
        "\n",
        "        # Save the plot to the specified path\n",
        "        save_plot(fig, filename, save_path)\n",
        "\n",
        "\n",
        "def plot_boxplots_by_class(df, features, label_col='Label', save_path='./plots/'):\n",
        "    \"\"\"\n",
        "    Create boxplots for specific features grouped by class.\n",
        "\n",
        "    Args:\n",
        "        df (pd.DataFrame): The input DataFrame.\n",
        "        features (list): A list of feature names to plot.\n",
        "        label_col (str): The name of the label column. Defaults to 'Label'.\n",
        "        save_path (str): The directory to save the plot. Defaults to './plots/'.\n",
        "    \"\"\"\n",
        "    # Iterate through each feature and plot a boxplot grouped by class\n",
        "    for col in features:\n",
        "        # Create a figure and axes for the plot\n",
        "        fig, ax = plt.subplots(figsize=(8, 5))\n",
        "\n",
        "        # Create a boxplot grouped by class\n",
        "        sns.boxplot(x=label_col, y=col, data=df, ax=ax)\n",
        "\n",
        "        # Rotate x-axis labels for better readability\n",
        "        plt.xticks(rotation=30)\n",
        "\n",
        "        # Set the title for the boxplot\n",
        "        ax.set_title(f\"Boxplot of {col} by Class\")\n",
        "\n",
        "        # Replace '/' with '_' in filename to avoid path issues\n",
        "        filename = f\"boxplot_by_class_{col.replace('/', '_')}\"\n",
        "\n",
        "        # Save the plot to the specified path\n",
        "        save_plot(fig, filename, save_path)\n",
        "\n",
        "\n",
        "def plot_pca_2d(X, y, save_path='./plots/'):\n",
        "    \"\"\"\n",
        "    Perform PCA and plot the first two components colored by class.\n",
        "\n",
        "    Args:\n",
        "        X (pd.DataFrame or np.ndarray): The input features.\n",
        "        y (pd.Series or np.ndarray): The target labels.\n",
        "        save_path (str): The directory to save the plot. Defaults to './plots/'.\n",
        "    \"\"\"\n",
        "    # Standardize the data before applying PCA\n",
        "    scaler = StandardScaler()\n",
        "    X_scaled = scaler.fit_transform(X)\n",
        "\n",
        "    # Apply PCA to reduce dimensions to 2\n",
        "    pca = PCA(n_components=2)\n",
        "    X_pca = pca.fit_transform(X_scaled)\n",
        "\n",
        "    # Create a DataFrame for plotting\n",
        "    df_pca = pd.DataFrame({\n",
        "        'PC1': X_pca[:, 0],\n",
        "        'PC2': X_pca[:, 1],\n",
        "        'Label': y.values if isinstance(y, pd.Series) else y\n",
        "    })\n",
        "\n",
        "    # Create a scatter plot of the first two principal components\n",
        "    fig, ax = plt.subplots(figsize=(7, 6))\n",
        "    sns.scatterplot(data=df_pca, x='PC1', y='PC2', hue='Label', palette='tab10', s=50, alpha=0.7)\n",
        "\n",
        "    # Set the title for the plot\n",
        "    ax.set_title(\"PCA 2D Projection\")\n",
        "\n",
        "    # Save the plot to the specified path\n",
        "    save_plot(fig, \"pca_2d_projection\", save_path)"
      ]
    },
    {
      "cell_type": "code",
      "execution_count": null,
      "metadata": {
        "id": "BoZs0GEUeZ5Z"
      },
      "outputs": [],
      "source": [
        "# --- Generate visualization plots for outlier analysis and dimensionality reduction ---\n",
        "\n",
        "# TODO: check and update this block\n",
        "# TODO: remove functions that are not needed\n",
        "\n",
        "# Create boxplots for top numeric features\n",
        "#plot_boxplots(df, numeric_cols=numeric_features, save_path=save_dir) % FIXME: check also the function\n",
        "top_features = numeric_features[:5]\n",
        "#plot_boxplots_by_class(df, features=top_features, save_path=save_dir) % FIXME: check also the function\n",
        "\n",
        "# Prepare clean dataset for PCA visualization\n",
        "df_cleaned = df.replace([np.inf, -np.inf], np.nan)\n",
        "\n",
        "# Impute missing values before PCA (fit imputer on full cleaned dataset)\n",
        "imputer = SimpleImputer(strategy='median')\n",
        "df_cleaned[numeric_features] = imputer.fit_transform(df_cleaned[numeric_features])\n",
        "\n",
        "# Generate PCA 2D projection to visualize class separation\n",
        "#plot_pca_2d(X=df_cleaned[numeric_features], y=df_cleaned['Label'], save_path=save_dir) % FIXME: check also the function"
      ]
    },
    {
      "cell_type": "code",
      "execution_count": null,
      "metadata": {
        "id": "GsY0Xe28wZjM"
      },
      "outputs": [],
      "source": [
        "def plot_boxplots_before_after(X_before, X_after, feature_names=None, save_path='./plots/'):\n",
        "    \"\"\"\n",
        "    Compare feature distributions before and after normalization using boxplots.\n",
        "    \"\"\"\n",
        "    # Use generic feature names if none are provided\n",
        "    if feature_names is None:\n",
        "        feature_names = [f'Feature_{i}' for i in range(X_before.shape[1])]\n",
        "\n",
        "    # Create DataFrames from the input arrays for easier plotting\n",
        "    df_before = pd.DataFrame(X_before, columns=feature_names)\n",
        "    df_after = pd.DataFrame(X_after, columns=feature_names)\n",
        "\n",
        "    # Iterate through each feature and create a comparison boxplot\n",
        "    for col in feature_names:\n",
        "        fig, axes = plt.subplots(1, 2, figsize=(10, 4))\n",
        "\n",
        "        # Boxplot for the data before normalization\n",
        "        sns.boxplot(y=df_before[col], ax=axes[0], color='lightgray')\n",
        "\n",
        "        # Boxplot for the data after normalization\n",
        "        sns.boxplot(y=df_after[col], ax=axes[1], color='lightblue')\n",
        "\n",
        "        # Set titles for the subplots\n",
        "        axes[0].set_title(f\"{col} (Before)\")\n",
        "        axes[1].set_title(f\"{col} (After)\")\n",
        "\n",
        "        # Set a main title for the figure\n",
        "        plt.suptitle(f\"Boxplot Comparison — {col}\")\n",
        "\n",
        "        # Replace '/' with '_' in filename to avoid path issues\n",
        "        filename = f\"boxplot_norm_comparison_{col.replace('/', '_')}\"\n",
        "\n",
        "        # Save the plot\n",
        "        save_plot(fig, filename, save_path)\n",
        "\n",
        "\n",
        "def plot_histograms_before_after(X_before, X_after, feature_names=None, bins=30, save_path='./plots/'):\n",
        "    \"\"\"\n",
        "    Compare feature histograms before and after normalization.\n",
        "    \"\"\"\n",
        "    # Use generic feature names if none are provided\n",
        "    if feature_names is None:\n",
        "        feature_names = [f'Feature_{i}' for i in range(X_before.shape[1])]\n",
        "\n",
        "    # Create DataFrames from the input arrays for easier plotting\n",
        "    df_before = pd.DataFrame(X_before, columns=feature_names)\n",
        "    df_after = pd.DataFrame(X_after, columns=feature_names)\n",
        "\n",
        "    # Iterate through each feature and create a comparison histogram\n",
        "    for col in feature_names:\n",
        "        fig, ax = plt.subplots(figsize=(6, 4))\n",
        "\n",
        "        # Histogram for the data before normalization\n",
        "        sns.histplot(df_before[col], bins=bins, color='red', label='Before', kde=True, stat=\"density\")\n",
        "\n",
        "        # Histogram for the data after normalization\n",
        "        sns.histplot(df_after[col], bins=bins, color='blue', label='After', kde=True, stat=\"density\")\n",
        "\n",
        "        # Set the title for the histogram\n",
        "        ax.set_title(f\"Histogram Comparison — {col}\")\n",
        "\n",
        "        # Add a legend to distinguish between before and after\n",
        "        ax.legend()\n",
        "\n",
        "        # Replace '/' with '_' in filename to avoid path issues\n",
        "        filename = f\"hist_norm_comparison_{col.replace('/', '_')}\"\n",
        "\n",
        "        # Save the plot\n",
        "        save_plot(fig, filename, save_path)"
      ]
    },
    {
      "cell_type": "code",
      "execution_count": null,
      "metadata": {
        "id": "wScvBxa2wZjM"
      },
      "outputs": [],
      "source": [
        "# --- Compare feature distributions before and after normalization ---\n",
        "\n",
        "# TODO: check and update this block\n",
        "# TODO: remove functions that are not needed\n",
        "\n",
        "# Generate comparison plots showing normalization effect\n",
        "#plot_boxplots_before_after(X_train, X_train_s, feature_names=numeric_features, save_path=save_dir) % FIXME: check also the function\n",
        "#plot_histograms_before_after(X_train, X_train_s, feature_names=numeric_features, save_path=save_dir) % FIXME: check also the function"
      ]
    },
    {
      "cell_type": "markdown",
      "metadata": {
        "id": "_QJSBi_iRPxw"
      },
      "source": [
        "## PyTorch datasets and loaders\n",
        "We convert standardized NumPy arrays to tensors and build dataloaders with a configurable batch size."
      ]
    },
    {
      "cell_type": "code",
      "execution_count": null,
      "metadata": {
        "id": "TEMXF-uXbHTI"
      },
      "outputs": [],
      "source": [
        "# Label encoding\n",
        "classes = sorted(pd.unique(y))\n",
        "class_to_idx = {c:i for i,c in enumerate(classes)}\n",
        "y_train_i = y_train.map(class_to_idx).to_numpy()\n",
        "y_val_i = y_val.map(class_to_idx).to_numpy()\n",
        "y_test_i = y_test.map(class_to_idx).to_numpy()\n",
        "\n",
        "# Tensors\n",
        "X_train_t = torch.tensor(X_train_s, dtype=torch.float32)\n",
        "X_val_t   = torch.tensor(X_val_s,   dtype=torch.float32)\n",
        "X_test_t  = torch.tensor(X_test_s,  dtype=torch.float32)\n",
        "y_train_t = torch.tensor(y_train_i, dtype=torch.long)\n",
        "y_val_t   = torch.tensor(y_val_i,   dtype=torch.long)\n",
        "y_test_t  = torch.tensor(y_test_i,  dtype=torch.long)\n",
        "\n",
        "INPUT_DIM = X_train_t.shape[1]\n",
        "NUM_CLASSES = len(classes)\n",
        "print(\"Input dim:\", INPUT_DIM, \"Classes:\", NUM_CLASSES, classes)\n",
        "\n",
        "# Dataloaders\n",
        "BATCH_SIZE = 64\n",
        "train_ds = TensorDataset(X_train_t, y_train_t)\n",
        "val_ds   = TensorDataset(X_val_t, y_val_t)\n",
        "test_ds  = TensorDataset(X_test_t, y_test_t)\n",
        "\n",
        "train_loader = DataLoader(train_ds, batch_size=BATCH_SIZE, shuffle=True)\n",
        "val_loader   = DataLoader(val_ds,   batch_size=BATCH_SIZE)\n",
        "test_loader  = DataLoader(test_ds,  batch_size=BATCH_SIZE)"
      ]
    },
    {
      "cell_type": "markdown",
      "metadata": {
        "id": "4hIyPgwBbHTI"
      },
      "source": [
        "## Training utilities\n",
        "Helper functions: training loop with early stopping, evaluation, and plotting loss curves."
      ]
    },
    {
      "cell_type": "code",
      "execution_count": null,
      "metadata": {
        "id": "kL2RavXfbHTI"
      },
      "outputs": [],
      "source": [
        "def train_one_epoch(model, loader, criterion, optimizer):\n",
        "    model.train()\n",
        "    total_loss = 0.0\n",
        "    for xb, yb in loader:\n",
        "        xb, yb = xb.to(device), yb.to(device)\n",
        "        optimizer.zero_grad()\n",
        "        logits = model(xb)\n",
        "        loss = criterion(logits, yb)\n",
        "        loss.backward()\n",
        "        optimizer.step()\n",
        "        total_loss += loss.item() * xb.size(0)\n",
        "    return total_loss / len(loader.dataset)\n",
        "\n",
        "@torch.no_grad()\n",
        "def evaluate(model, loader, criterion=None):\n",
        "    model.eval()\n",
        "    total_loss = 0.0\n",
        "    all_preds, all_targets = [], []\n",
        "    for xb, yb in loader:\n",
        "        xb, yb = xb.to(device), yb.to(device)\n",
        "        logits = model(xb)\n",
        "        if criterion is not None:\n",
        "            total_loss += criterion(logits, yb).item() * xb.size(0)\n",
        "        preds = torch.argmax(logits, dim=1)\n",
        "        all_preds.append(preds.cpu().numpy())\n",
        "        all_targets.append(yb.cpu().numpy())\n",
        "    all_preds = np.concatenate(all_preds)\n",
        "    all_targets = np.concatenate(all_targets)\n",
        "    avg_loss = (total_loss / len(loader.dataset)) if criterion is not None else None\n",
        "    return avg_loss, all_preds, all_targets\n",
        "\n",
        "class EarlyStopper:\n",
        "    def __init__(self, patience=10, mode='min'):\n",
        "        self.patience = patience\n",
        "        self.mode = mode\n",
        "        self.best = None\n",
        "        self.count = 0\n",
        "    def step(self, metric):\n",
        "        if self.best is None:\n",
        "            self.best = metric\n",
        "            return False\n",
        "        improve = metric < self.best if self.mode == 'min' else metric > self.best\n",
        "        if improve:\n",
        "            self.best = metric\n",
        "            self.count = 0\n",
        "            return False\n",
        "        else:\n",
        "            self.count += 1\n",
        "            return self.count >= self.patience\n",
        "\n",
        "def plot_losses(train_losses, val_losses, title, save_path=None):\n",
        "    fig, ax = plt.subplots(figsize=(6,4))\n",
        "    ax.plot(train_losses, label='train')\n",
        "    ax.plot(val_losses, label='val')\n",
        "    ax.set_xlabel('Epoch')\n",
        "    ax.set_ylabel('Loss')\n",
        "    ax.set_title(title)\n",
        "    ax.legend()\n",
        "    plt.tight_layout()\n",
        "    if save_path:\n",
        "        save_plot_to_drive(fig, Path(save_path).name, Path(save_path).parent)\n",
        "    plt.show()"
      ]
    },
    {
      "cell_type": "markdown",
      "metadata": {
        "id": "YZQQDEOsbHTI"
      },
      "source": [
        "## Task 2 — Shallow Neural Network (1 layer)\n",
        "We will:\n",
        "- Define a single-hidden-layer FFNN with hidden sizes h in {32, 64, 128}\n",
        "- Use Linear activation as requested (i.e., no nonlinearity) for the first run\n",
        "- Train with AdamW, lr=5e-4, batch=64, CE loss, up to 100 epochs with early stopping\n",
        "- Plot train/val losses, select best by lowest val loss, report validation classification\n",
        "- Evaluate best on test and compare to validation\n",
        "- Then change activation to ReLU for the best width and retrain; discuss change"
      ]
    },
    {
      "cell_type": "markdown",
      "metadata": {
        "id": "FVg9iDIHbHTJ"
      },
      "source": [
        "### ReLU variant for the best width\n",
        "Train the same architecture but with ReLU activation, then compare validation report to the linear version. Do NOT test-compare unless justified (overfitting risk)."
      ]
    },
    {
      "cell_type": "code",
      "execution_count": null,
      "metadata": {
        "id": "5vmSbNK-bHTJ"
      },
      "outputs": [],
      "source": [
        "# Train ReLU variant for the best width\n",
        "best_h = best['h']\n",
        "relu_tag = f\"shallow_relu_h{best_h}\"\n",
        "model_relu = ShallowFFNN(INPUT_DIM, best_h, NUM_CLASSES, activation='relu')\n",
        "model_relu, tr_r, va_r = train_model(model_relu, train_loader, val_loader, epochs=100, lr=5e-4, patience=10, tag=relu_tag)\n",
        "va_loss_r, va_preds_r, va_tgts_r = evaluate(model_relu, val_loader, nn.CrossEntropyLoss())\n",
        "print(\"Validation report (ReLU, best width)\")\n",
        "print(classification_report(va_tgts_r, va_preds_r, target_names=classes))\n",
        "print(\"Note: Comparing on test at this stage may be misleading; validate design choices first.\")"
      ]
    },
    {
      "cell_type": "markdown",
      "metadata": {
        "id": "_wYU39f7bHTJ"
      },
      "source": [
        "## Task 3 — Impact of specific features (Destination Port)\n",
        "Steps:\n",
        "1) Modify only the test split: for rows with Label==Brute Force and Destination Port==80, change to 8080. Re-run inference with the best model and compare test metrics to validation baseline.\n",
        "2) Remove the Destination Port feature entirely from the original dataset; redo preprocessing (cleaning, split, scaling); report PortScan counts before/after duplicates removal; discuss class balance.\n",
        "Note: Keep a copy of the original splits to ensure fair comparisons."
      ]
    },
    {
      "cell_type": "code",
      "execution_count": null,
      "metadata": {
        "id": "-TsIfOJNbHTJ"
      },
      "outputs": [],
      "source": [
        "# 3.1: Modify Destination Port for Brute Force in Test and re-evaluate\n",
        "if 'Destination Port' in feature_cols:\n",
        "    # Build a modifiable DataFrame for test\n",
        "    test_df = X_test.copy()\n",
        "    test_df['Label'] = y_test.values\n",
        "    before_counts = (test_df[(test_df['Label']=='Brute Force') & (test_df['Destination Port']==80)].shape[0])\n",
        "    # Change 80 -> 8080 for Brute Force\n",
        "    mask = (test_df['Label']=='Brute Force') & (test_df['Destination Port']==80)\n",
        "    test_df.loc[mask, 'Destination Port'] = 8080\n",
        "    after_counts = (test_df[(test_df['Label']=='Brute Force') & (test_df['Destination Port']==80)].shape[0])\n",
        "    print(f\"Changed Brute Force port 80 -> 8080 in test: {before_counts} rows affected, now {after_counts} with port==80\")\n",
        "\n",
        "    # Re-standardize using the SAME scaler (train fit)\n",
        "    test_df_std = scaler.transform(test_df[num_cols])\n",
        "    X_test_mod_t = torch.tensor(test_df_std, dtype=torch.float32)\n",
        "    y_test_mod_t = torch.tensor(y_test_i, dtype=torch.long)\n",
        "    test_mod_loader = DataLoader(TensorDataset(X_test_mod_t, y_test_mod_t), batch_size=BATCH_SIZE)\n",
        "\n",
        "    # Inference with the best validation model (from Task 2)\n",
        "    mod_loss, mod_preds, mod_tgts = evaluate(best_model, test_mod_loader, nn.CrossEntropyLoss())\n",
        "    print(\"Modified test loss:\", round(mod_loss, 4))\n",
        "    print(classification_report(mod_tgts, mod_preds, target_names=classes))\n",
        "else:\n",
        "    print(\"Destination Port feature not found; skip part 3.1.\")\n",
        "\n",
        "# 3.2: Remove Destination Port from the original dataset and redo preprocessing\n",
        "if 'Destination Port' in feature_cols:\n",
        "    noport_df = df.drop(columns=['Destination Port'])\n",
        "    print(\"Shape without Destination Port:\", noport_df.shape)\n",
        "    # Remove duplicates specifically and count PortScan before/after\n",
        "    portscan_before = df[df['Label']=='PortScan'].shape[0]\n",
        "    noport_df_nodup = noport_df.drop_duplicates()\n",
        "    labels_noport = noport_df_nodup['Label']\n",
        "    portscan_after = noport_df_nodup[labels_noport=='PortScan'].shape[0]\n",
        "    print(f\"PortScan count before: {portscan_before}, after dropping duplicates (no port): {portscan_after}\")\n",
        "    print(\"Class balance (no port, after dedupe):\\n\", labels_noport.value_counts())\n",
        "else:\n",
        "    print(\"Destination Port feature not present; already removed earlier.\")"
      ]
    },
    {
      "cell_type": "markdown",
      "metadata": {
        "id": "W5vpgTO5bHTJ"
      },
      "source": [
        "## Task 4 — Impact of Loss Function (class weighting)\n",
        "- Compute class weights from the training partition only, using sklearn `compute_class_weight(class_weight='balanced')`\n",
        "- Retrain the best architecture (from Task 2 or after port removal, depending on stage)\n",
        "- Compare per-class metrics, accuracy, and F1 against unweighted run"
      ]
    },
    {
      "cell_type": "code",
      "execution_count": null,
      "metadata": {
        "id": "cjUSZpsPbHTJ"
      },
      "outputs": [],
      "source": [
        "# Compute class weights from TRAIN partition\n",
        "classes_arr = np.array(classes)\n",
        "weights = compute_class_weight(class_weight='balanced', classes=classes_arr, y=y_train.values)\n",
        "print(\"Class weights (train):\", dict(zip(classes, np.round(weights,3))))\n",
        "\n",
        "# Map weights to class index order 0..NUM_CLASSES-1\n",
        "weight_vec = np.array([weights[list(classes_arr).index(c)] for c in classes])\n",
        "\n",
        "# Retrain best shallow width with weights (use ReLU variant for stronger baseline)\n",
        "weighted_tag = f\"shallow_weighted_h{best_h}\"\n",
        "weighted_model = ShallowFFNN(INPUT_DIM, best_h, NUM_CLASSES, activation='relu')\n",
        "weighted_model, tr_w, va_w = train_model(\n",
        "    weighted_model, train_loader, val_loader, epochs=100, lr=5e-4, patience=10, tag=weighted_tag,\n",
        "    weight=weight_vec\n",
        ")\n",
        "va_loss_w, va_preds_w, va_tgts_w = evaluate(weighted_model, val_loader, nn.CrossEntropyLoss())\n",
        "print(\"Validation (weighted):\")\n",
        "print(classification_report(va_tgts_w, va_preds_w, target_names=classes))"
      ]
    },
    {
      "cell_type": "markdown",
      "metadata": {
        "id": "o8lrIiG6bHTK"
      },
      "source": [
        "## Task 5 — Deep Neural Networks, Batch Size, Optimizers\n",
        "We will:\n",
        "- Try depths L in {3, 4, 5} and for each try 2 hidden-size patterns (total 6)\n",
        "- Use ReLU, AdamW, lr=5e-4, epochs<=50 with early stopping\n",
        "- Select best by validation; evaluate best on test\n",
        "- Compare batch sizes {4, 64, 256, 1024} on best arch: report validation metrics and wall-clock time\n",
        "- Compare optimizers: SGD, SGD+Momentum (0.1, 0.5, 0.9), AdamW; analyze losses and times; then tune LR/epochs for the best"
      ]
    },
    {
      "cell_type": "code",
      "execution_count": null,
      "metadata": {
        "id": "q8FOzAnKbHTK"
      },
      "outputs": [],
      "source": [
        "class DeepFFNN(nn.Module):\n",
        "    def __init__(self, input_dim, layers, num_classes):\n",
        "        super().__init__()\n",
        "        dims = [input_dim] + layers\n",
        "        mods = []\n",
        "        for i in range(len(dims)-1):\n",
        "            mods.append(nn.Linear(dims[i], dims[i+1]))\n",
        "            mods.append(nn.ReLU())\n",
        "        mods.append(nn.Linear(dims[-1], num_classes))\n",
        "        self.net = nn.Sequential(*mods)\n",
        "    def forward(self, x):\n",
        "        return self.net(x)\n",
        "\n",
        "# Architectures to try: two per depth 3,4,5\n",
        "arch_grid = {\n",
        "    3: [[32,16,8],[64,32,16]],\n",
        "    4: [[64,32,16,8],[32,32,16,8]],\n",
        "    5: [[128,64,32,16,8],[32,32,32,16,8]],\n",
        "}\n",
        "\n",
        "arch_results = []\n",
        "for depth, patterns in arch_grid.items():\n",
        "    for pattern in patterns:\n",
        "        tag = f\"deep_L{depth}_h{'-'.join(map(str,pattern))}\"\n",
        "        model = DeepFFNN(INPUT_DIM, pattern, NUM_CLASSES)\n",
        "        model, tr_d, va_d = train_model(model, train_loader, val_loader, epochs=50, lr=5e-4, patience=8, tag=tag)\n",
        "        va_loss_d, va_preds_d, va_tgts_d = evaluate(model, val_loader, nn.CrossEntropyLoss())\n",
        "        rep_d = classification_report(va_tgts_d, va_preds_d, target_names=classes, output_dict=True)\n",
        "        arch_results.append({\"depth\":depth, \"pattern\":pattern, \"val_loss\":va_loss_d, \"report\":rep_d, \"model\":model, \"tag\":tag})\n",
        "\n",
        "best_deep = min(arch_results, key=lambda r: r['val_loss'])\n",
        "print(\"Best deep arch:\", best_deep['pattern'], \"(L=\", len(best_deep['pattern']), \") val_loss=\", round(best_deep['val_loss'],4))\n",
        "\n",
        "# Evaluate best deep on test\n",
        "best_deep_model = best_deep['model']\n",
        "loss_td, preds_td, tgts_td = evaluate(best_deep_model, test_loader, nn.CrossEntropyLoss())\n",
        "print(\"Test report (best deep):\")\n",
        "print(classification_report(tgts_td, preds_td, target_names=classes))\n",
        "\n",
        "# Batch size experiment\n",
        "for bs in [4, 64, 256, 1024]:\n",
        "    tl = DataLoader(train_ds, batch_size=bs, shuffle=True)\n",
        "    vl = DataLoader(val_ds, batch_size=bs)\n",
        "    model = DeepFFNN(INPUT_DIM, best_deep['pattern'], NUM_CLASSES)\n",
        "    start = time.time()\n",
        "    model, tr_b, va_b = train_model(model, tl, vl, epochs=50, lr=5e-4, patience=8, tag=f\"deep_bs{bs}\")\n",
        "    elapsed = time.time()-start\n",
        "    va_loss_b, va_preds_b, va_tgts_b = evaluate(model, vl, nn.CrossEntropyLoss())\n",
        "    print(f\"BS={bs}: val_loss={va_loss_b:.4f}, time={elapsed:.1f}s\")\n",
        "\n",
        "# Optimizer experiment\n",
        "optims = [\n",
        "    (\"SGD\", lambda params: optim.SGD(params, lr=5e-3)),\n",
        "    (\"SGD_m0.1\", lambda params: optim.SGD(params, lr=5e-3, momentum=0.1)),\n",
        "    (\"SGD_m0.5\", lambda params: optim.SGD(params, lr=5e-3, momentum=0.5)),\n",
        "    (\"SGD_m0.9\", lambda params: optim.SGD(params, lr=5e-3, momentum=0.9)),\n",
        "    (\"AdamW\", lambda params: optim.AdamW(params, lr=5e-4)),\n",
        "]\n",
        "\n",
        "opt_results = []\n",
        "for name, factory in optims:\n",
        "    model = DeepFFNN(INPUT_DIM, best_deep['pattern'], NUM_CLASSES).to(device)\n",
        "    criterion = nn.CrossEntropyLoss()\n",
        "    optimizer = factory(model.parameters())\n",
        "    es = EarlyStopper(patience=8, mode='min')\n",
        "    tr_losses, va_losses = [], []\n",
        "    start = time.time()\n",
        "    for ep in range(50):\n",
        "        tr = train_one_epoch(model, train_loader, criterion, optimizer)\n",
        "        va, _, _ = evaluate(model, val_loader, criterion)\n",
        "        tr_losses.append(tr); va_losses.append(va)\n",
        "        if es.step(va):\n",
        "            break\n",
        "    elapsed = time.time()-start\n",
        "    va_loss_o, va_preds_o, va_tgts_o = evaluate(model, val_loader, criterion)\n",
        "    opt_results.append((name, va_loss_o, elapsed))\n",
        "    # Use the global FIG_DIR for saving optimizer plots\n",
        "    plot_losses(tr_losses, va_losses, f\"opt_{name}\", save_path=FIG_DIR/f\"opt_{name}_loss.png\")\n",
        "\n",
        "print(\"Optimizer comparison (name, val_loss, time_s):\", [(n, round(l,4), round(t,1)) for n,l,t in opt_results])"
      ]
    },
    {
      "cell_type": "markdown",
      "metadata": {
        "id": "9Ok6n30zbHTK"
      },
      "source": [
        "## Task 6 — Overfitting and Regularization\n",
        "- Build 6-layer FFNN with widths [256, 128, 64, 32, 16] (the final layer is num_classes)\n",
        "- Train with ReLU, AdamW lr=5e-4, batch=128, epochs=50\n",
        "- Inspect losses for signs of overfitting\n",
        "- Add Dropout and BatchNorm variants; try weight decay (AdamW) and compare validation/test"
      ]
    },
    {
      "cell_type": "code",
      "execution_count": null,
      "metadata": {
        "id": "7QhMq3babHTK"
      },
      "outputs": [],
      "source": [
        "class RegFFNN(nn.Module):\n",
        "    def __init__(self, input_dim, widths, num_classes, dropout=0.0, batchnorm=False):\n",
        "        super().__init__()\n",
        "        layers = []\n",
        "        prev = input_dim\n",
        "        for w in widths:\n",
        "            layers.append(nn.Linear(prev, w))\n",
        "            if batchnorm:\n",
        "                layers.append(nn.BatchNorm1d(w))\n",
        "            layers.append(nn.ReLU())\n",
        "            if dropout > 0:\n",
        "                layers.append(nn.Dropout(dropout))\n",
        "            prev = w\n",
        "        layers.append(nn.Linear(prev, num_classes))\n",
        "        self.net = nn.Sequential(*layers)\n",
        "    def forward(self, x):\n",
        "        return self.net(x)\n",
        "\n",
        "# Baseline (no regularization)\n",
        "widths6 = [256,128,64,32,16]\n",
        "BATCH_SIZE = 128\n",
        "train_loader6 = DataLoader(train_ds, batch_size=BATCH_SIZE, shuffle=True)\n",
        "val_loader6   = DataLoader(val_ds, batch_size=BATCH_SIZE)\n",
        "\n",
        "model6 = RegFFNN(INPUT_DIM, widths6, NUM_CLASSES, dropout=0.0, batchnorm=False)\n",
        "model6, tr6, va6 = train_model(model6, train_loader6, val_loader6, epochs=50, lr=5e-4, patience=8, tag=\"reg_L6_base\")\n",
        "va_loss6, va_preds6, va_tgts6 = evaluate(model6, val_loader6, nn.CrossEntropyLoss())\n",
        "print(\"Validation (no regularization):\")\n",
        "print(classification_report(va_tgts6, va_preds6, target_names=classes))\n",
        "\n",
        "# Dropout + BatchNorm + weight decay variants\n",
        "for dp in [0.2, 0.5]:\n",
        "    for bn in [False, True]:\n",
        "        tag = f\"reg_L6_dp{dp}_bn{int(bn)}\"\n",
        "        m = RegFFNN(INPUT_DIM, widths6, NUM_CLASSES, dropout=dp, batchnorm=bn).to(device)\n",
        "        weight_decay = 1e-4 if bn else 5e-4\n",
        "        # Custom train loop to set weight decay\n",
        "        criterion = nn.CrossEntropyLoss()\n",
        "        optimizer = optim.AdamW(m.parameters(), lr=5e-4, weight_decay=weight_decay)\n",
        "        es = EarlyStopper(patience=8, mode='min')\n",
        "        tr_losses, va_losses = [], []\n",
        "        for ep in range(50):\n",
        "            tr = train_one_epoch(m, train_loader6, criterion, optimizer)\n",
        "            va, _, _ = evaluate(m, val_loader6, criterion)\n",
        "            tr_losses.append(tr); va_losses.append(va)\n",
        "            if es.step(va):\n",
        "                break\n",
        "        # Use the global FIG_DIR for saving regularization plots\n",
        "        plot_losses(tr_losses, va_losses, tag, save_path=FIG_DIR/f\"{tag}_loss.png\")\n",
        "        vLoss, vp, vt = evaluate(m, val_loader6, criterion)\n",
        "        print(f\"Variant {tag} — val_loss={vLoss:.4f}\")"
      ]
    },
    {
      "cell_type": "code",
      "execution_count": null,
      "metadata": {
        "id": "e7gYhz6vbHTK"
      },
      "outputs": [],
      "source": [
        "class ShallowFFNN(nn.Module):\n",
        "    def __init__(self, input_dim, hidden_dim, num_classes, activation='linear'):\n",
        "        super().__init__()\n",
        "        self.fc1 = nn.Linear(input_dim, hidden_dim)\n",
        "        self.fc_out = nn.Linear(hidden_dim, num_classes)\n",
        "        self.activation = activation\n",
        "        if activation == 'relu':\n",
        "            self.act = nn.ReLU()\n",
        "        else:\n",
        "            self.act = nn.Identity()\n",
        "    def forward(self, x):\n",
        "        x = self.act(self.fc1(x))\n",
        "        return self.fc_out(x)\n",
        "\n",
        "\n",
        "def train_model(model, train_loader, val_loader, epochs=100, lr=5e-4, weight=None, patience=10, tag=\"model\"):\n",
        "    model = model.to(device)\n",
        "    weight_t = torch.tensor(weight, dtype=torch.float32, device=device) if weight is not None else None\n",
        "    criterion = nn.CrossEntropyLoss(weight=weight_t)\n",
        "    optimizer = optim.AdamW(model.parameters(), lr=lr)\n",
        "    es = EarlyStopper(patience=patience, mode='min')\n",
        "\n",
        "    tr_losses, va_losses = [] , []\n",
        "    best_state, best_va = None, float('inf')\n",
        "\n",
        "    # Assuming FIG_DIR is defined elsewhere, create it if not\n",
        "    global FIG_DIR # Access the global variable\n",
        "    if 'FIG_DIR' not in globals():\n",
        "         FIG_DIR = Path(results_path) / 'figures' # Or wherever you want to save\n",
        "         os.makedirs(FIG_DIR, exist_ok=True)\n",
        "\n",
        "\n",
        "    for ep in range(epochs):\n",
        "        tr = train_one_epoch(model, train_loader, criterion, optimizer)\n",
        "        va, _, _ = evaluate(model, val_loader, criterion)\n",
        "        tr_losses.append(tr)\n",
        "        va_losses.append(va)\n",
        "        if va < best_va:\n",
        "            best_va = va\n",
        "            best_state = {k:v.detach().cpu().clone() for k,v in model.state_dict().items()}\n",
        "        if es.step(va):\n",
        "            break\n",
        "    # restore best\n",
        "    if best_state is not None:\n",
        "        model.load_state_dict(best_state)\n",
        "    # plot\n",
        "    plot_losses(tr_losses, va_losses, f\"{tag} losses\", save_path=FIG_DIR/f\"{tag}_loss.png\")\n",
        "    return model, tr_losses, va_losses\n",
        "\n",
        "# Train three widths with linear activation\n",
        "hidden_sizes = [32, 64, 128]\n",
        "results = []\n",
        "for h in hidden_sizes:\n",
        "    tag = f\"shallow_linear_h{h}\"\n",
        "    m = ShallowFFNN(INPUT_DIM, h, NUM_CLASSES, activation='linear')\n",
        "    m, tr, va = train_model(m, train_loader, val_loader, epochs=100, lr=5e-4, patience=10, tag=tag)\n",
        "    va_loss, va_preds, va_tgts = evaluate(m, val_loader, nn.CrossEntropyLoss())\n",
        "    rep = classification_report(va_tgts, va_preds, target_names=classes, output_dict=True)\n",
        "    results.append({\"h\":h, \"val_loss\":va_loss, \"report\":rep, \"model\":m})\n",
        "    # save report\n",
        "    with open(METRICS_DIR/f\"{tag}_val_report.json\", \"w\") as f:\n",
        "        json.dump(rep, f, indent=2)\n",
        "\n",
        "# Select best by lowest val loss\n",
        "best = min(results, key=lambda r: r[\"val_loss\"])\n",
        "print(\"Best width (linear):\", best[\"h\"], \"val_loss:\", best[\"val_loss\"])"
      ]
    },
    {
      "cell_type": "code",
      "execution_count": null,
      "metadata": {
        "id": "LuVDciWEbHTK"
      },
      "outputs": [],
      "source": [
        "# Validation reports for the 3 linear models (summary)\n",
        "for r in results:\n",
        "    h = r['h']\n",
        "    rep = r['report']\n",
        "    print(f\"\\nWidth {h} — Val loss: {r['val_loss']:.4f}\")\n",
        "    # Compact summary per class + macro/weighted\n",
        "    keys = list(classes) + ['macro avg','weighted avg','accuracy']\n",
        "    compact = {}\n",
        "    for k in keys:\n",
        "        if k in rep:\n",
        "            if k == 'accuracy':\n",
        "                compact[k] = round(rep[k], 4)\n",
        "            else:\n",
        "                compact[k] = {m: round(rep[k][m], 4) for m in ['precision','recall','f1-score'] if m in rep[k]}\n",
        "    print(compact)\n",
        "\n",
        "# Test evaluation for best linear model\n",
        "best_model = best['model']\n",
        "test_loss, test_preds, test_tgts = evaluate(best_model, test_loader, nn.CrossEntropyLoss())\n",
        "print(\"\\nTest loss (best linear):\", round(test_loss, 4))\n",
        "print(\"Validation vs Test — compare metrics (test shown below)\")\n",
        "print(classification_report(test_tgts, test_preds, target_names=classes))"
      ]
    }
  ],
  "metadata": {
    "colab": {
      "collapsed_sections": [
        "_QJSBi_iRPxw",
        "4hIyPgwBbHTI",
        "YZQQDEOsbHTI",
        "_wYU39f7bHTJ",
        "W5vpgTO5bHTJ",
        "o8lrIiG6bHTK",
        "9Ok6n30zbHTK"
      ],
      "provenance": [],
      "include_colab_link": true
    },
    "kernelspec": {
      "display_name": "venv",
      "language": "python",
      "name": "python3"
    },
    "language_info": {
      "codemirror_mode": {
        "name": "ipython",
        "version": 3
      },
      "file_extension": ".py",
      "mimetype": "text/x-python",
      "name": "python",
      "nbconvert_exporter": "python",
      "pygments_lexer": "ipython3",
      "version": "3.14.0"
    }
  },
  "nbformat": 4,
  "nbformat_minor": 0
}