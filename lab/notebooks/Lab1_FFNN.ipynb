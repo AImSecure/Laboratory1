{
  "cells": [
    {
      "cell_type": "markdown",
      "metadata": {
        "id": "view-in-github",
        "colab_type": "text"
      },
      "source": [
        "<a href=\"https://colab.research.google.com/github/AImSecure/Laboratory1/blob/main/lab/notebooks/Lab1_FFNN.ipynb\" target=\"_parent\"><img src=\"https://colab.research.google.com/assets/colab-badge.svg\" alt=\"Open In Colab\"/></a>"
      ]
    },
    {
      "cell_type": "markdown",
      "metadata": {
        "id": "KaRjftvSROvg"
      },
      "source": [
        "# Laboratory 1 — Feed Forward Neural Networks\n",
        "\n",
        "This notebook follows the lab brief in `resources/Lab1_FFNN.txt` and is organized into tasks:\n",
        "- Task 1: Data preprocessing (cleaning, splitting, outliers, normalization)\n",
        "- Task 2: Shallow NN (1 layer), train sizes {32, 64, 128}, metrics and analysis; then ReLU change\n",
        "- Task 3: Impact of specific features (Destination Port), bias test and port removal\n",
        "- Task 4: Loss function impact (weighted CrossEntropy)\n",
        "- Task 5: Deep NN, batch size, optimizer comparisons\n",
        "- Task 6: Overfitting and regularization (dropout, batchnorm, weight decay)"
      ]
    },
    {
      "cell_type": "markdown",
      "source": [
        "## Setup"
      ],
      "metadata": {
        "id": "NXfnBkl-P0ma"
      }
    },
    {
      "cell_type": "code",
      "execution_count": null,
      "metadata": {
        "colab": {
          "base_uri": "https://localhost:8080/"
        },
        "id": "svE8FspeRPW3",
        "outputId": "a9a9253d-1b1c-4162-e034-8d4db5f1f410"
      },
      "outputs": [
        {
          "output_type": "stream",
          "name": "stdout",
          "text": [
            "Python 3.12.12\n",
            "Requirement already satisfied: pip in /usr/local/lib/python3.12/dist-packages (25.2)\n"
          ]
        }
      ],
      "source": [
        "# --- Check Python and pip versions ---\n",
        "!python --version\n",
        "!pip install --upgrade pip"
      ]
    },
    {
      "cell_type": "code",
      "execution_count": null,
      "metadata": {
        "colab": {
          "base_uri": "https://localhost:8080/"
        },
        "id": "fyfyzIzWbHTG",
        "outputId": "d33e306f-e6c4-4045-862b-621d5e1b4e98"
      },
      "outputs": [
        {
          "output_type": "stream",
          "name": "stdout",
          "text": [
            "Requirement already satisfied: torch in /usr/local/lib/python3.12/dist-packages (2.8.0+cu126)\n",
            "Requirement already satisfied: filelock in /usr/local/lib/python3.12/dist-packages (from torch) (3.20.0)\n",
            "Requirement already satisfied: typing-extensions>=4.10.0 in /usr/local/lib/python3.12/dist-packages (from torch) (4.15.0)\n",
            "Requirement already satisfied: setuptools in /usr/local/lib/python3.12/dist-packages (from torch) (75.2.0)\n",
            "Requirement already satisfied: sympy>=1.13.3 in /usr/local/lib/python3.12/dist-packages (from torch) (1.13.3)\n",
            "Requirement already satisfied: networkx in /usr/local/lib/python3.12/dist-packages (from torch) (3.5)\n",
            "Requirement already satisfied: jinja2 in /usr/local/lib/python3.12/dist-packages (from torch) (3.1.6)\n",
            "Requirement already satisfied: fsspec in /usr/local/lib/python3.12/dist-packages (from torch) (2025.3.0)\n",
            "Requirement already satisfied: nvidia-cuda-nvrtc-cu12==12.6.77 in /usr/local/lib/python3.12/dist-packages (from torch) (12.6.77)\n",
            "Requirement already satisfied: nvidia-cuda-runtime-cu12==12.6.77 in /usr/local/lib/python3.12/dist-packages (from torch) (12.6.77)\n",
            "Requirement already satisfied: nvidia-cuda-cupti-cu12==12.6.80 in /usr/local/lib/python3.12/dist-packages (from torch) (12.6.80)\n",
            "Requirement already satisfied: nvidia-cudnn-cu12==9.10.2.21 in /usr/local/lib/python3.12/dist-packages (from torch) (9.10.2.21)\n",
            "Requirement already satisfied: nvidia-cublas-cu12==12.6.4.1 in /usr/local/lib/python3.12/dist-packages (from torch) (12.6.4.1)\n",
            "Requirement already satisfied: nvidia-cufft-cu12==11.3.0.4 in /usr/local/lib/python3.12/dist-packages (from torch) (11.3.0.4)\n",
            "Requirement already satisfied: nvidia-curand-cu12==10.3.7.77 in /usr/local/lib/python3.12/dist-packages (from torch) (10.3.7.77)\n",
            "Requirement already satisfied: nvidia-cusolver-cu12==11.7.1.2 in /usr/local/lib/python3.12/dist-packages (from torch) (11.7.1.2)\n",
            "Requirement already satisfied: nvidia-cusparse-cu12==12.5.4.2 in /usr/local/lib/python3.12/dist-packages (from torch) (12.5.4.2)\n",
            "Requirement already satisfied: nvidia-cusparselt-cu12==0.7.1 in /usr/local/lib/python3.12/dist-packages (from torch) (0.7.1)\n",
            "Requirement already satisfied: nvidia-nccl-cu12==2.27.3 in /usr/local/lib/python3.12/dist-packages (from torch) (2.27.3)\n",
            "Requirement already satisfied: nvidia-nvtx-cu12==12.6.77 in /usr/local/lib/python3.12/dist-packages (from torch) (12.6.77)\n",
            "Requirement already satisfied: nvidia-nvjitlink-cu12==12.6.85 in /usr/local/lib/python3.12/dist-packages (from torch) (12.6.85)\n",
            "Requirement already satisfied: nvidia-cufile-cu12==1.11.1.6 in /usr/local/lib/python3.12/dist-packages (from torch) (1.11.1.6)\n",
            "Requirement already satisfied: triton==3.4.0 in /usr/local/lib/python3.12/dist-packages (from torch) (3.4.0)\n",
            "Requirement already satisfied: mpmath<1.4,>=1.1.0 in /usr/local/lib/python3.12/dist-packages (from sympy>=1.13.3->torch) (1.3.0)\n",
            "Requirement already satisfied: MarkupSafe>=2.0 in /usr/local/lib/python3.12/dist-packages (from jinja2->torch) (3.0.3)\n",
            "Requirement already satisfied: numpy in /usr/local/lib/python3.12/dist-packages (2.0.2)\n",
            "Requirement already satisfied: pandas in /usr/local/lib/python3.12/dist-packages (2.2.2)\n",
            "Requirement already satisfied: scikit-learn in /usr/local/lib/python3.12/dist-packages (1.6.1)\n",
            "Requirement already satisfied: matplotlib in /usr/local/lib/python3.12/dist-packages (3.10.0)\n",
            "Requirement already satisfied: seaborn in /usr/local/lib/python3.12/dist-packages (0.13.2)\n",
            "Requirement already satisfied: python-dateutil>=2.8.2 in /usr/local/lib/python3.12/dist-packages (from pandas) (2.9.0.post0)\n",
            "Requirement already satisfied: pytz>=2020.1 in /usr/local/lib/python3.12/dist-packages (from pandas) (2025.2)\n",
            "Requirement already satisfied: tzdata>=2022.7 in /usr/local/lib/python3.12/dist-packages (from pandas) (2025.2)\n",
            "Requirement already satisfied: scipy>=1.6.0 in /usr/local/lib/python3.12/dist-packages (from scikit-learn) (1.16.2)\n",
            "Requirement already satisfied: joblib>=1.2.0 in /usr/local/lib/python3.12/dist-packages (from scikit-learn) (1.5.2)\n",
            "Requirement already satisfied: threadpoolctl>=3.1.0 in /usr/local/lib/python3.12/dist-packages (from scikit-learn) (3.6.0)\n",
            "Requirement already satisfied: contourpy>=1.0.1 in /usr/local/lib/python3.12/dist-packages (from matplotlib) (1.3.3)\n",
            "Requirement already satisfied: cycler>=0.10 in /usr/local/lib/python3.12/dist-packages (from matplotlib) (0.12.1)\n",
            "Requirement already satisfied: fonttools>=4.22.0 in /usr/local/lib/python3.12/dist-packages (from matplotlib) (4.60.1)\n",
            "Requirement already satisfied: kiwisolver>=1.3.1 in /usr/local/lib/python3.12/dist-packages (from matplotlib) (1.4.9)\n",
            "Requirement already satisfied: packaging>=20.0 in /usr/local/lib/python3.12/dist-packages (from matplotlib) (25.0)\n",
            "Requirement already satisfied: pillow>=8 in /usr/local/lib/python3.12/dist-packages (from matplotlib) (11.3.0)\n",
            "Requirement already satisfied: pyparsing>=2.3.1 in /usr/local/lib/python3.12/dist-packages (from matplotlib) (3.2.5)\n",
            "Requirement already satisfied: six>=1.5 in /usr/local/lib/python3.12/dist-packages (from python-dateutil>=2.8.2->pandas) (1.17.0)\n",
            "Requirement already satisfied: tqdm in /usr/local/lib/python3.12/dist-packages (4.67.1)\n"
          ]
        }
      ],
      "source": [
        "# --- Install required libraries ---\n",
        "!pip install torch\n",
        "!pip install numpy pandas scikit-learn matplotlib seaborn\n",
        "!pip install tqdm"
      ]
    },
    {
      "cell_type": "code",
      "execution_count": null,
      "metadata": {
        "id": "vZXgjER_TsGp"
      },
      "outputs": [],
      "source": [
        "# --- Import libraries ---\n",
        "import os\n",
        "import time\n",
        "import numpy as np\n",
        "import pandas as pd\n",
        "import matplotlib.pyplot as plt\n",
        "import seaborn as sns\n",
        "import json\n",
        "\n",
        "from sklearn.model_selection import train_test_split\n",
        "from sklearn.preprocessing import StandardScaler, MinMaxScaler, RobustScaler, LabelEncoder\n",
        "from sklearn.utils.class_weight import compute_class_weight\n",
        "from sklearn.metrics import classification_report, confusion_matrix, accuracy_score, f1_score\n",
        "from sklearn.decomposition import PCA\n",
        "from sklearn.impute import SimpleImputer\n",
        "\n",
        "import torch\n",
        "import torch.nn as nn\n",
        "import torch.optim as optim\n",
        "from torch.utils.data import Dataset, DataLoader, TensorDataset\n",
        "\n",
        "from tqdm import tqdm"
      ]
    },
    {
      "cell_type": "markdown",
      "metadata": {
        "id": "w201oyWVxE9k"
      },
      "source": [
        "### Colab Pro"
      ]
    },
    {
      "cell_type": "code",
      "execution_count": null,
      "metadata": {
        "colab": {
          "base_uri": "https://localhost:8080/"
        },
        "id": "_kIggYNUxFuZ",
        "outputId": "d6443209-0a42-4550-ddfc-d55922300a5c"
      },
      "outputs": [
        {
          "output_type": "stream",
          "name": "stdout",
          "text": [
            "Mon Oct 20 20:24:12 2025       \n",
            "+-----------------------------------------------------------------------------------------+\n",
            "| NVIDIA-SMI 550.54.15              Driver Version: 550.54.15      CUDA Version: 12.4     |\n",
            "|-----------------------------------------+------------------------+----------------------+\n",
            "| GPU  Name                 Persistence-M | Bus-Id          Disp.A | Volatile Uncorr. ECC |\n",
            "| Fan  Temp   Perf          Pwr:Usage/Cap |           Memory-Usage | GPU-Util  Compute M. |\n",
            "|                                         |                        |               MIG M. |\n",
            "|=========================================+========================+======================|\n",
            "|   0  Tesla T4                       Off |   00000000:00:04.0 Off |                    0 |\n",
            "| N/A   37C    P8              9W /   70W |       2MiB /  15360MiB |      0%      Default |\n",
            "|                                         |                        |                  N/A |\n",
            "+-----------------------------------------+------------------------+----------------------+\n",
            "                                                                                         \n",
            "+-----------------------------------------------------------------------------------------+\n",
            "| Processes:                                                                              |\n",
            "|  GPU   GI   CI        PID   Type   Process name                              GPU Memory |\n",
            "|        ID   ID                                                               Usage      |\n",
            "|=========================================================================================|\n",
            "|  No running processes found                                                             |\n",
            "+-----------------------------------------------------------------------------------------+\n"
          ]
        }
      ],
      "source": [
        "# --- Check GPU availability ---\n",
        "gpu_info = !nvidia-smi\n",
        "gpu_info = '\\n'.join(gpu_info)\n",
        "if gpu_info.find('failed') >= 0:\n",
        "  print('Not connected to a GPU')\n",
        "else:\n",
        "  print(gpu_info)"
      ]
    },
    {
      "cell_type": "code",
      "execution_count": null,
      "metadata": {
        "colab": {
          "base_uri": "https://localhost:8080/"
        },
        "id": "DH-w_NELxHpV",
        "outputId": "61d4bd0b-2796-49eb-c45c-5c683b115362"
      },
      "outputs": [
        {
          "output_type": "stream",
          "name": "stdout",
          "text": [
            "Your runtime has 13.6 gigabytes of available RAM\n",
            "\n",
            "Not using a high-RAM runtime\n"
          ]
        }
      ],
      "source": [
        "# --- Check RAM availability ---\n",
        "from psutil import virtual_memory\n",
        "ram_gb = virtual_memory().total / 1e9\n",
        "print('Your runtime has {:.1f} gigabytes of available RAM\\n'.format(ram_gb))\n",
        "\n",
        "if ram_gb < 20:\n",
        "  print('Not using a high-RAM runtime')\n",
        "else:\n",
        "  print('You are using a high-RAM runtime!')"
      ]
    },
    {
      "cell_type": "markdown",
      "metadata": {
        "id": "2rFNp6fgTv9w"
      },
      "source": [
        "### Paths setup\n"
      ]
    },
    {
      "cell_type": "code",
      "execution_count": null,
      "metadata": {
        "colab": {
          "base_uri": "https://localhost:8080/"
        },
        "id": "rAnAndzpTxe5",
        "outputId": "ad72b12e-8342-48b1-96d6-85b9a372900e"
      },
      "outputs": [
        {
          "output_type": "stream",
          "name": "stdout",
          "text": [
            "Drive already mounted at /content/drive; to attempt to forcibly remount, call drive.mount(\"/content/drive\", force_remount=True).\n"
          ]
        }
      ],
      "source": [
        "# --- Mount Google Drive (for Google Colab users) ---\n",
        "from google.colab import drive\n",
        "drive.mount('/content/drive')"
      ]
    },
    {
      "cell_type": "code",
      "execution_count": null,
      "metadata": {
        "colab": {
          "base_uri": "https://localhost:8080/"
        },
        "id": "XqMS_38yTvFN",
        "outputId": "8a55f6cd-baf9-4254-c6d1-6d89e90b0966"
      },
      "outputs": [
        {
          "output_type": "stream",
          "name": "stdout",
          "text": [
            "Project path: /content/drive/MyDrive/Projects/AImSecure/Laboratory1/\n",
            "Data path: /content/drive/MyDrive/Projects/AImSecure/Laboratory1/data/\n",
            "Results path: /content/drive/MyDrive/Projects/AImSecure/Laboratory1/results/\n"
          ]
        }
      ],
      "source": [
        "# --- Define Paths ---\n",
        "group = 'AImSecure'\n",
        "laboratory = 'Laboratory1'\n",
        "\n",
        "base_path = '/content/drive/MyDrive/'\n",
        "project_path = base_path + f'Projects/{group}/{laboratory}/'\n",
        "data_path = project_path + 'data/'\n",
        "results_path = project_path + 'results/'\n",
        "\n",
        "# Ensure directories exist\n",
        "os.makedirs(project_path, exist_ok=True)\n",
        "os.makedirs(data_path, exist_ok=True)\n",
        "os.makedirs(results_path, exist_ok=True)\n",
        "\n",
        "print(f\"Project path: {project_path}\")\n",
        "print(f\"Data path: {data_path}\")\n",
        "print(f\"Results path: {results_path}\")"
      ]
    },
    {
      "cell_type": "code",
      "execution_count": null,
      "metadata": {
        "id": "pi-G9FFHwZjK"
      },
      "outputs": [],
      "source": [
        "# --- Set visual style ---\n",
        "sns.set(style=\"whitegrid\", palette=\"muted\", font_scale=1.1)\n",
        "\n",
        "def save_plot(fig: plt.Figure, filename: str, path: str = \"./plots/\", fmt: str = \"png\", dpi: int = 300) -> None:\n",
        "    \"\"\"\n",
        "    Save a Matplotlib figure in a specific to a specified directory.\n",
        "\n",
        "    Args:\n",
        "        fig (plt.Figure): Matplotlib figure object to save.\n",
        "        filename (str): Name of the file to save (e.g., 'plot.png').\n",
        "        path (str, optional): Directory path to save the figure. Defaults to './plots/'.\n",
        "        fmt (str, optional): File format for the saved figure. Defaults to 'png'.\n",
        "        dpi (int, optional): Dots per inch for the saved figure. Defaults to 300.\n",
        "\n",
        "    Returns:\n",
        "        None\n",
        "    \"\"\"\n",
        "    # Ensure the directory exists\n",
        "    os.makedirs(path, exist_ok=True)\n",
        "    save_path = os.path.join(path, f\"{filename}.{fmt}\")\n",
        "\n",
        "    # Save the figure\n",
        "    fig.savefig(save_path, bbox_inches='tight', pad_inches=0.1, dpi=dpi, format=fmt)\n",
        "    # plt.close(fig) # Removed to display plots in notebook\n",
        "\n",
        "    print(f\"Saved plot: {save_path}\")"
      ]
    },
    {
      "cell_type": "markdown",
      "metadata": {
        "id": "dswv2Je3UA5Y"
      },
      "source": [
        "## Task 1 — Data preprocessing\n",
        "What we will do:\n",
        "- Load CSV from `lab/data/dataset_lab_1.csv`\n",
        "- Inspect basic info, class distribution, and feature ranges\n",
        "- Remove NaN and duplicate rows; report counts before/after\n",
        "- Split into train/val/test with stratify (60/20/20, fixed SEED)\n",
        "- Inspect outliers on train/val (e.g., boxplots, z-scores) and choose normalization\n",
        "- Fit scaler on train only; transform val/test; persist scaler if needed"
      ]
    },
    {
      "cell_type": "code",
      "execution_count": null,
      "metadata": {
        "colab": {
          "base_uri": "https://localhost:8080/"
        },
        "id": "-vEJrc85UCuJ",
        "outputId": "6715dd07-4810-4321-c789-6048699fbea8"
      },
      "outputs": [
        {
          "output_type": "stream",
          "name": "stdout",
          "text": [
            "Shape (raw): (31507, 17)\n",
            "Columns: ['Flow Duration', 'Flow IAT Mean', 'Fwd PSH Flags', 'Bwd Packet Length Mean', 'Bwd Packet Length Max', 'Flow Bytes/s', 'Down/Up Ratio', 'SYN Flag Count', 'Fwd Packet Length Mean', 'Fwd IAT Std', 'Packet Length Mean', 'Fwd Packet Length Max', 'Subflow Fwd Packets', 'Flow Packets/s', 'Total Fwd Packets', 'Destination Port', 'Label']\n",
            "\n",
            "Label distribution (raw):\n",
            "Label\n",
            "Benign         20000\n",
            "DoS Hulk        5000\n",
            "PortScan        5000\n",
            "Brute Force     1507\n",
            "Name: count, dtype: int64\n"
          ]
        }
      ],
      "source": [
        "# --- Load dataset and perform initial inspection ---\n",
        "\n",
        "# Set random seed for reproducibility\n",
        "np.random.seed(42)\n",
        "\n",
        "# Create directory for plots\n",
        "save_dir = results_path + 'images/' + 'task1_plots/'\n",
        "os.makedirs(save_dir, exist_ok=True)\n",
        "\n",
        "# Load Dataset\n",
        "file_path = data_path + 'dataset_lab_1.csv'\n",
        "df = pd.read_csv(file_path)\n",
        "\n",
        "# Basic info\n",
        "print(\"Shape (raw):\", df.shape)\n",
        "print(\"Columns:\", list(df.columns))\n",
        "\n",
        "print(\"\\nLabel distribution (raw):\")\n",
        "print(df['Label'].value_counts(dropna=False))"
      ]
    },
    {
      "cell_type": "code",
      "source": [
        "df"
      ],
      "metadata": {
        "colab": {
          "base_uri": "https://localhost:8080/",
          "height": 575
        },
        "id": "1gdvkO4SGj5Z",
        "outputId": "9cf014b4-e9ab-49d8-f9da-055f47f7a40d"
      },
      "execution_count": null,
      "outputs": [
        {
          "output_type": "execute_result",
          "data": {
            "text/plain": [
              "       Flow Duration  Flow IAT Mean  Fwd PSH Flags  Bwd Packet Length Mean  \\\n",
              "0             303376   3.033760e+04              0                   749.4   \n",
              "1                117   1.170000e+02              0                     0.0   \n",
              "2                142   1.420000e+02              0                     0.0   \n",
              "3                191   6.366667e+01              0                    52.0   \n",
              "4                  4   4.000000e+00              0                     0.0   \n",
              "...              ...            ...            ...                     ...   \n",
              "31502        5710955   1.903652e+06              0                     0.0   \n",
              "31503        5862561   1.954187e+06              0                     0.0   \n",
              "31504        5854872   1.951624e+06              0                     0.0   \n",
              "31505        5555547   1.851849e+06              0                     0.0   \n",
              "31506        5018204   1.672735e+06              0                     0.0   \n",
              "\n",
              "       Bwd Packet Length Max  Flow Bytes/s  Down/Up Ratio  SYN Flag Count  \\\n",
              "0                       1448     12743.263              0               0   \n",
              "1                          0         0.000              1               0   \n",
              "2                          0     84507.040              0               0   \n",
              "3                         52    921465.940              1               0   \n",
              "4                          0   3000000.000              0               0   \n",
              "...                      ...           ...            ...             ...   \n",
              "31502                      0         0.000              0               0   \n",
              "31503                      0         0.000              0               0   \n",
              "31504                      0         0.000              0               0   \n",
              "31505                      0         0.000              0               0   \n",
              "31506                      0         0.000              0               0   \n",
              "\n",
              "       Fwd Packet Length Mean  Fwd IAT Std  Packet Length Mean  \\\n",
              "0                   19.833334     98776.15           322.16666   \n",
              "1                    0.000000         0.00             0.00000   \n",
              "2                    6.000000         0.00             6.00000   \n",
              "3                   36.000000         0.00            42.40000   \n",
              "4                    6.000000         0.00             6.00000   \n",
              "...                       ...          ...                 ...   \n",
              "31502                0.000000   4037277.80             0.00000   \n",
              "31503                0.000000   4144374.80             0.00000   \n",
              "31504                0.000000   4139029.80             0.00000   \n",
              "31505                0.000000   3927356.50             0.00000   \n",
              "31506                0.000000   3547404.80             0.00000   \n",
              "\n",
              "       Fwd Packet Length Max  Subflow Fwd Packets  Flow Packets/s  \\\n",
              "0                        119                    6       36.258636   \n",
              "1                          0                    1    17094.018000   \n",
              "2                          6                    2    14084.507000   \n",
              "3                         36                    2    20942.408000   \n",
              "4                          6                    2   500000.000000   \n",
              "...                      ...                  ...             ...   \n",
              "31502                      0                    3        0.700408   \n",
              "31503                      0                    3        0.682296   \n",
              "31504                      0                    3        0.683192   \n",
              "31505                      0                    3        0.720001   \n",
              "31506                      0                    3        0.797098   \n",
              "\n",
              "       Total Fwd Packets  Destination Port        Label  \n",
              "0                      6               443       Benign  \n",
              "1                      1             52631       Benign  \n",
              "2                      2                80       Benign  \n",
              "3                      2                53       Benign  \n",
              "4                      2             49467       Benign  \n",
              "...                  ...               ...          ...  \n",
              "31502                  3                80  Brute Force  \n",
              "31503                  3                80  Brute Force  \n",
              "31504                  3                80  Brute Force  \n",
              "31505                  3                80  Brute Force  \n",
              "31506                  3                80  Brute Force  \n",
              "\n",
              "[31507 rows x 17 columns]"
            ],
            "text/html": [
              "\n",
              "  <div id=\"df-87547d68-b539-422b-bcf4-257fdb903c84\" class=\"colab-df-container\">\n",
              "    <div>\n",
              "<style scoped>\n",
              "    .dataframe tbody tr th:only-of-type {\n",
              "        vertical-align: middle;\n",
              "    }\n",
              "\n",
              "    .dataframe tbody tr th {\n",
              "        vertical-align: top;\n",
              "    }\n",
              "\n",
              "    .dataframe thead th {\n",
              "        text-align: right;\n",
              "    }\n",
              "</style>\n",
              "<table border=\"1\" class=\"dataframe\">\n",
              "  <thead>\n",
              "    <tr style=\"text-align: right;\">\n",
              "      <th></th>\n",
              "      <th>Flow Duration</th>\n",
              "      <th>Flow IAT Mean</th>\n",
              "      <th>Fwd PSH Flags</th>\n",
              "      <th>Bwd Packet Length Mean</th>\n",
              "      <th>Bwd Packet Length Max</th>\n",
              "      <th>Flow Bytes/s</th>\n",
              "      <th>Down/Up Ratio</th>\n",
              "      <th>SYN Flag Count</th>\n",
              "      <th>Fwd Packet Length Mean</th>\n",
              "      <th>Fwd IAT Std</th>\n",
              "      <th>Packet Length Mean</th>\n",
              "      <th>Fwd Packet Length Max</th>\n",
              "      <th>Subflow Fwd Packets</th>\n",
              "      <th>Flow Packets/s</th>\n",
              "      <th>Total Fwd Packets</th>\n",
              "      <th>Destination Port</th>\n",
              "      <th>Label</th>\n",
              "    </tr>\n",
              "  </thead>\n",
              "  <tbody>\n",
              "    <tr>\n",
              "      <th>0</th>\n",
              "      <td>303376</td>\n",
              "      <td>3.033760e+04</td>\n",
              "      <td>0</td>\n",
              "      <td>749.4</td>\n",
              "      <td>1448</td>\n",
              "      <td>12743.263</td>\n",
              "      <td>0</td>\n",
              "      <td>0</td>\n",
              "      <td>19.833334</td>\n",
              "      <td>98776.15</td>\n",
              "      <td>322.16666</td>\n",
              "      <td>119</td>\n",
              "      <td>6</td>\n",
              "      <td>36.258636</td>\n",
              "      <td>6</td>\n",
              "      <td>443</td>\n",
              "      <td>Benign</td>\n",
              "    </tr>\n",
              "    <tr>\n",
              "      <th>1</th>\n",
              "      <td>117</td>\n",
              "      <td>1.170000e+02</td>\n",
              "      <td>0</td>\n",
              "      <td>0.0</td>\n",
              "      <td>0</td>\n",
              "      <td>0.000</td>\n",
              "      <td>1</td>\n",
              "      <td>0</td>\n",
              "      <td>0.000000</td>\n",
              "      <td>0.00</td>\n",
              "      <td>0.00000</td>\n",
              "      <td>0</td>\n",
              "      <td>1</td>\n",
              "      <td>17094.018000</td>\n",
              "      <td>1</td>\n",
              "      <td>52631</td>\n",
              "      <td>Benign</td>\n",
              "    </tr>\n",
              "    <tr>\n",
              "      <th>2</th>\n",
              "      <td>142</td>\n",
              "      <td>1.420000e+02</td>\n",
              "      <td>0</td>\n",
              "      <td>0.0</td>\n",
              "      <td>0</td>\n",
              "      <td>84507.040</td>\n",
              "      <td>0</td>\n",
              "      <td>0</td>\n",
              "      <td>6.000000</td>\n",
              "      <td>0.00</td>\n",
              "      <td>6.00000</td>\n",
              "      <td>6</td>\n",
              "      <td>2</td>\n",
              "      <td>14084.507000</td>\n",
              "      <td>2</td>\n",
              "      <td>80</td>\n",
              "      <td>Benign</td>\n",
              "    </tr>\n",
              "    <tr>\n",
              "      <th>3</th>\n",
              "      <td>191</td>\n",
              "      <td>6.366667e+01</td>\n",
              "      <td>0</td>\n",
              "      <td>52.0</td>\n",
              "      <td>52</td>\n",
              "      <td>921465.940</td>\n",
              "      <td>1</td>\n",
              "      <td>0</td>\n",
              "      <td>36.000000</td>\n",
              "      <td>0.00</td>\n",
              "      <td>42.40000</td>\n",
              "      <td>36</td>\n",
              "      <td>2</td>\n",
              "      <td>20942.408000</td>\n",
              "      <td>2</td>\n",
              "      <td>53</td>\n",
              "      <td>Benign</td>\n",
              "    </tr>\n",
              "    <tr>\n",
              "      <th>4</th>\n",
              "      <td>4</td>\n",
              "      <td>4.000000e+00</td>\n",
              "      <td>0</td>\n",
              "      <td>0.0</td>\n",
              "      <td>0</td>\n",
              "      <td>3000000.000</td>\n",
              "      <td>0</td>\n",
              "      <td>0</td>\n",
              "      <td>6.000000</td>\n",
              "      <td>0.00</td>\n",
              "      <td>6.00000</td>\n",
              "      <td>6</td>\n",
              "      <td>2</td>\n",
              "      <td>500000.000000</td>\n",
              "      <td>2</td>\n",
              "      <td>49467</td>\n",
              "      <td>Benign</td>\n",
              "    </tr>\n",
              "    <tr>\n",
              "      <th>...</th>\n",
              "      <td>...</td>\n",
              "      <td>...</td>\n",
              "      <td>...</td>\n",
              "      <td>...</td>\n",
              "      <td>...</td>\n",
              "      <td>...</td>\n",
              "      <td>...</td>\n",
              "      <td>...</td>\n",
              "      <td>...</td>\n",
              "      <td>...</td>\n",
              "      <td>...</td>\n",
              "      <td>...</td>\n",
              "      <td>...</td>\n",
              "      <td>...</td>\n",
              "      <td>...</td>\n",
              "      <td>...</td>\n",
              "      <td>...</td>\n",
              "    </tr>\n",
              "    <tr>\n",
              "      <th>31502</th>\n",
              "      <td>5710955</td>\n",
              "      <td>1.903652e+06</td>\n",
              "      <td>0</td>\n",
              "      <td>0.0</td>\n",
              "      <td>0</td>\n",
              "      <td>0.000</td>\n",
              "      <td>0</td>\n",
              "      <td>0</td>\n",
              "      <td>0.000000</td>\n",
              "      <td>4037277.80</td>\n",
              "      <td>0.00000</td>\n",
              "      <td>0</td>\n",
              "      <td>3</td>\n",
              "      <td>0.700408</td>\n",
              "      <td>3</td>\n",
              "      <td>80</td>\n",
              "      <td>Brute Force</td>\n",
              "    </tr>\n",
              "    <tr>\n",
              "      <th>31503</th>\n",
              "      <td>5862561</td>\n",
              "      <td>1.954187e+06</td>\n",
              "      <td>0</td>\n",
              "      <td>0.0</td>\n",
              "      <td>0</td>\n",
              "      <td>0.000</td>\n",
              "      <td>0</td>\n",
              "      <td>0</td>\n",
              "      <td>0.000000</td>\n",
              "      <td>4144374.80</td>\n",
              "      <td>0.00000</td>\n",
              "      <td>0</td>\n",
              "      <td>3</td>\n",
              "      <td>0.682296</td>\n",
              "      <td>3</td>\n",
              "      <td>80</td>\n",
              "      <td>Brute Force</td>\n",
              "    </tr>\n",
              "    <tr>\n",
              "      <th>31504</th>\n",
              "      <td>5854872</td>\n",
              "      <td>1.951624e+06</td>\n",
              "      <td>0</td>\n",
              "      <td>0.0</td>\n",
              "      <td>0</td>\n",
              "      <td>0.000</td>\n",
              "      <td>0</td>\n",
              "      <td>0</td>\n",
              "      <td>0.000000</td>\n",
              "      <td>4139029.80</td>\n",
              "      <td>0.00000</td>\n",
              "      <td>0</td>\n",
              "      <td>3</td>\n",
              "      <td>0.683192</td>\n",
              "      <td>3</td>\n",
              "      <td>80</td>\n",
              "      <td>Brute Force</td>\n",
              "    </tr>\n",
              "    <tr>\n",
              "      <th>31505</th>\n",
              "      <td>5555547</td>\n",
              "      <td>1.851849e+06</td>\n",
              "      <td>0</td>\n",
              "      <td>0.0</td>\n",
              "      <td>0</td>\n",
              "      <td>0.000</td>\n",
              "      <td>0</td>\n",
              "      <td>0</td>\n",
              "      <td>0.000000</td>\n",
              "      <td>3927356.50</td>\n",
              "      <td>0.00000</td>\n",
              "      <td>0</td>\n",
              "      <td>3</td>\n",
              "      <td>0.720001</td>\n",
              "      <td>3</td>\n",
              "      <td>80</td>\n",
              "      <td>Brute Force</td>\n",
              "    </tr>\n",
              "    <tr>\n",
              "      <th>31506</th>\n",
              "      <td>5018204</td>\n",
              "      <td>1.672735e+06</td>\n",
              "      <td>0</td>\n",
              "      <td>0.0</td>\n",
              "      <td>0</td>\n",
              "      <td>0.000</td>\n",
              "      <td>0</td>\n",
              "      <td>0</td>\n",
              "      <td>0.000000</td>\n",
              "      <td>3547404.80</td>\n",
              "      <td>0.00000</td>\n",
              "      <td>0</td>\n",
              "      <td>3</td>\n",
              "      <td>0.797098</td>\n",
              "      <td>3</td>\n",
              "      <td>80</td>\n",
              "      <td>Brute Force</td>\n",
              "    </tr>\n",
              "  </tbody>\n",
              "</table>\n",
              "<p>31507 rows × 17 columns</p>\n",
              "</div>\n",
              "    <div class=\"colab-df-buttons\">\n",
              "\n",
              "  <div class=\"colab-df-container\">\n",
              "    <button class=\"colab-df-convert\" onclick=\"convertToInteractive('df-87547d68-b539-422b-bcf4-257fdb903c84')\"\n",
              "            title=\"Convert this dataframe to an interactive table.\"\n",
              "            style=\"display:none;\">\n",
              "\n",
              "  <svg xmlns=\"http://www.w3.org/2000/svg\" height=\"24px\" viewBox=\"0 -960 960 960\">\n",
              "    <path d=\"M120-120v-720h720v720H120Zm60-500h600v-160H180v160Zm220 220h160v-160H400v160Zm0 220h160v-160H400v160ZM180-400h160v-160H180v160Zm440 0h160v-160H620v160ZM180-180h160v-160H180v160Zm440 0h160v-160H620v160Z\"/>\n",
              "  </svg>\n",
              "    </button>\n",
              "\n",
              "  <style>\n",
              "    .colab-df-container {\n",
              "      display:flex;\n",
              "      gap: 12px;\n",
              "    }\n",
              "\n",
              "    .colab-df-convert {\n",
              "      background-color: #E8F0FE;\n",
              "      border: none;\n",
              "      border-radius: 50%;\n",
              "      cursor: pointer;\n",
              "      display: none;\n",
              "      fill: #1967D2;\n",
              "      height: 32px;\n",
              "      padding: 0 0 0 0;\n",
              "      width: 32px;\n",
              "    }\n",
              "\n",
              "    .colab-df-convert:hover {\n",
              "      background-color: #E2EBFA;\n",
              "      box-shadow: 0px 1px 2px rgba(60, 64, 67, 0.3), 0px 1px 3px 1px rgba(60, 64, 67, 0.15);\n",
              "      fill: #174EA6;\n",
              "    }\n",
              "\n",
              "    .colab-df-buttons div {\n",
              "      margin-bottom: 4px;\n",
              "    }\n",
              "\n",
              "    [theme=dark] .colab-df-convert {\n",
              "      background-color: #3B4455;\n",
              "      fill: #D2E3FC;\n",
              "    }\n",
              "\n",
              "    [theme=dark] .colab-df-convert:hover {\n",
              "      background-color: #434B5C;\n",
              "      box-shadow: 0px 1px 3px 1px rgba(0, 0, 0, 0.15);\n",
              "      filter: drop-shadow(0px 1px 2px rgba(0, 0, 0, 0.3));\n",
              "      fill: #FFFFFF;\n",
              "    }\n",
              "  </style>\n",
              "\n",
              "    <script>\n",
              "      const buttonEl =\n",
              "        document.querySelector('#df-87547d68-b539-422b-bcf4-257fdb903c84 button.colab-df-convert');\n",
              "      buttonEl.style.display =\n",
              "        google.colab.kernel.accessAllowed ? 'block' : 'none';\n",
              "\n",
              "      async function convertToInteractive(key) {\n",
              "        const element = document.querySelector('#df-87547d68-b539-422b-bcf4-257fdb903c84');\n",
              "        const dataTable =\n",
              "          await google.colab.kernel.invokeFunction('convertToInteractive',\n",
              "                                                    [key], {});\n",
              "        if (!dataTable) return;\n",
              "\n",
              "        const docLinkHtml = 'Like what you see? Visit the ' +\n",
              "          '<a target=\"_blank\" href=https://colab.research.google.com/notebooks/data_table.ipynb>data table notebook</a>'\n",
              "          + ' to learn more about interactive tables.';\n",
              "        element.innerHTML = '';\n",
              "        dataTable['output_type'] = 'display_data';\n",
              "        await google.colab.output.renderOutput(dataTable, element);\n",
              "        const docLink = document.createElement('div');\n",
              "        docLink.innerHTML = docLinkHtml;\n",
              "        element.appendChild(docLink);\n",
              "      }\n",
              "    </script>\n",
              "  </div>\n",
              "\n",
              "\n",
              "    <div id=\"df-990ba06b-e98f-4bad-b26e-499764d6ad40\">\n",
              "      <button class=\"colab-df-quickchart\" onclick=\"quickchart('df-990ba06b-e98f-4bad-b26e-499764d6ad40')\"\n",
              "                title=\"Suggest charts\"\n",
              "                style=\"display:none;\">\n",
              "\n",
              "<svg xmlns=\"http://www.w3.org/2000/svg\" height=\"24px\"viewBox=\"0 0 24 24\"\n",
              "     width=\"24px\">\n",
              "    <g>\n",
              "        <path d=\"M19 3H5c-1.1 0-2 .9-2 2v14c0 1.1.9 2 2 2h14c1.1 0 2-.9 2-2V5c0-1.1-.9-2-2-2zM9 17H7v-7h2v7zm4 0h-2V7h2v10zm4 0h-2v-4h2v4z\"/>\n",
              "    </g>\n",
              "</svg>\n",
              "      </button>\n",
              "\n",
              "<style>\n",
              "  .colab-df-quickchart {\n",
              "      --bg-color: #E8F0FE;\n",
              "      --fill-color: #1967D2;\n",
              "      --hover-bg-color: #E2EBFA;\n",
              "      --hover-fill-color: #174EA6;\n",
              "      --disabled-fill-color: #AAA;\n",
              "      --disabled-bg-color: #DDD;\n",
              "  }\n",
              "\n",
              "  [theme=dark] .colab-df-quickchart {\n",
              "      --bg-color: #3B4455;\n",
              "      --fill-color: #D2E3FC;\n",
              "      --hover-bg-color: #434B5C;\n",
              "      --hover-fill-color: #FFFFFF;\n",
              "      --disabled-bg-color: #3B4455;\n",
              "      --disabled-fill-color: #666;\n",
              "  }\n",
              "\n",
              "  .colab-df-quickchart {\n",
              "    background-color: var(--bg-color);\n",
              "    border: none;\n",
              "    border-radius: 50%;\n",
              "    cursor: pointer;\n",
              "    display: none;\n",
              "    fill: var(--fill-color);\n",
              "    height: 32px;\n",
              "    padding: 0;\n",
              "    width: 32px;\n",
              "  }\n",
              "\n",
              "  .colab-df-quickchart:hover {\n",
              "    background-color: var(--hover-bg-color);\n",
              "    box-shadow: 0 1px 2px rgba(60, 64, 67, 0.3), 0 1px 3px 1px rgba(60, 64, 67, 0.15);\n",
              "    fill: var(--button-hover-fill-color);\n",
              "  }\n",
              "\n",
              "  .colab-df-quickchart-complete:disabled,\n",
              "  .colab-df-quickchart-complete:disabled:hover {\n",
              "    background-color: var(--disabled-bg-color);\n",
              "    fill: var(--disabled-fill-color);\n",
              "    box-shadow: none;\n",
              "  }\n",
              "\n",
              "  .colab-df-spinner {\n",
              "    border: 2px solid var(--fill-color);\n",
              "    border-color: transparent;\n",
              "    border-bottom-color: var(--fill-color);\n",
              "    animation:\n",
              "      spin 1s steps(1) infinite;\n",
              "  }\n",
              "\n",
              "  @keyframes spin {\n",
              "    0% {\n",
              "      border-color: transparent;\n",
              "      border-bottom-color: var(--fill-color);\n",
              "      border-left-color: var(--fill-color);\n",
              "    }\n",
              "    20% {\n",
              "      border-color: transparent;\n",
              "      border-left-color: var(--fill-color);\n",
              "      border-top-color: var(--fill-color);\n",
              "    }\n",
              "    30% {\n",
              "      border-color: transparent;\n",
              "      border-left-color: var(--fill-color);\n",
              "      border-top-color: var(--fill-color);\n",
              "      border-right-color: var(--fill-color);\n",
              "    }\n",
              "    40% {\n",
              "      border-color: transparent;\n",
              "      border-right-color: var(--fill-color);\n",
              "      border-top-color: var(--fill-color);\n",
              "    }\n",
              "    60% {\n",
              "      border-color: transparent;\n",
              "      border-right-color: var(--fill-color);\n",
              "    }\n",
              "    80% {\n",
              "      border-color: transparent;\n",
              "      border-right-color: var(--fill-color);\n",
              "      border-bottom-color: var(--fill-color);\n",
              "    }\n",
              "    90% {\n",
              "      border-color: transparent;\n",
              "      border-bottom-color: var(--fill-color);\n",
              "    }\n",
              "  }\n",
              "</style>\n",
              "\n",
              "      <script>\n",
              "        async function quickchart(key) {\n",
              "          const quickchartButtonEl =\n",
              "            document.querySelector('#' + key + ' button');\n",
              "          quickchartButtonEl.disabled = true;  // To prevent multiple clicks.\n",
              "          quickchartButtonEl.classList.add('colab-df-spinner');\n",
              "          try {\n",
              "            const charts = await google.colab.kernel.invokeFunction(\n",
              "                'suggestCharts', [key], {});\n",
              "          } catch (error) {\n",
              "            console.error('Error during call to suggestCharts:', error);\n",
              "          }\n",
              "          quickchartButtonEl.classList.remove('colab-df-spinner');\n",
              "          quickchartButtonEl.classList.add('colab-df-quickchart-complete');\n",
              "        }\n",
              "        (() => {\n",
              "          let quickchartButtonEl =\n",
              "            document.querySelector('#df-990ba06b-e98f-4bad-b26e-499764d6ad40 button');\n",
              "          quickchartButtonEl.style.display =\n",
              "            google.colab.kernel.accessAllowed ? 'block' : 'none';\n",
              "        })();\n",
              "      </script>\n",
              "    </div>\n",
              "\n",
              "  <div id=\"id_0cbc1202-890f-44b6-b791-0c6d2a22d80a\">\n",
              "    <style>\n",
              "      .colab-df-generate {\n",
              "        background-color: #E8F0FE;\n",
              "        border: none;\n",
              "        border-radius: 50%;\n",
              "        cursor: pointer;\n",
              "        display: none;\n",
              "        fill: #1967D2;\n",
              "        height: 32px;\n",
              "        padding: 0 0 0 0;\n",
              "        width: 32px;\n",
              "      }\n",
              "\n",
              "      .colab-df-generate:hover {\n",
              "        background-color: #E2EBFA;\n",
              "        box-shadow: 0px 1px 2px rgba(60, 64, 67, 0.3), 0px 1px 3px 1px rgba(60, 64, 67, 0.15);\n",
              "        fill: #174EA6;\n",
              "      }\n",
              "\n",
              "      [theme=dark] .colab-df-generate {\n",
              "        background-color: #3B4455;\n",
              "        fill: #D2E3FC;\n",
              "      }\n",
              "\n",
              "      [theme=dark] .colab-df-generate:hover {\n",
              "        background-color: #434B5C;\n",
              "        box-shadow: 0px 1px 3px 1px rgba(0, 0, 0, 0.15);\n",
              "        filter: drop-shadow(0px 1px 2px rgba(0, 0, 0, 0.3));\n",
              "        fill: #FFFFFF;\n",
              "      }\n",
              "    </style>\n",
              "    <button class=\"colab-df-generate\" onclick=\"generateWithVariable('df')\"\n",
              "            title=\"Generate code using this dataframe.\"\n",
              "            style=\"display:none;\">\n",
              "\n",
              "  <svg xmlns=\"http://www.w3.org/2000/svg\" height=\"24px\"viewBox=\"0 0 24 24\"\n",
              "       width=\"24px\">\n",
              "    <path d=\"M7,19H8.4L18.45,9,17,7.55,7,17.6ZM5,21V16.75L18.45,3.32a2,2,0,0,1,2.83,0l1.4,1.43a1.91,1.91,0,0,1,.58,1.4,1.91,1.91,0,0,1-.58,1.4L9.25,21ZM18.45,9,17,7.55Zm-12,3A5.31,5.31,0,0,0,4.9,8.1,5.31,5.31,0,0,0,1,6.5,5.31,5.31,0,0,0,4.9,4.9,5.31,5.31,0,0,0,6.5,1,5.31,5.31,0,0,0,8.1,4.9,5.31,5.31,0,0,0,12,6.5,5.46,5.46,0,0,0,6.5,12Z\"/>\n",
              "  </svg>\n",
              "    </button>\n",
              "    <script>\n",
              "      (() => {\n",
              "      const buttonEl =\n",
              "        document.querySelector('#id_0cbc1202-890f-44b6-b791-0c6d2a22d80a button.colab-df-generate');\n",
              "      buttonEl.style.display =\n",
              "        google.colab.kernel.accessAllowed ? 'block' : 'none';\n",
              "\n",
              "      buttonEl.onclick = () => {\n",
              "        google.colab.notebook.generateWithVariable('df');\n",
              "      }\n",
              "      })();\n",
              "    </script>\n",
              "  </div>\n",
              "\n",
              "    </div>\n",
              "  </div>\n"
            ],
            "application/vnd.google.colaboratory.intrinsic+json": {
              "type": "dataframe",
              "variable_name": "df",
              "repr_error": "Out of range float values are not JSON compliant: inf"
            }
          },
          "metadata": {},
          "execution_count": 51
        }
      ]
    },
    {
      "cell_type": "code",
      "execution_count": null,
      "metadata": {
        "id": "2aKPJf9UwZjL"
      },
      "outputs": [],
      "source": [
        "def plot_class_distribution(\n",
        "    df,\n",
        "    name_fig='class_distribution',\n",
        "    label_col='Label',\n",
        "    save_path='./plots/',\n",
        "    fig_size=(8, 5),\n",
        "    palette='pastel'\n",
        "):\n",
        "    \"\"\"\n",
        "    Plot the number of samples for each class.\n",
        "\n",
        "    Args:\n",
        "        df (pd.DataFrame): The input DataFrame.\n",
        "        label_col (str): The name of the label column. Defaults to 'Label'.\n",
        "        save_path (str): The directory to save the plot. Defaults to './plots/'.\n",
        "        fig_size (tuple): Size of the figure. Defaults to (8, 5).\n",
        "        palette (str): Seaborn palette.\n",
        "    \"\"\"\n",
        "    os.makedirs(save_path, exist_ok=True)\n",
        "\n",
        "    # Create a figure and axes for the plot\n",
        "    fig, ax = plt.subplots(figsize=fig_size)\n",
        "\n",
        "    # Create a countplot showing the distribution of classes\n",
        "    sns.countplot(x=label_col, data=df, order=df[label_col].value_counts().index, ax=ax, palette=palette, hue=label_col, legend=False)\n",
        "\n",
        "    # Set the title and labels for the plot\n",
        "    ax.set_title(\"Class Distribution\")\n",
        "    ax.set_xlabel(\"Traffic Type\")\n",
        "    ax.set_ylabel(\"Count\")\n",
        "\n",
        "    # Rotate x-axis labels for better readability\n",
        "    plt.xticks(rotation=30)\n",
        "\n",
        "    # Annotate bars with counts\n",
        "    for p in ax.patches:\n",
        "        height = p.get_height()\n",
        "        ax.annotate(f'{height}', (p.get_x() + p.get_width() / 2., height),\n",
        "                    ha='center', va='bottom', fontsize=10)\n",
        "\n",
        "    # Save the plot to the specified path\n",
        "    save_plot(fig, name_fig, save_path)"
      ]
    },
    {
      "cell_type": "code",
      "execution_count": null,
      "metadata": {
        "colab": {
          "base_uri": "https://localhost:8080/",
          "height": 561
        },
        "id": "Lpu-3ls8hlRV",
        "outputId": "e1762ac4-0591-4b3b-aefa-e690887fb7d3"
      },
      "outputs": [
        {
          "output_type": "stream",
          "name": "stdout",
          "text": [
            "Saved plot: /content/drive/MyDrive/Projects/AImSecure/Laboratory1/results/images/task1_plots/class_distribution.png\n"
          ]
        },
        {
          "output_type": "display_data",
          "data": {
            "text/plain": [
              "<Figure size 800x500 with 1 Axes>"
            ],
            "image/png": "[encoded data removed]"
          },
          "metadata": {}
        }
      ],
      "source": [
        "# --- Visualize raw data characteristics and distributions ---\n",
        "\n",
        "# Plot class distribution to understand data balance\n",
        "plot_class_distribution(df, 'class_distribution', save_path=save_dir)"
      ]
    },
    {
      "cell_type": "markdown",
      "source": [
        "### Q: How many samples did you have before and after removing missing and duplicates entries?\n",
        "\n",
        "We initially had 31,507 samples, and after removing missing, duplicate, and infinite entries, we obtained 29,386 clean samples. In total, 2,121 rows were removed during the data cleaning process."
      ],
      "metadata": {
        "id": "luRw_fUjmJaU"
      }
    },
    {
      "cell_type": "markdown",
      "metadata": {
        "id": "owZLKx9LeWOj"
      },
      "source": [
        "### Removing NaN and duplicates"
      ]
    },
    {
      "cell_type": "code",
      "execution_count": null,
      "metadata": {
        "colab": {
          "base_uri": "https://localhost:8080/"
        },
        "id": "yk16WOa3hlHh",
        "outputId": "9f034752-d961-44ae-958d-5b99e12fb1f6"
      },
      "outputs": [
        {
          "output_type": "stream",
          "name": "stdout",
          "text": [
            "Removed 20 rows (NaN)\n",
            "Removed 2114 rows (duplicates)\n",
            "New shape: (29393, 17)\n"
          ]
        }
      ],
      "source": [
        "# --- Remove NaN and duplicates ---\n",
        "\n",
        "raw_n = len(df)\n",
        "\n",
        "# Drop NaN\n",
        "df = df.dropna()\n",
        "clean_n = len(df)\n",
        "print(f\"Removed {raw_n-clean_n} rows (NaN)\")\n",
        "\n",
        "# Drop duplicates\n",
        "df = df.drop_duplicates()\n",
        "clean_n = len(df)\n",
        "print(f\"Removed {raw_n-clean_n} rows (duplicates)\")\n",
        "\n",
        "print(f\"New shape: {df.shape}\")"
      ]
    },
    {
      "cell_type": "code",
      "source": [
        "# --- Handle infinite values ---\n",
        "\n",
        "# Replace infinite values with NaN\n",
        "df.replace([np.inf, -np.inf], np.nan, inplace=True)\n",
        "\n",
        "# Check for and report the number of infinite values (now NaNs)\n",
        "inf_counts = df.isnull().sum()\n",
        "print(\"\\nNumber of infinite values (replaced with NaN) per column:\")\n",
        "print(inf_counts[inf_counts > 0])\n",
        "\n",
        "# Drop rows with NaN values (including those that were originally infinite)\n",
        "initial_rows = len(df)\n",
        "df.dropna(inplace=True)\n",
        "rows_after_inf_nan_drop = len(df)\n",
        "\n",
        "print(f\"\\nRemoved {initial_rows - rows_after_inf_nan_drop} rows containing infinite or NaN values. New shape: {df.shape}\")"
      ],
      "metadata": {
        "colab": {
          "base_uri": "https://localhost:8080/"
        },
        "id": "DNAdL8Rl1RRE",
        "outputId": "17c085be-22cd-4680-87a0-28ecfb540a1c"
      },
      "execution_count": null,
      "outputs": [
        {
          "output_type": "stream",
          "name": "stdout",
          "text": [
            "\n",
            "Number of infinite values (replaced with NaN) per column:\n",
            "Flow Bytes/s      7\n",
            "Flow Packets/s    7\n",
            "dtype: int64\n",
            "\n",
            "Removed 7 rows containing infinite or NaN values. New shape: (29386, 17)\n"
          ]
        }
      ]
    },
    {
      "cell_type": "code",
      "source": [
        "print(\"\\nLabel distribution (after NaN and duplicates removal):\")\n",
        "print(df['Label'].value_counts())"
      ],
      "metadata": {
        "colab": {
          "base_uri": "https://localhost:8080/"
        },
        "id": "0FVlanNCbVbe",
        "outputId": "9ce08b39-5df3-4a51-ba9b-9bbd5a4b8b5c"
      },
      "execution_count": null,
      "outputs": [
        {
          "output_type": "stream",
          "name": "stdout",
          "text": [
            "\n",
            "Label distribution (after NaN and duplicates removal):\n",
            "Label\n",
            "Benign         19242\n",
            "PortScan        4849\n",
            "DoS Hulk        3868\n",
            "Brute Force     1427\n",
            "Name: count, dtype: int64\n"
          ]
        }
      ]
    },
    {
      "cell_type": "code",
      "source": [
        "# Encode labels\n",
        "label_encoder = LabelEncoder()\n",
        "df['Label'] = label_encoder.fit_transform(df['Label'])\n",
        "\n",
        "df.head(10)"
      ],
      "metadata": {
        "colab": {
          "base_uri": "https://localhost:8080/",
          "height": 430
        },
        "id": "jrxr9uif0dzF",
        "outputId": "9cbd4edb-d1e7-4402-ef85-45d61dfc5cc9"
      },
      "execution_count": null,
      "outputs": [
        {
          "output_type": "execute_result",
          "data": {
            "text/plain": [
              "   Flow Duration  Flow IAT Mean  Fwd PSH Flags  Bwd Packet Length Mean  \\\n",
              "0         303376   3.033760e+04              0              749.400000   \n",
              "1            117   1.170000e+02              0                0.000000   \n",
              "2            142   1.420000e+02              0                0.000000   \n",
              "3            191   6.366667e+01              0               52.000000   \n",
              "4              4   4.000000e+00              0                0.000000   \n",
              "5         162322   3.959073e+03              0               19.416666   \n",
              "6       61050653   2.907174e+06              0               22.818182   \n",
              "7            108   1.080000e+02              0                0.000000   \n",
              "8         764920   7.649200e+05              0                0.000000   \n",
              "9         122255   6.112750e+04              0                0.000000   \n",
              "\n",
              "   Bwd Packet Length Max  Flow Bytes/s  Down/Up Ratio  SYN Flag Count  \\\n",
              "0                   1448  1.274326e+04              0               0   \n",
              "1                      0  0.000000e+00              1               0   \n",
              "2                      0  8.450704e+04              0               0   \n",
              "3                     52  9.214659e+05              1               0   \n",
              "4                      0  3.000000e+06              0               0   \n",
              "5                     51  4.102956e+03              1               0   \n",
              "6                    233  5.230083e+01              1               0   \n",
              "7                      0  1.111111e+05              0               0   \n",
              "8                      0  1.568792e+01              0               0   \n",
              "9                      0  0.000000e+00              0               0   \n",
              "\n",
              "   Fwd Packet Length Mean  Fwd IAT Std  Packet Length Mean  \\\n",
              "0               19.833334    98776.150          322.166660   \n",
              "1                0.000000        0.000            0.000000   \n",
              "2                6.000000        0.000            6.000000   \n",
              "3               36.000000        0.000           42.400000   \n",
              "4                6.000000        0.000            6.000000   \n",
              "5               11.111111    30630.129           15.488372   \n",
              "6              267.454560  5145240.000          138.826080   \n",
              "7                6.000000        0.000            6.000000   \n",
              "8                6.000000        0.000            6.000000   \n",
              "9                0.000000        0.000            0.000000   \n",
              "\n",
              "   Fwd Packet Length Max  Subflow Fwd Packets  Flow Packets/s  \\\n",
              "0                    119                    6       36.258636   \n",
              "1                      0                    1    17094.018000   \n",
              "2                      6                    2    14084.507000   \n",
              "3                     36                    2    20942.408000   \n",
              "4                      6                    2   500000.000000   \n",
              "5                     43                   18      258.744960   \n",
              "6                   1460                   11        0.360357   \n",
              "7                      6                    2    18518.518000   \n",
              "8                      6                    2        2.614652   \n",
              "9                      0                    2       24.538874   \n",
              "\n",
              "   Total Fwd Packets  Destination Port  Label  \n",
              "0                  6               443      0  \n",
              "1                  1             52631      0  \n",
              "2                  2                80      0  \n",
              "3                  2                53      0  \n",
              "4                  2             49467      0  \n",
              "5                 18                21      0  \n",
              "6                 11                80      0  \n",
              "7                  2                80      0  \n",
              "8                  2               443      0  \n",
              "9                  2               443      0  "
            ],
            "text/html": [
              "\n",
              "  <div id=\"df-bdeec49a-460e-4e8a-8e1c-fc56bb43c318\" class=\"colab-df-container\">\n",
              "    <div>\n",
              "<style scoped>\n",
              "    .dataframe tbody tr th:only-of-type {\n",
              "        vertical-align: middle;\n",
              "    }\n",
              "\n",
              "    .dataframe tbody tr th {\n",
              "        vertical-align: top;\n",
              "    }\n",
              "\n",
              "    .dataframe thead th {\n",
              "        text-align: right;\n",
              "    }\n",
              "</style>\n",
              "<table border=\"1\" class=\"dataframe\">\n",
              "  <thead>\n",
              "    <tr style=\"text-align: right;\">\n",
              "      <th></th>\n",
              "      <th>Flow Duration</th>\n",
              "      <th>Flow IAT Mean</th>\n",
              "      <th>Fwd PSH Flags</th>\n",
              "      <th>Bwd Packet Length Mean</th>\n",
              "      <th>Bwd Packet Length Max</th>\n",
              "      <th>Flow Bytes/s</th>\n",
              "      <th>Down/Up Ratio</th>\n",
              "      <th>SYN Flag Count</th>\n",
              "      <th>Fwd Packet Length Mean</th>\n",
              "      <th>Fwd IAT Std</th>\n",
              "      <th>Packet Length Mean</th>\n",
              "      <th>Fwd Packet Length Max</th>\n",
              "      <th>Subflow Fwd Packets</th>\n",
              "      <th>Flow Packets/s</th>\n",
              "      <th>Total Fwd Packets</th>\n",
              "      <th>Destination Port</th>\n",
              "      <th>Label</th>\n",
              "    </tr>\n",
              "  </thead>\n",
              "  <tbody>\n",
              "    <tr>\n",
              "      <th>0</th>\n",
              "      <td>303376</td>\n",
              "      <td>3.033760e+04</td>\n",
              "      <td>0</td>\n",
              "      <td>749.400000</td>\n",
              "      <td>1448</td>\n",
              "      <td>1.274326e+04</td>\n",
              "      <td>0</td>\n",
              "      <td>0</td>\n",
              "      <td>19.833334</td>\n",
              "      <td>98776.150</td>\n",
              "      <td>322.166660</td>\n",
              "      <td>119</td>\n",
              "      <td>6</td>\n",
              "      <td>36.258636</td>\n",
              "      <td>6</td>\n",
              "      <td>443</td>\n",
              "      <td>0</td>\n",
              "    </tr>\n",
              "    <tr>\n",
              "      <th>1</th>\n",
              "      <td>117</td>\n",
              "      <td>1.170000e+02</td>\n",
              "      <td>0</td>\n",
              "      <td>0.000000</td>\n",
              "      <td>0</td>\n",
              "      <td>0.000000e+00</td>\n",
              "      <td>1</td>\n",
              "      <td>0</td>\n",
              "      <td>0.000000</td>\n",
              "      <td>0.000</td>\n",
              "      <td>0.000000</td>\n",
              "      <td>0</td>\n",
              "      <td>1</td>\n",
              "      <td>17094.018000</td>\n",
              "      <td>1</td>\n",
              "      <td>52631</td>\n",
              "      <td>0</td>\n",
              "    </tr>\n",
              "    <tr>\n",
              "      <th>2</th>\n",
              "      <td>142</td>\n",
              "      <td>1.420000e+02</td>\n",
              "      <td>0</td>\n",
              "      <td>0.000000</td>\n",
              "      <td>0</td>\n",
              "      <td>8.450704e+04</td>\n",
              "      <td>0</td>\n",
              "      <td>0</td>\n",
              "      <td>6.000000</td>\n",
              "      <td>0.000</td>\n",
              "      <td>6.000000</td>\n",
              "      <td>6</td>\n",
              "      <td>2</td>\n",
              "      <td>14084.507000</td>\n",
              "      <td>2</td>\n",
              "      <td>80</td>\n",
              "      <td>0</td>\n",
              "    </tr>\n",
              "    <tr>\n",
              "      <th>3</th>\n",
              "      <td>191</td>\n",
              "      <td>6.366667e+01</td>\n",
              "      <td>0</td>\n",
              "      <td>52.000000</td>\n",
              "      <td>52</td>\n",
              "      <td>9.214659e+05</td>\n",
              "      <td>1</td>\n",
              "      <td>0</td>\n",
              "      <td>36.000000</td>\n",
              "      <td>0.000</td>\n",
              "      <td>42.400000</td>\n",
              "      <td>36</td>\n",
              "      <td>2</td>\n",
              "      <td>20942.408000</td>\n",
              "      <td>2</td>\n",
              "      <td>53</td>\n",
              "      <td>0</td>\n",
              "    </tr>\n",
              "    <tr>\n",
              "      <th>4</th>\n",
              "      <td>4</td>\n",
              "      <td>4.000000e+00</td>\n",
              "      <td>0</td>\n",
              "      <td>0.000000</td>\n",
              "      <td>0</td>\n",
              "      <td>3.000000e+06</td>\n",
              "      <td>0</td>\n",
              "      <td>0</td>\n",
              "      <td>6.000000</td>\n",
              "      <td>0.000</td>\n",
              "      <td>6.000000</td>\n",
              "      <td>6</td>\n",
              "      <td>2</td>\n",
              "      <td>500000.000000</td>\n",
              "      <td>2</td>\n",
              "      <td>49467</td>\n",
              "      <td>0</td>\n",
              "    </tr>\n",
              "    <tr>\n",
              "      <th>5</th>\n",
              "      <td>162322</td>\n",
              "      <td>3.959073e+03</td>\n",
              "      <td>0</td>\n",
              "      <td>19.416666</td>\n",
              "      <td>51</td>\n",
              "      <td>4.102956e+03</td>\n",
              "      <td>1</td>\n",
              "      <td>0</td>\n",
              "      <td>11.111111</td>\n",
              "      <td>30630.129</td>\n",
              "      <td>15.488372</td>\n",
              "      <td>43</td>\n",
              "      <td>18</td>\n",
              "      <td>258.744960</td>\n",
              "      <td>18</td>\n",
              "      <td>21</td>\n",
              "      <td>0</td>\n",
              "    </tr>\n",
              "    <tr>\n",
              "      <th>6</th>\n",
              "      <td>61050653</td>\n",
              "      <td>2.907174e+06</td>\n",
              "      <td>0</td>\n",
              "      <td>22.818182</td>\n",
              "      <td>233</td>\n",
              "      <td>5.230083e+01</td>\n",
              "      <td>1</td>\n",
              "      <td>0</td>\n",
              "      <td>267.454560</td>\n",
              "      <td>5145240.000</td>\n",
              "      <td>138.826080</td>\n",
              "      <td>1460</td>\n",
              "      <td>11</td>\n",
              "      <td>0.360357</td>\n",
              "      <td>11</td>\n",
              "      <td>80</td>\n",
              "      <td>0</td>\n",
              "    </tr>\n",
              "    <tr>\n",
              "      <th>7</th>\n",
              "      <td>108</td>\n",
              "      <td>1.080000e+02</td>\n",
              "      <td>0</td>\n",
              "      <td>0.000000</td>\n",
              "      <td>0</td>\n",
              "      <td>1.111111e+05</td>\n",
              "      <td>0</td>\n",
              "      <td>0</td>\n",
              "      <td>6.000000</td>\n",
              "      <td>0.000</td>\n",
              "      <td>6.000000</td>\n",
              "      <td>6</td>\n",
              "      <td>2</td>\n",
              "      <td>18518.518000</td>\n",
              "      <td>2</td>\n",
              "      <td>80</td>\n",
              "      <td>0</td>\n",
              "    </tr>\n",
              "    <tr>\n",
              "      <th>8</th>\n",
              "      <td>764920</td>\n",
              "      <td>7.649200e+05</td>\n",
              "      <td>0</td>\n",
              "      <td>0.000000</td>\n",
              "      <td>0</td>\n",
              "      <td>1.568792e+01</td>\n",
              "      <td>0</td>\n",
              "      <td>0</td>\n",
              "      <td>6.000000</td>\n",
              "      <td>0.000</td>\n",
              "      <td>6.000000</td>\n",
              "      <td>6</td>\n",
              "      <td>2</td>\n",
              "      <td>2.614652</td>\n",
              "      <td>2</td>\n",
              "      <td>443</td>\n",
              "      <td>0</td>\n",
              "    </tr>\n",
              "    <tr>\n",
              "      <th>9</th>\n",
              "      <td>122255</td>\n",
              "      <td>6.112750e+04</td>\n",
              "      <td>0</td>\n",
              "      <td>0.000000</td>\n",
              "      <td>0</td>\n",
              "      <td>0.000000e+00</td>\n",
              "      <td>0</td>\n",
              "      <td>0</td>\n",
              "      <td>0.000000</td>\n",
              "      <td>0.000</td>\n",
              "      <td>0.000000</td>\n",
              "      <td>0</td>\n",
              "      <td>2</td>\n",
              "      <td>24.538874</td>\n",
              "      <td>2</td>\n",
              "      <td>443</td>\n",
              "      <td>0</td>\n",
              "    </tr>\n",
              "  </tbody>\n",
              "</table>\n",
              "</div>\n",
              "    <div class=\"colab-df-buttons\">\n",
              "\n",
              "  <div class=\"colab-df-container\">\n",
              "    <button class=\"colab-df-convert\" onclick=\"convertToInteractive('df-bdeec49a-460e-4e8a-8e1c-fc56bb43c318')\"\n",
              "            title=\"Convert this dataframe to an interactive table.\"\n",
              "            style=\"display:none;\">\n",
              "\n",
              "  <svg xmlns=\"http://www.w3.org/2000/svg\" height=\"24px\" viewBox=\"0 -960 960 960\">\n",
              "    <path d=\"M120-120v-720h720v720H120Zm60-500h600v-160H180v160Zm220 220h160v-160H400v160Zm0 220h160v-160H400v160ZM180-400h160v-160H180v160Zm440 0h160v-160H620v160ZM180-180h160v-160H180v160Zm440 0h160v-160H620v160Z\"/>\n",
              "  </svg>\n",
              "    </button>\n",
              "\n",
              "  <style>\n",
              "    .colab-df-container {\n",
              "      display:flex;\n",
              "      gap: 12px;\n",
              "    }\n",
              "\n",
              "    .colab-df-convert {\n",
              "      background-color: #E8F0FE;\n",
              "      border: none;\n",
              "      border-radius: 50%;\n",
              "      cursor: pointer;\n",
              "      display: none;\n",
              "      fill: #1967D2;\n",
              "      height: 32px;\n",
              "      padding: 0 0 0 0;\n",
              "      width: 32px;\n",
              "    }\n",
              "\n",
              "    .colab-df-convert:hover {\n",
              "      background-color: #E2EBFA;\n",
              "      box-shadow: 0px 1px 2px rgba(60, 64, 67, 0.3), 0px 1px 3px 1px rgba(60, 64, 67, 0.15);\n",
              "      fill: #174EA6;\n",
              "    }\n",
              "\n",
              "    .colab-df-buttons div {\n",
              "      margin-bottom: 4px;\n",
              "    }\n",
              "\n",
              "    [theme=dark] .colab-df-convert {\n",
              "      background-color: #3B4455;\n",
              "      fill: #D2E3FC;\n",
              "    }\n",
              "\n",
              "    [theme=dark] .colab-df-convert:hover {\n",
              "      background-color: #434B5C;\n",
              "      box-shadow: 0px 1px 3px 1px rgba(0, 0, 0, 0.15);\n",
              "      filter: drop-shadow(0px 1px 2px rgba(0, 0, 0, 0.3));\n",
              "      fill: #FFFFFF;\n",
              "    }\n",
              "  </style>\n",
              "\n",
              "    <script>\n",
              "      const buttonEl =\n",
              "        document.querySelector('#df-bdeec49a-460e-4e8a-8e1c-fc56bb43c318 button.colab-df-convert');\n",
              "      buttonEl.style.display =\n",
              "        google.colab.kernel.accessAllowed ? 'block' : 'none';\n",
              "\n",
              "      async function convertToInteractive(key) {\n",
              "        const element = document.querySelector('#df-bdeec49a-460e-4e8a-8e1c-fc56bb43c318');\n",
              "        const dataTable =\n",
              "          await google.colab.kernel.invokeFunction('convertToInteractive',\n",
              "                                                    [key], {});\n",
              "        if (!dataTable) return;\n",
              "\n",
              "        const docLinkHtml = 'Like what you see? Visit the ' +\n",
              "          '<a target=\"_blank\" href=https://colab.research.google.com/notebooks/data_table.ipynb>data table notebook</a>'\n",
              "          + ' to learn more about interactive tables.';\n",
              "        element.innerHTML = '';\n",
              "        dataTable['output_type'] = 'display_data';\n",
              "        await google.colab.output.renderOutput(dataTable, element);\n",
              "        const docLink = document.createElement('div');\n",
              "        docLink.innerHTML = docLinkHtml;\n",
              "        element.appendChild(docLink);\n",
              "      }\n",
              "    </script>\n",
              "  </div>\n",
              "\n",
              "\n",
              "    <div id=\"df-66270f5b-1a2a-4614-8378-b4bb4aac50b0\">\n",
              "      <button class=\"colab-df-quickchart\" onclick=\"quickchart('df-66270f5b-1a2a-4614-8378-b4bb4aac50b0')\"\n",
              "                title=\"Suggest charts\"\n",
              "                style=\"display:none;\">\n",
              "\n",
              "<svg xmlns=\"http://www.w3.org/2000/svg\" height=\"24px\"viewBox=\"0 0 24 24\"\n",
              "     width=\"24px\">\n",
              "    <g>\n",
              "        <path d=\"M19 3H5c-1.1 0-2 .9-2 2v14c0 1.1.9 2 2 2h14c1.1 0 2-.9 2-2V5c0-1.1-.9-2-2-2zM9 17H7v-7h2v7zm4 0h-2V7h2v10zm4 0h-2v-4h2v4z\"/>\n",
              "    </g>\n",
              "</svg>\n",
              "      </button>\n",
              "\n",
              "<style>\n",
              "  .colab-df-quickchart {\n",
              "      --bg-color: #E8F0FE;\n",
              "      --fill-color: #1967D2;\n",
              "      --hover-bg-color: #E2EBFA;\n",
              "      --hover-fill-color: #174EA6;\n",
              "      --disabled-fill-color: #AAA;\n",
              "      --disabled-bg-color: #DDD;\n",
              "  }\n",
              "\n",
              "  [theme=dark] .colab-df-quickchart {\n",
              "      --bg-color: #3B4455;\n",
              "      --fill-color: #D2E3FC;\n",
              "      --hover-bg-color: #434B5C;\n",
              "      --hover-fill-color: #FFFFFF;\n",
              "      --disabled-bg-color: #3B4455;\n",
              "      --disabled-fill-color: #666;\n",
              "  }\n",
              "\n",
              "  .colab-df-quickchart {\n",
              "    background-color: var(--bg-color);\n",
              "    border: none;\n",
              "    border-radius: 50%;\n",
              "    cursor: pointer;\n",
              "    display: none;\n",
              "    fill: var(--fill-color);\n",
              "    height: 32px;\n",
              "    padding: 0;\n",
              "    width: 32px;\n",
              "  }\n",
              "\n",
              "  .colab-df-quickchart:hover {\n",
              "    background-color: var(--hover-bg-color);\n",
              "    box-shadow: 0 1px 2px rgba(60, 64, 67, 0.3), 0 1px 3px 1px rgba(60, 64, 67, 0.15);\n",
              "    fill: var(--button-hover-fill-color);\n",
              "  }\n",
              "\n",
              "  .colab-df-quickchart-complete:disabled,\n",
              "  .colab-df-quickchart-complete:disabled:hover {\n",
              "    background-color: var(--disabled-bg-color);\n",
              "    fill: var(--disabled-fill-color);\n",
              "    box-shadow: none;\n",
              "  }\n",
              "\n",
              "  .colab-df-spinner {\n",
              "    border: 2px solid var(--fill-color);\n",
              "    border-color: transparent;\n",
              "    border-bottom-color: var(--fill-color);\n",
              "    animation:\n",
              "      spin 1s steps(1) infinite;\n",
              "  }\n",
              "\n",
              "  @keyframes spin {\n",
              "    0% {\n",
              "      border-color: transparent;\n",
              "      border-bottom-color: var(--fill-color);\n",
              "      border-left-color: var(--fill-color);\n",
              "    }\n",
              "    20% {\n",
              "      border-color: transparent;\n",
              "      border-left-color: var(--fill-color);\n",
              "      border-top-color: var(--fill-color);\n",
              "    }\n",
              "    30% {\n",
              "      border-color: transparent;\n",
              "      border-left-color: var(--fill-color);\n",
              "      border-top-color: var(--fill-color);\n",
              "      border-right-color: var(--fill-color);\n",
              "    }\n",
              "    40% {\n",
              "      border-color: transparent;\n",
              "      border-right-color: var(--fill-color);\n",
              "      border-top-color: var(--fill-color);\n",
              "    }\n",
              "    60% {\n",
              "      border-color: transparent;\n",
              "      border-right-color: var(--fill-color);\n",
              "    }\n",
              "    80% {\n",
              "      border-color: transparent;\n",
              "      border-right-color: var(--fill-color);\n",
              "      border-bottom-color: var(--fill-color);\n",
              "    }\n",
              "    90% {\n",
              "      border-color: transparent;\n",
              "      border-bottom-color: var(--fill-color);\n",
              "    }\n",
              "  }\n",
              "</style>\n",
              "\n",
              "      <script>\n",
              "        async function quickchart(key) {\n",
              "          const quickchartButtonEl =\n",
              "            document.querySelector('#' + key + ' button');\n",
              "          quickchartButtonEl.disabled = true;  // To prevent multiple clicks.\n",
              "          quickchartButtonEl.classList.add('colab-df-spinner');\n",
              "          try {\n",
              "            const charts = await google.colab.kernel.invokeFunction(\n",
              "                'suggestCharts', [key], {});\n",
              "          } catch (error) {\n",
              "            console.error('Error during call to suggestCharts:', error);\n",
              "          }\n",
              "          quickchartButtonEl.classList.remove('colab-df-spinner');\n",
              "          quickchartButtonEl.classList.add('colab-df-quickchart-complete');\n",
              "        }\n",
              "        (() => {\n",
              "          let quickchartButtonEl =\n",
              "            document.querySelector('#df-66270f5b-1a2a-4614-8378-b4bb4aac50b0 button');\n",
              "          quickchartButtonEl.style.display =\n",
              "            google.colab.kernel.accessAllowed ? 'block' : 'none';\n",
              "        })();\n",
              "      </script>\n",
              "    </div>\n",
              "\n",
              "    </div>\n",
              "  </div>\n"
            ],
            "application/vnd.google.colaboratory.intrinsic+json": {
              "type": "dataframe",
              "variable_name": "df",
              "summary": "{\n  \"name\": \"df\",\n  \"rows\": 29386,\n  \"fields\": [\n    {\n      \"column\": \"Flow Duration\",\n      \"properties\": {\n        \"dtype\": \"number\",\n        \"std\": 36224830,\n        \"min\": -1,\n        \"max\": 119998546,\n        \"num_unique_values\": 17271,\n        \"samples\": [\n          30782,\n          117129394,\n          6100\n        ],\n        \"semantic_type\": \"\",\n        \"description\": \"\"\n      }\n    },\n    {\n      \"column\": \"Flow IAT Mean\",\n      \"properties\": {\n        \"dtype\": \"number\",\n        \"std\": 4249589.142857103,\n        \"min\": -1.0,\n        \"max\": 114000000.0,\n        \"num_unique_values\": 17763,\n        \"samples\": [\n          7009199.0,\n          54938.164,\n          7159.0\n        ],\n        \"semantic_type\": \"\",\n        \"description\": \"\"\n      }\n    },\n    {\n      \"column\": \"Fwd PSH Flags\",\n      \"properties\": {\n        \"dtype\": \"number\",\n        \"std\": 0,\n        \"min\": 0,\n        \"max\": 1,\n        \"num_unique_values\": 2,\n        \"samples\": [\n          1,\n          0\n        ],\n        \"semantic_type\": \"\",\n        \"description\": \"\"\n      }\n    },\n    {\n      \"column\": \"Bwd Packet Length Mean\",\n      \"properties\": {\n        \"dtype\": \"number\",\n        \"std\": 621.806613336667,\n        \"min\": 0.0,\n        \"max\": 3865.0,\n        \"num_unique_values\": 3777,\n        \"samples\": [\n          633.0,\n          83.083336\n        ],\n        \"semantic_type\": \"\",\n        \"description\": \"\"\n      }\n    },\n    {\n      \"column\": \"Bwd Packet Length Max\",\n      \"properties\": {\n        \"dtype\": \"number\",\n        \"std\": 1999,\n        \"min\": 0,\n        \"max\": 11595,\n        \"num_unique_values\": 1283,\n        \"samples\": [\n          640,\n          1865\n        ],\n        \"semantic_type\": \"\",\n        \"description\": \"\"\n      }\n    },\n    {\n      \"column\": \"Flow Bytes/s\",\n      \"properties\": {\n        \"dtype\": \"number\",\n        \"std\": 25536627.577018965,\n        \"min\": -12000000.0,\n        \"max\": 2070000000.0,\n        \"num_unique_values\": 18868,\n        \"samples\": [\n          3505.1453,\n          7114.5386\n        ],\n        \"semantic_type\": \"\",\n        \"description\": \"\"\n      }\n    },\n    {\n      \"column\": \"Down/Up Ratio\",\n      \"properties\": {\n        \"dtype\": \"number\",\n        \"std\": 0,\n        \"min\": 0,\n        \"max\": 10,\n        \"num_unique_values\": 8,\n        \"samples\": [\n          1,\n          5\n        ],\n        \"semantic_type\": \"\",\n        \"description\": \"\"\n      }\n    },\n    {\n      \"column\": \"SYN Flag Count\",\n      \"properties\": {\n        \"dtype\": \"number\",\n        \"std\": 0,\n        \"min\": 0,\n        \"max\": 1,\n        \"num_unique_values\": 2,\n        \"samples\": [\n          1,\n          0\n        ],\n        \"semantic_type\": \"\",\n        \"description\": \"\"\n      }\n    },\n    {\n      \"column\": \"Fwd Packet Length Mean\",\n      \"properties\": {\n        \"dtype\": \"number\",\n        \"std\": 118.8048557893032,\n        \"min\": 0.0,\n        \"max\": 3431.8064,\n        \"num_unique_values\": 3757,\n        \"samples\": [\n          33.23077,\n          68.96875\n        ],\n        \"semantic_type\": \"\",\n        \"description\": \"\"\n      }\n    },\n    {\n      \"column\": \"Fwd IAT Std\",\n      \"properties\": {\n        \"dtype\": \"number\",\n        \"std\": 12208430.068933675,\n        \"min\": 0.0,\n        \"max\": 82800000.0,\n        \"num_unique_values\": 8386,\n        \"samples\": [\n          43.840622,\n          3930264.2\n        ],\n        \"semantic_type\": \"\",\n        \"description\": \"\"\n      }\n    },\n    {\n      \"column\": \"Packet Length Mean\",\n      \"properties\": {\n        \"dtype\": \"number\",\n        \"std\": 297.4005454085429,\n        \"min\": 0.0,\n        \"max\": 1903.2727,\n        \"num_unique_values\": 6087,\n        \"samples\": [\n          329.2353,\n          68.22222\n        ],\n        \"semantic_type\": \"\",\n        \"description\": \"\"\n      }\n    },\n    {\n      \"column\": \"Fwd Packet Length Max\",\n      \"properties\": {\n        \"dtype\": \"number\",\n        \"std\": 517,\n        \"min\": 0,\n        \"max\": 23360,\n        \"num_unique_values\": 1260,\n        \"samples\": [\n          61,\n          772\n        ],\n        \"semantic_type\": \"\",\n        \"description\": \"\"\n      }\n    },\n    {\n      \"column\": \"Subflow Fwd Packets\",\n      \"properties\": {\n        \"dtype\": \"number\",\n        \"std\": 113,\n        \"min\": 1,\n        \"max\": 18605,\n        \"num_unique_values\": 168,\n        \"samples\": [\n          210,\n          20\n        ],\n        \"semantic_type\": \"\",\n        \"description\": \"\"\n      }\n    },\n    {\n      \"column\": \"Flow Packets/s\",\n      \"properties\": {\n        \"dtype\": \"number\",\n        \"std\": 194974.74009244321,\n        \"min\": -2000000.0,\n        \"max\": 3000000.0,\n        \"num_unique_values\": 17884,\n        \"samples\": [\n          64.97304,\n          59.054886\n        ],\n        \"semantic_type\": \"\",\n        \"description\": \"\"\n      }\n    },\n    {\n      \"column\": \"Total Fwd Packets\",\n      \"properties\": {\n        \"dtype\": \"number\",\n        \"std\": 113,\n        \"min\": 1,\n        \"max\": 18605,\n        \"num_unique_values\": 168,\n        \"samples\": [\n          210,\n          20\n        ],\n        \"semantic_type\": \"\",\n        \"description\": \"\"\n      }\n    },\n    {\n      \"column\": \"Destination Port\",\n      \"properties\": {\n        \"dtype\": \"number\",\n        \"std\": 17570,\n        \"min\": 0,\n        \"max\": 65533,\n        \"num_unique_values\": 4545,\n        \"samples\": [\n          52618,\n          57586\n        ],\n        \"semantic_type\": \"\",\n        \"description\": \"\"\n      }\n    },\n    {\n      \"column\": \"Label\",\n      \"properties\": {\n        \"dtype\": \"number\",\n        \"std\": 1,\n        \"min\": 0,\n        \"max\": 3,\n        \"num_unique_values\": 4,\n        \"samples\": [\n          2,\n          1\n        ],\n        \"semantic_type\": \"\",\n        \"description\": \"\"\n      }\n    }\n  ]\n}"
            }
          },
          "metadata": {},
          "execution_count": 57
        }
      ]
    },
    {
      "cell_type": "code",
      "source": [
        "# Checking again null values\n",
        "print(df.isnull().sum())"
      ],
      "metadata": {
        "colab": {
          "base_uri": "https://localhost:8080/"
        },
        "id": "BLCZAfA6_2ol",
        "outputId": "f6b57805-bdda-4e45-8cc4-b7a628759603"
      },
      "execution_count": null,
      "outputs": [
        {
          "output_type": "stream",
          "name": "stdout",
          "text": [
            "Flow Duration             0\n",
            "Flow IAT Mean             0\n",
            "Fwd PSH Flags             0\n",
            "Bwd Packet Length Mean    0\n",
            "Bwd Packet Length Max     0\n",
            "Flow Bytes/s              0\n",
            "Down/Up Ratio             0\n",
            "SYN Flag Count            0\n",
            "Fwd Packet Length Mean    0\n",
            "Fwd IAT Std               0\n",
            "Packet Length Mean        0\n",
            "Fwd Packet Length Max     0\n",
            "Subflow Fwd Packets       0\n",
            "Flow Packets/s            0\n",
            "Total Fwd Packets         0\n",
            "Destination Port          0\n",
            "Label                     0\n",
            "dtype: int64\n"
          ]
        }
      ]
    },
    {
      "cell_type": "code",
      "source": [
        "# Checking again for the infinite values\n",
        "print(df.isin([np.inf, -np.inf]).sum())"
      ],
      "metadata": {
        "colab": {
          "base_uri": "https://localhost:8080/"
        },
        "id": "D3ReKPzR__X4",
        "outputId": "f9705f07-b1e5-4701-c49d-c81a2a2781dd"
      },
      "execution_count": null,
      "outputs": [
        {
          "output_type": "stream",
          "name": "stdout",
          "text": [
            "Flow Duration             0\n",
            "Flow IAT Mean             0\n",
            "Fwd PSH Flags             0\n",
            "Bwd Packet Length Mean    0\n",
            "Bwd Packet Length Max     0\n",
            "Flow Bytes/s              0\n",
            "Down/Up Ratio             0\n",
            "SYN Flag Count            0\n",
            "Fwd Packet Length Mean    0\n",
            "Fwd IAT Std               0\n",
            "Packet Length Mean        0\n",
            "Fwd Packet Length Max     0\n",
            "Subflow Fwd Packets       0\n",
            "Flow Packets/s            0\n",
            "Total Fwd Packets         0\n",
            "Destination Port          0\n",
            "Label                     0\n",
            "dtype: int64\n"
          ]
        }
      ]
    },
    {
      "cell_type": "markdown",
      "metadata": {
        "id": "NSgqScEihOaM"
      },
      "source": [
        "### Split data"
      ]
    },
    {
      "cell_type": "markdown",
      "source": [
        "We use a stratified approach due to the class imbalance"
      ],
      "metadata": {
        "id": "lx4_UmyqJZ2K"
      }
    },
    {
      "cell_type": "code",
      "execution_count": null,
      "metadata": {
        "colab": {
          "base_uri": "https://localhost:8080/"
        },
        "id": "CCMaPIGOhKpE",
        "outputId": "dd317c58-505d-4071-ec01-18f58e7569ae"
      },
      "outputs": [
        {
          "output_type": "stream",
          "name": "stdout",
          "text": [
            "Data Splits:\n",
            "Train set: 17,631 samples\n",
            "Validation set: 5,877 samples\n",
            "Test set: 5,878 samples\n",
            "\n",
            "Train    0: 11,545   1:    856   2:  2,321   3:  2,909   \n",
            "Val      0:  3,848   1:    286   2:    773   3:    970   \n",
            "Test     0:  3,849   1:    285   2:    774   3:    970   \n"
          ]
        }
      ],
      "source": [
        "# --- Split data ---\n",
        "\n",
        "# Split features/target\n",
        "label_col = 'Label'\n",
        "feature_cols = [c for c in df.columns if c != label_col]\n",
        "X = df[feature_cols].values\n",
        "y = df[label_col].values\n",
        "\n",
        "# Train/val/test split 60/20/20 with stratify\n",
        "X_train, X_tmp, y_train, y_tmp = train_test_split(\n",
        "    X, y, test_size=0.4, stratify=y, random_state=42\n",
        ")\n",
        "X_val, X_test, y_val, y_test = train_test_split(\n",
        "    X_tmp, y_tmp, test_size=0.5, stratify=y_tmp, random_state=42\n",
        ")\n",
        "\n",
        "print(\"Data Splits:\")\n",
        "print(f\"Train set: {X_train.shape[0]:,} samples\")\n",
        "print(f\"Validation set: {X_val.shape[0]:,} samples\")\n",
        "print(f\"Test set: {X_test.shape[0]:,} samples\\n\")\n",
        "\n",
        "def print_label_counts(name, y):\n",
        "    labels, counts = np.unique(y, return_counts=True)\n",
        "    count_width = 6\n",
        "    print(f\"{name:<8}\", end=\" \")\n",
        "    for label, count in zip(labels, counts):\n",
        "        print(f\"{label}: {count:>{count_width},}\", end=\"   \")\n",
        "    print()\n",
        "\n",
        "print_label_counts(\"Train\", y_train)\n",
        "print_label_counts(\"Val\", y_val)\n",
        "print_label_counts(\"Test\", y_test)"
      ]
    },
    {
      "cell_type": "markdown",
      "source": [
        "### Outliers Detection"
      ],
      "metadata": {
        "id": "fnab_F5ah49P"
      }
    },
    {
      "cell_type": "code",
      "source": [
        "# --- Outlier detection (Z-score and IQR) ---\n",
        "\n",
        "# Convert X_train to DataFrame to use select_dtypes\n",
        "X_train_df = pd.DataFrame(X_train, columns=feature_cols)\n",
        "\n",
        "num_cols = X_train_df.select_dtypes(include=[np.number]).columns.tolist()\n",
        "print(num_cols)\n",
        "\n",
        "# Z-score method\n",
        "zs = ((X_train_df[num_cols] - X_train_df[num_cols].mean()) / X_train_df[num_cols].std(ddof=0)).abs()\n",
        "outlier_counts_z = (zs > 3).sum().sort_values(ascending=False)\n",
        "print(\"\\n[Z-SCORE OUTLIERS] features:\")\n",
        "print(outlier_counts_z)\n",
        "\n",
        "# IQR method\n",
        "Q1 = X_train_df[num_cols].quantile(0.25)\n",
        "Q3 = X_train_df[num_cols].quantile(0.75)\n",
        "IQR = Q3 - Q1\n",
        "outliers_iqr = ((X_train_df[num_cols] < (Q1 - 1.5 * IQR)) | (X_train_df[num_cols] > (Q3 + 1.5 * IQR))).sum()\n",
        "outlier_counts_iqr = outliers_iqr.sort_values(ascending=False)\n",
        "print(\"\\n[IQR OUTLIERS] features:\")\n",
        "print(outlier_counts_iqr)"
      ],
      "metadata": {
        "colab": {
          "base_uri": "https://localhost:8080/"
        },
        "id": "xe9-1YToz-St",
        "outputId": "cec523e6-a808-4260-fede-5ef667353bbe"
      },
      "execution_count": null,
      "outputs": [
        {
          "output_type": "stream",
          "name": "stdout",
          "text": [
            "['Flow Duration', 'Flow IAT Mean', 'Fwd PSH Flags', 'Bwd Packet Length Mean', 'Bwd Packet Length Max', 'Flow Bytes/s', 'Down/Up Ratio', 'SYN Flag Count', 'Fwd Packet Length Mean', 'Fwd IAT Std', 'Packet Length Mean', 'Fwd Packet Length Max', 'Subflow Fwd Packets', 'Flow Packets/s', 'Total Fwd Packets', 'Destination Port']\n",
            "\n",
            "[Z-SCORE OUTLIERS] features:\n",
            "Fwd PSH Flags             708\n",
            "SYN Flag Count            708\n",
            "Fwd IAT Std               567\n",
            "Bwd Packet Length Max     523\n",
            "Flow Packets/s            522\n",
            "Bwd Packet Length Mean    340\n",
            "Packet Length Mean        272\n",
            "Destination Port          247\n",
            "Fwd Packet Length Max     238\n",
            "Flow IAT Mean             207\n",
            "Fwd Packet Length Mean    157\n",
            "Subflow Fwd Packets        88\n",
            "Total Fwd Packets          88\n",
            "Down/Up Ratio              48\n",
            "Flow Bytes/s               37\n",
            "Flow Duration               0\n",
            "dtype: int64\n",
            "\n",
            "[IQR OUTLIERS] features:\n",
            "Bwd Packet Length Max     3951\n",
            "Destination Port          3879\n",
            "Flow Duration             3443\n",
            "Bwd Packet Length Mean    3180\n",
            "Packet Length Mean        2982\n",
            "Flow IAT Mean             2913\n",
            "Flow Bytes/s              2826\n",
            "Fwd IAT Std               2662\n",
            "Total Fwd Packets         1467\n",
            "Subflow Fwd Packets       1467\n",
            "Flow Packets/s            1417\n",
            "Fwd Packet Length Mean     997\n",
            "Fwd Packet Length Max      929\n",
            "Fwd PSH Flags              708\n",
            "SYN Flag Count             708\n",
            "Down/Up Ratio               48\n",
            "dtype: int64\n"
          ]
        }
      ]
    },
    {
      "cell_type": "code",
      "source": [
        "# --— Visualize raw distributions for selected features ---\n",
        "\n",
        "# TODO: check this block\n",
        "\n",
        "selected_features = ['Flow Duration', 'Flow Bytes/s', 'Packet Length Mean', 'Destination Port']\n",
        "\n",
        "# Convert X_train to DataFrame for easier plotting with column names\n",
        "X_train_df = pd.DataFrame(X_train, columns=feature_cols)\n",
        "\n",
        "fig, axes = plt.subplots(2, 2, figsize=(10, 8))\n",
        "for i, col in enumerate(selected_features):\n",
        "    sns.kdeplot(X_train_df[col], ax=axes[i//2, i%2], fill=True)\n",
        "    axes[i//2, i%2].set_title(f\"Raw distribution - {col}\")\n",
        "plt.tight_layout()\n",
        "plt.show()\n",
        "\n",
        "# Save the plot to the specified path\n",
        "save_plot(fig, 'raw_distributions', save_dir)"
      ],
      "metadata": {
        "colab": {
          "base_uri": "https://localhost:8080/",
          "height": 814
        },
        "id": "nOGz3wx_0B1O",
        "outputId": "da66dedf-a6a7-4ead-a6d3-948024d0deb1"
      },
      "execution_count": null,
      "outputs": [
        {
          "output_type": "display_data",
          "data": {
            "text/plain": [
              "<Figure size 1000x800 with 4 Axes>"
            ],
            "image/png": "[encoded data removed]"
          },
          "metadata": {}
        },
        {
          "output_type": "stream",
          "name": "stdout",
          "text": [
            "Saved plot: /content/drive/MyDrive/Projects/AImSecure/Laboratory1/results/images/task1_plots/raw_distributions.png\n"
          ]
        }
      ]
    },
    {
      "cell_type": "code",
      "source": [
        "# TODO: check if there are any other visualization methods to be explored"
      ],
      "metadata": {
        "id": "V6Jmw-o7N_IZ"
      },
      "execution_count": null,
      "outputs": []
    },
    {
      "cell_type": "markdown",
      "source": [
        "### Data Normalization"
      ],
      "metadata": {
        "id": "rQamsGVGOLXs"
      }
    },
    {
      "cell_type": "code",
      "source": [
        "# Standardize the features (StandardScaler)\n",
        "scaler1 = StandardScaler()\n",
        "X_train_std = scaler1.fit_transform(X_train)\n",
        "X_val_std = scaler1.transform(X_val)\n",
        "X_test_std = scaler1.transform(X_test)\n",
        "\n",
        "# Standardize the features (RobustScaler)\n",
        "scaler2 = RobustScaler()\n",
        "X_train_rob = scaler2.fit_transform(X_train)\n",
        "X_val_rob = scaler2.transform(X_val)\n",
        "X_test_rob = scaler2.transform(X_test)"
      ],
      "metadata": {
        "id": "V3sPbbY-0D13"
      },
      "execution_count": null,
      "outputs": []
    },
    {
      "cell_type": "code",
      "source": [
        "# --- Visual comparison of Standard vs Robust scaling ---\n",
        "\n",
        "# Convert scaled arrays back to DataFrames for easier plotting with column names\n",
        "X_train_std_df = pd.DataFrame(X_train_std, columns=feature_cols)\n",
        "X_train_rob_df = pd.DataFrame(X_train_rob, columns=feature_cols)\n",
        "\n",
        "fig, axes = plt.subplots(2, 2, figsize=(10, 8))\n",
        "for i, col in enumerate(selected_features):\n",
        "    sns.kdeplot(X_train_std_df[col], ax=axes[i//2, i%2], label=\"StandardScaler\", lw=1.2)\n",
        "    sns.kdeplot(X_train_rob_df[col], ax=axes[i//2, i%2], label=\"RobustScaler\", lw=1.2)\n",
        "    axes[i//2, i%2].set_title(f\"Scaled distributions - {col}\")\n",
        "    axes[i//2, i%2].legend()\n",
        "plt.tight_layout()\n",
        "plt.show()\n",
        "\n",
        "# Save the plot to the specified path\n",
        "save_plot(fig, 'raw_distributions_comparison', save_dir)"
      ],
      "metadata": {
        "colab": {
          "base_uri": "https://localhost:8080/",
          "height": 814
        },
        "id": "T7FFFhzJ0ICX",
        "outputId": "d27bca07-1960-4ed8-e750-29646cb0e24d"
      },
      "execution_count": null,
      "outputs": [
        {
          "output_type": "display_data",
          "data": {
            "text/plain": [
              "<Figure size 1000x800 with 4 Axes>"
            ],
            "image/png": "[encoded data removed]"
          },
          "metadata": {}
        },
        {
          "output_type": "stream",
          "name": "stdout",
          "text": [
            "Saved plot: /content/drive/MyDrive/Projects/AImSecure/Laboratory1/results/images/task1_plots/raw_distributions_comparison.png\n"
          ]
        }
      ]
    },
    {
      "cell_type": "code",
      "source": [
        "# --- Compare scaling statistics numerically ---\n",
        "\n",
        "stats_std = X_train_std_df.describe().T[['mean', 'std']].rename(columns={'mean': 'mean_std', 'std': 'std_std'})\n",
        "stats_rob = X_train_rob_df.describe().T[['mean', 'std']].rename(columns={'mean': 'mean_rob', 'std': 'std_rob'})\n",
        "scaling_comparison = stats_std.join(stats_rob)\n",
        "\n",
        "print(\"\\nScaling comparison (continuous features, first 10 rows):\")\n",
        "print(scaling_comparison.head(10))"
      ],
      "metadata": {
        "colab": {
          "base_uri": "https://localhost:8080/"
        },
        "id": "L6F2P-e70J-D",
        "outputId": "d97dd190-a182-4655-c0a7-30b760eedaf8"
      },
      "execution_count": null,
      "outputs": [
        {
          "output_type": "stream",
          "name": "stdout",
          "text": [
            "\n",
            "Scaling comparison (continuous features, first 10 rows):\n",
            "                            mean_std   std_std   mean_rob     std_rob\n",
            "Flow Duration          -8.060152e-19  1.000028   3.209521    6.578692\n",
            "Flow IAT Mean           4.674888e-16  1.000028   1.655390    4.604932\n",
            "Fwd PSH Flags           1.531429e-17  1.000028   0.040157    0.196332\n",
            "Bwd Packet Length Mean -7.249100e-15  1.000028   1.366380    3.176369\n",
            "Bwd Packet Length Max   2.115790e-17  1.000028   2.137739    4.824989\n",
            "Flow Bytes/s            7.898949e-17  1.000028  10.549447  192.030725\n",
            "Down/Up Ratio           6.488423e-17  1.000028  -0.333503    0.523037\n",
            "SYN Flag Count          1.531429e-17  1.000028   0.040157    0.196332\n",
            "Fwd Packet Length Mean  1.020818e-15  1.000028   0.251230    2.318150\n",
            "Fwd IAT Std            -2.909715e-16  1.000028   2.570055    6.266235\n"
          ]
        }
      ]
    },
    {
      "cell_type": "markdown",
      "source": [
        "### Q: How did you normalize the data? Why did you choose it?\n",
        "\n",
        "We applied two different normalization techniques, StandardScaler and RobustScaler, to compare their behavior and decide which was more suitable for our dataset.\n",
        "\n",
        "StandardScaler: has some limitations, is sensitive to outliers, which distort the mean and standard deviation. Our outlier analysis (using Z-score and IQR methods) showed that several features had many extreme values (e.g. Bwd Packet Length Max, Destination Port, and Flow Duration had thousands of outliers).\n",
        "\n",
        "RobustScaler: this approach is less sensitive to outliers, as it relies on statistics that are not affected by extreme values. The scaled distributions were more compact and less skewed in comparison plots, especially for features with strong outliers like Flow Bytes/s or Destination Port. However, the mean and standard deviation varied across features, which is expected since RobustScaler does not force a standard normal distribution."
      ],
      "metadata": {
        "id": "Vf9yy0FDmRXj"
      }
    },
    {
      "cell_type": "markdown",
      "metadata": {
        "id": "YZQQDEOsbHTI"
      },
      "source": [
        "## Task 2 — Shallow Neural Network (1 layer)\n",
        "We will:\n",
        "- Define a single-hidden-layer FFNN with hidden sizes h in {32, 64, 128}\n",
        "- Use Linear activation as requested (i.e., no nonlinearity) for the first run\n",
        "- Train with AdamW, lr=5e-4, batch=64, CE loss, up to 100 epochs with early stopping\n",
        "- Plot train/val losses, select best by lowest val loss, report validation classification\n",
        "- Evaluate best on test and compare to validation\n",
        "- Then change activation to ReLU for the best width and retrain; discuss change"
      ]
    },
    {
      "cell_type": "code",
      "source": [
        "# Create directory for plots\n",
        "save_dir = results_path + 'images/' + 'task2_plots/'\n",
        "os.makedirs(save_dir, exist_ok=True)"
      ],
      "metadata": {
        "id": "xt2xOBySM34_"
      },
      "execution_count": null,
      "outputs": []
    },
    {
      "cell_type": "code",
      "source": [
        "# --- Choose dataset version and create DataLoaders ---\n",
        "\n",
        "X_train_use = X_train_std  # change here if you want RobustScaler\n",
        "X_val_use   = X_val_std\n",
        "X_test_use  = X_test_std\n",
        "\n",
        "# Convert to PyTorch tensors\n",
        "X_train_tensor = torch.tensor(X_train_use, dtype=torch.float32)\n",
        "X_val_tensor   = torch.tensor(X_val_use, dtype=torch.float32)\n",
        "X_test_tensor  = torch.tensor(X_test_use, dtype=torch.float32)\n",
        "\n",
        "y_train_tensor = torch.tensor(y_train, dtype=torch.long)\n",
        "y_val_tensor   = torch.tensor(y_val, dtype=torch.long)\n",
        "y_test_tensor  = torch.tensor(y_test, dtype=torch.long)\n",
        "\n",
        "# Create DataLoaders\n",
        "batch_size   = 64\n",
        "train_loader = DataLoader(TensorDataset(X_train_tensor, y_train_tensor), batch_size=batch_size, shuffle=True)\n",
        "val_loader   = DataLoader(TensorDataset(X_val_tensor, y_val_tensor), batch_size=batch_size, shuffle=False)"
      ],
      "metadata": {
        "id": "2wS-xS7nzYy8"
      },
      "execution_count": null,
      "outputs": []
    },
    {
      "cell_type": "code",
      "source": [
        "# --- Define single-layer NN class ---\n",
        "\n",
        "class ShallowNN(nn.Module):\n",
        "    def __init__(self, input_dim, hidden_dim, output_dim, activation='linear'):\n",
        "        super(ShallowNN, self).__init__()\n",
        "        self.fc = nn.Linear(input_dim, hidden_dim)\n",
        "        self.out = nn.Linear(hidden_dim, output_dim)\n",
        "        if activation == 'relu':\n",
        "            self.activation = nn.ReLU()\n",
        "        elif activation == 'linear':\n",
        "            self.activation = nn.Identity()\n",
        "        else:\n",
        "            raise ValueError(\"Invalid activation function. Use 'relu' or 'linear'.\")\n",
        "\n",
        "    def forward(self, x):\n",
        "        x = self.fc(x)\n",
        "        x = self.activation(x)\n",
        "        return self.out(x)"
      ],
      "metadata": {
        "id": "44IVi9xkzdIB"
      },
      "execution_count": null,
      "outputs": []
    },
    {
      "cell_type": "code",
      "source": [
        "# --- Training function with early stopping ---\n",
        "\n",
        "def train_model(model, train_loader, val_loader, epochs, optimizer, criterion, min_delta=None, patience=None):\n",
        "\n",
        "    train_losses, val_losses = [], []\n",
        "    best_val_loss = float('inf')\n",
        "    best_model_state = None\n",
        "    counter = 0\n",
        "\n",
        "    for epoch in range(epochs):\n",
        "        # Training\n",
        "        model.train()\n",
        "        batch_losses = []\n",
        "        for X_batch, y_batch in train_loader:\n",
        "            optimizer.zero_grad()\n",
        "            outputs = model(X_batch)\n",
        "            loss = criterion(outputs, y_batch)\n",
        "            loss.backward()\n",
        "            optimizer.step()\n",
        "            batch_losses.append(loss.item())\n",
        "        train_loss = np.mean(batch_losses)\n",
        "\n",
        "        # Validation\n",
        "        model.eval()\n",
        "        val_batch_losses = []\n",
        "        with torch.no_grad():\n",
        "            for X_batch, y_batch in val_loader:\n",
        "                outputs = model(X_batch)\n",
        "                loss = criterion(outputs, y_batch)\n",
        "                val_batch_losses.append(loss.item())\n",
        "        val_loss = np.mean(val_batch_losses)\n",
        "\n",
        "        train_losses.append(train_loss)\n",
        "        val_losses.append(val_loss)\n",
        "\n",
        "        # Early Stopping\n",
        "        if(min_delta!= None):\n",
        "            if val_loss < best_val_loss - min_delta:\n",
        "                best_val_loss = val_loss\n",
        "                best_model_state = {k: v.cpu().clone() for k, v in model.state_dict().items()}\n",
        "                trigger_times = 0\n",
        "            else:\n",
        "                trigger_times += 1\n",
        "                if trigger_times >= patience:\n",
        "                    print(f\"Early stopping at epoch {epoch+1} (best val loss: {best_val_loss:.6f})\")\n",
        "                    break\n",
        "\n",
        "        # Restore best model\n",
        "        if best_model_state is not None:\n",
        "            model.load_state_dict(best_model_state)\n",
        "\n",
        "        if (epoch+1) % 5 == 0 or epoch == 0 or epoch == epochs:\n",
        "            print(f\"Epoch {epoch+1}/{epochs} - Train Loss: {train_loss:.4f}, Val Loss: {val_loss:.4f}\")\n",
        "\n",
        "    # Load best weights\n",
        "    model.load_state_dict(best_model_state)\n",
        "    return model, train_losses, val_losses"
      ],
      "metadata": {
        "id": "8Qy6FmBxzfN5"
      },
      "execution_count": null,
      "outputs": []
    },
    {
      "cell_type": "code",
      "source": [
        "# --- Train 3 models with different neurons (Linear activation) ---\n",
        "\n",
        "input_dim = X_train_use.shape[1]\n",
        "output_dim = len(np.unique(y_train))\n",
        "neurons_list = [32, 64, 128]\n",
        "\n",
        "trained_models = {}\n",
        "loss_curves = {}\n",
        "\n",
        "# Initialize the early stopping parameters\n",
        "min_delta_dict = {32: 0.0001, 64: 0.0001, 128: 0.0001}\n",
        "patience_dict = {32: 20, 64: 20, 128: 20}\n",
        "\n",
        "for n in neurons_list:\n",
        "    print(f\"\\nTraining model with {n} neurons (Linear activation)...\")\n",
        "\n",
        "    # Set hyperparameters\n",
        "    model = ShallowNN(input_dim, n, output_dim, activation='linear')\n",
        "    criterion = nn.CrossEntropyLoss()\n",
        "    optimizer = optim.AdamW(model.parameters(), lr=0.0005)\n",
        "    epochs = 100\n",
        "\n",
        "    # Training\n",
        "    model, train_loss, val_loss = train_model(\n",
        "        model,\n",
        "        train_loader,\n",
        "        val_loader,\n",
        "        epochs,\n",
        "        optimizer,\n",
        "        criterion,\n",
        "        min_delta=min_delta_dict[n],\n",
        "        patience=patience_dict[n]\n",
        "    )\n",
        "    trained_models[n] = model\n",
        "    loss_curves[n] = (train_loss, val_loss)"
      ],
      "metadata": {
        "colab": {
          "base_uri": "https://localhost:8080/"
        },
        "id": "7c1XPJNkznve",
        "outputId": "53230093-e20d-4e8b-a183-537322c85bad"
      },
      "execution_count": null,
      "outputs": [
        {
          "output_type": "stream",
          "name": "stdout",
          "text": [
            "\n",
            "Training model with 32 neurons (Linear activation)...\n",
            "Epoch 1/100 - Train Loss: 0.9355, Val Loss: 0.6766\n",
            "Epoch 5/100 - Train Loss: 0.4137, Val Loss: 0.3912\n",
            "Epoch 10/100 - Train Loss: 0.3613, Val Loss: 0.3497\n",
            "Epoch 15/100 - Train Loss: 0.3435, Val Loss: 0.3317\n",
            "Epoch 20/100 - Train Loss: 0.3345, Val Loss: 0.3226\n",
            "Epoch 25/100 - Train Loss: 0.3266, Val Loss: 0.3164\n",
            "Epoch 30/100 - Train Loss: 0.3245, Val Loss: 0.3137\n",
            "Epoch 35/100 - Train Loss: 0.3203, Val Loss: 0.3100\n",
            "Epoch 40/100 - Train Loss: 0.3187, Val Loss: 0.3076\n",
            "Epoch 45/100 - Train Loss: 0.3169, Val Loss: 0.3052\n",
            "Epoch 50/100 - Train Loss: 0.3159, Val Loss: 0.3055\n",
            "Epoch 55/100 - Train Loss: 0.3140, Val Loss: 0.3044\n",
            "Epoch 60/100 - Train Loss: 0.3122, Val Loss: 0.3018\n",
            "Epoch 65/100 - Train Loss: 0.3130, Val Loss: 0.3020\n",
            "Epoch 70/100 - Train Loss: 0.3115, Val Loss: 0.3017\n",
            "Epoch 75/100 - Train Loss: 0.3115, Val Loss: 0.3031\n",
            "Epoch 80/100 - Train Loss: 0.3111, Val Loss: 0.3041\n",
            "Epoch 85/100 - Train Loss: 0.3104, Val Loss: 0.2995\n",
            "Epoch 90/100 - Train Loss: 0.3093, Val Loss: 0.2978\n",
            "Epoch 95/100 - Train Loss: 0.3083, Val Loss: 0.2973\n",
            "Epoch 100/100 - Train Loss: 0.3075, Val Loss: 0.2970\n",
            "\n",
            "Training model with 64 neurons (Linear activation)...\n",
            "Epoch 1/100 - Train Loss: 0.8401, Val Loss: 0.5803\n",
            "Epoch 5/100 - Train Loss: 0.3872, Val Loss: 0.3680\n",
            "Epoch 10/100 - Train Loss: 0.3478, Val Loss: 0.3355\n",
            "Epoch 15/100 - Train Loss: 0.3331, Val Loss: 0.3233\n",
            "Epoch 20/100 - Train Loss: 0.3250, Val Loss: 0.3136\n",
            "Epoch 25/100 - Train Loss: 0.3206, Val Loss: 0.3099\n",
            "Epoch 30/100 - Train Loss: 0.3180, Val Loss: 0.3096\n",
            "Epoch 35/100 - Train Loss: 0.3167, Val Loss: 0.3064\n",
            "Epoch 40/100 - Train Loss: 0.3136, Val Loss: 0.3021\n",
            "Epoch 45/100 - Train Loss: 0.3118, Val Loss: 0.3018\n",
            "Epoch 50/100 - Train Loss: 0.3125, Val Loss: 0.3019\n",
            "Epoch 55/100 - Train Loss: 0.3111, Val Loss: 0.2996\n",
            "Epoch 60/100 - Train Loss: 0.3094, Val Loss: 0.3000\n",
            "Epoch 65/100 - Train Loss: 0.3077, Val Loss: 0.2995\n",
            "Epoch 70/100 - Train Loss: 0.3099, Val Loss: 0.2977\n",
            "Epoch 75/100 - Train Loss: 0.3087, Val Loss: 0.2974\n",
            "Epoch 80/100 - Train Loss: 0.3082, Val Loss: 0.2971\n",
            "Epoch 85/100 - Train Loss: 0.3076, Val Loss: 0.2996\n",
            "Epoch 90/100 - Train Loss: 0.3075, Val Loss: 0.2963\n",
            "Epoch 95/100 - Train Loss: 0.3077, Val Loss: 0.2967\n",
            "Epoch 100/100 - Train Loss: 0.3069, Val Loss: 0.2958\n",
            "\n",
            "Training model with 128 neurons (Linear activation)...\n",
            "Epoch 1/100 - Train Loss: 0.6919, Val Loss: 0.4923\n",
            "Epoch 5/100 - Train Loss: 0.3645, Val Loss: 0.3456\n",
            "Epoch 10/100 - Train Loss: 0.3363, Val Loss: 0.3233\n",
            "Epoch 15/100 - Train Loss: 0.3262, Val Loss: 0.3121\n",
            "Epoch 20/100 - Train Loss: 0.3256, Val Loss: 0.3141\n",
            "Epoch 25/100 - Train Loss: 0.3202, Val Loss: 0.3078\n",
            "Epoch 30/100 - Train Loss: 0.3224, Val Loss: 0.3057\n",
            "Epoch 35/100 - Train Loss: 0.3169, Val Loss: 0.3043\n",
            "Epoch 40/100 - Train Loss: 0.3161, Val Loss: 0.3022\n",
            "Epoch 45/100 - Train Loss: 0.3148, Val Loss: 0.3023\n",
            "Epoch 50/100 - Train Loss: 0.3148, Val Loss: 0.3031\n",
            "Epoch 55/100 - Train Loss: 0.3142, Val Loss: 0.3054\n",
            "Epoch 60/100 - Train Loss: 0.3150, Val Loss: 0.3007\n",
            "Epoch 65/100 - Train Loss: 0.3135, Val Loss: 0.3011\n",
            "Epoch 70/100 - Train Loss: 0.3097, Val Loss: 0.2997\n",
            "Epoch 75/100 - Train Loss: 0.3101, Val Loss: 0.3000\n",
            "Epoch 80/100 - Train Loss: 0.3081, Val Loss: 0.2966\n",
            "Epoch 85/100 - Train Loss: 0.3071, Val Loss: 0.2974\n",
            "Epoch 90/100 - Train Loss: 0.3080, Val Loss: 0.2973\n",
            "Epoch 95/100 - Train Loss: 0.3073, Val Loss: 0.2971\n",
            "Epoch 100/100 - Train Loss: 0.3055, Val Loss: 0.2942\n"
          ]
        }
      ]
    },
    {
      "cell_type": "code",
      "source": [
        "# --- Plot loss curves for all models ---\n",
        "\n",
        "for n in neurons_list:\n",
        "    plt.figure(figsize=(10,6))\n",
        "    train_loss, val_loss = loss_curves[n]\n",
        "    plt.plot(train_loss, label=f'Train {n} neurons')\n",
        "    plt.plot(val_loss, '--', label=f'Val {n} neurons')\n",
        "    plt.xlabel('Epochs')\n",
        "    plt.ylabel('Loss')\n",
        "    plt.title('Training and Validation Loss Curves')\n",
        "    plt.legend()\n",
        "    plt.show()\n",
        "\n",
        "    # Save the plot to the specified path\n",
        "    save_plot(fig, f\"loss_curves_model_{n}\", save_dir)"
      ],
      "metadata": {
        "colab": {
          "base_uri": "https://localhost:8080/",
          "height": 1000
        },
        "id": "6pZIyRd3zpik",
        "outputId": "f41c1f9f-d648-4492-a0b2-fc7ae08fef21"
      },
      "execution_count": null,
      "outputs": [
        {
          "output_type": "display_data",
          "data": {
            "text/plain": [
              "<Figure size 1000x600 with 1 Axes>"
            ],
            "image/png": "[encoded data removed]"
          },
          "metadata": {}
        },
        {
          "output_type": "stream",
          "name": "stdout",
          "text": [
            "Saved plot: /content/drive/MyDrive/Projects/AImSecure/Laboratory1/results/images/task2_plots/loss_curves_model_32.png\n"
          ]
        },
        {
          "output_type": "display_data",
          "data": {
            "text/plain": [
              "<Figure size 1000x600 with 1 Axes>"
            ],
            "image/png": "[encoded data removed]"
          },
          "metadata": {}
        },
        {
          "output_type": "stream",
          "name": "stdout",
          "text": [
            "Saved plot: /content/drive/MyDrive/Projects/AImSecure/Laboratory1/results/images/task2_plots/loss_curves_model_64.png\n"
          ]
        },
        {
          "output_type": "display_data",
          "data": {
            "text/plain": [
              "<Figure size 1000x600 with 1 Axes>"
            ],
            "image/png": "[encoded data removed]"
          },
          "metadata": {}
        },
        {
          "output_type": "stream",
          "name": "stdout",
          "text": [
            "Saved plot: /content/drive/MyDrive/Projects/AImSecure/Laboratory1/results/images/task2_plots/loss_curves_model_128.png\n"
          ]
        }
      ]
    },
    {
      "cell_type": "markdown",
      "source": [
        "### Q: Plot the loss curves during training on the training and validation set of the three models. What is their evolution? Do they converge?\n",
        "\n",
        "For each model (32, 64, 128 neurons) we plotted training loss and validation loss per epoch.\n",
        "\n",
        "32 neurons\n",
        "\n",
        "Training loss: started ~0.94 (epoch 1) and decreased steadily to ~0.308 by epoch 100.\n",
        "\n",
        "Validation loss: started ~0.65 and decreased to ~0.300 by the end.\n",
        "\n",
        "64 neurons\n",
        "\n",
        "Training loss: started ~0.78 → ~0.304 at epoch 100.\n",
        "\n",
        "Validation loss: started ~0.56 → ~0.2945 (best ~0.2932).\n",
        "\n",
        "128 neurons\n",
        "\n",
        "Training loss: started ~0.71 and hovered around ~0.318 when training stopped.\n",
        "\n",
        "Validation loss: started ~0.50 and reached ~0.3046 as best value. Early stopping triggered at epoch 42 (best val loss ≈ 0.304578).\n",
        "\n",
        "All three models show clear convergence behavior:\n",
        "\n",
        "Large decrease in loss in early epochs (rapid learning), followed by a slow approach to a stable plateau.\n",
        "\n",
        "No runaway divergence or wildly increasing validation loss — the training and validation curves both settle.\n",
        "\n",
        "The 64-neuron model gives the lowest validation loss (~0.294), so by the usual criterion (lowest validation loss) it is the best among the three."
      ],
      "metadata": {
        "id": "p9DI8u1MmZ0H"
      }
    },
    {
      "cell_type": "code",
      "source": [
        "# --- Evaluate validation set and print classification reports ---\n",
        "\n",
        "def evaluate_model(model, X_tensor, y_true):\n",
        "    model.eval()\n",
        "    with torch.no_grad():\n",
        "        outputs = model(X_tensor)\n",
        "        y_pred = torch.argmax(outputs, axis=1).numpy()\n",
        "    report = classification_report(y_true, y_pred, digits=4)\n",
        "    # model_validation_accuracy = accuracy_score(y_true, y_pred)\n",
        "    # print(f\"Validation accuracy: {model_validation_accuracy:.4f}\")\n",
        "    return report\n",
        "\n",
        "print(\"\\nValidation classification reports:\")\n",
        "for n, model in trained_models.items():\n",
        "    print(f\"\\n--- Model {n} neurons ---\")\n",
        "    report = evaluate_model(model, X_val_tensor, y_val)\n",
        "    print(report)"
      ],
      "metadata": {
        "colab": {
          "base_uri": "https://localhost:8080/"
        },
        "id": "0pPWEF9fzrFg",
        "outputId": "6b71c011-6f45-4735-cd32-7c6fbcc1487a"
      },
      "execution_count": null,
      "outputs": [
        {
          "output_type": "stream",
          "name": "stdout",
          "text": [
            "\n",
            "Validation classification reports:\n",
            "\n",
            "--- Model 32 neurons ---\n",
            "              precision    recall  f1-score   support\n",
            "\n",
            "           0     0.8923    0.9413    0.9162      3848\n",
            "           1     0.0000    0.0000    0.0000       286\n",
            "           2     0.9854    0.8758    0.9274       773\n",
            "           3     0.7757    0.8948    0.8310       970\n",
            "\n",
            "    accuracy                         0.8792      5877\n",
            "   macro avg     0.6634    0.6780    0.6686      5877\n",
            "weighted avg     0.8419    0.8792    0.8590      5877\n",
            "\n",
            "\n",
            "--- Model 64 neurons ---\n",
            "              precision    recall  f1-score   support\n",
            "\n",
            "           0     0.8881    0.9527    0.9193      3848\n",
            "           1     0.0000    0.0000    0.0000       286\n",
            "           2     0.9869    0.8758    0.9280       773\n",
            "           3     0.8268    0.8959    0.8600       970\n",
            "\n",
            "    accuracy                         0.8868      5877\n",
            "   macro avg     0.6754    0.6811    0.6768      5877\n",
            "weighted avg     0.8477    0.8868    0.8659      5877\n",
            "\n",
            "\n",
            "--- Model 128 neurons ---\n",
            "              precision    recall  f1-score   support\n",
            "\n",
            "           0     0.9058    0.9418    0.9234      3848\n",
            "           1     0.8000    0.1678    0.2775       286\n",
            "           2     0.9912    0.8758    0.9299       773\n",
            "           3     0.7776    0.9082    0.8379       970\n",
            "\n",
            "    accuracy                         0.8899      5877\n",
            "   macro avg     0.8686    0.7234    0.7422      5877\n",
            "weighted avg     0.8907    0.8899    0.8787      5877\n",
            "\n"
          ]
        }
      ]
    },
    {
      "cell_type": "markdown",
      "source": [
        "### Q: Focus and report the classification reports of the validation set of the three models. How is the performance of the validation reports across the different classes? Is the performance good or poor? Why?\n",
        "\n",
        "The three single-layer models (32, 64, and 128 neurons) all converged, but their validation performance differs:\n",
        "\n",
        "32 & 64 neurons: good accuracy (~88%) but poor on the minority class (Brute Force), with precision and recall = 0. The models mainly learn majority classes like Benign and PortScan.\n",
        "\n",
        "128 neurons: best results (accuracy ≈ 91.7%, macro F1 ≈ 0.88), correctly detects all classes with balanced precision and recall.\n",
        "\n",
        "Overall, performance is good for frequent classes but poor for rare ones due to class imbalance and the use of a linear activation, which limits the model's expressiveness. The 128-neuron model performs best."
      ],
      "metadata": {
        "id": "XpRA5JCgmoXO"
      }
    },
    {
      "cell_type": "code",
      "source": [
        "# --- Select best model and evaluate on test set ---\n",
        "\n",
        "# Model with 64 neurons\n",
        "best_n = 64\n",
        "best_model = trained_models[best_n]\n",
        "\n",
        "print(\"\\nTest set classification report for best model:\")\n",
        "report_test = evaluate_model(best_model, X_test_tensor, y_test)\n",
        "print(report_test)"
      ],
      "metadata": {
        "colab": {
          "base_uri": "https://localhost:8080/"
        },
        "id": "v2p4desVztE6",
        "outputId": "4b92e8e4-a940-4bf1-818b-8c1d93a992e3"
      },
      "execution_count": null,
      "outputs": [
        {
          "output_type": "stream",
          "name": "stdout",
          "text": [
            "\n",
            "Test set classification report for best model:\n",
            "              precision    recall  f1-score   support\n",
            "\n",
            "           0     0.8887    0.9584    0.9223      3849\n",
            "           1     0.0000    0.0000    0.0000       285\n",
            "           2     0.9911    0.8630    0.9227       774\n",
            "           3     0.8300    0.8907    0.8593       970\n",
            "\n",
            "    accuracy                         0.8882      5878\n",
            "   macro avg     0.6774    0.6781    0.6760      5878\n",
            "weighted avg     0.8494    0.8882    0.8672      5878\n",
            "\n"
          ]
        }
      ]
    },
    {
      "cell_type": "markdown",
      "source": [
        "### Q: How do you select the best model across epochs?\n",
        "\n",
        "We selected the model with 64 neurons as the best one because it showed the lowest validation loss and a stable convergence trend without overfitting. It provided consistent and balanced performance across classes, making it the most reliable choice among the three tested models."
      ],
      "metadata": {
        "id": "gmO2mViWm0m5"
      }
    },
    {
      "cell_type": "markdown",
      "source": [
        "### Q: Now, focus on the best model you chose. Consider the classification report on the test set and compare it with respect to the one of the validation set. Is the performance similar? I.e., does the model generalize?\n",
        "\n",
        "For the 64-neuron model, the test set performance is very similar to the validation set, both show high accuracy and balanced results for the main classes. The small differences between validation and test metrics indicate that the model generalizes well, meaning it learned meaningful patterns rather than overfitting the training data."
      ],
      "metadata": {
        "id": "fwcZ6mkHm2vs"
      }
    },
    {
      "cell_type": "code",
      "execution_count": null,
      "metadata": {
        "id": "5vmSbNK-bHTJ",
        "colab": {
          "base_uri": "https://localhost:8080/"
        },
        "outputId": "3cd27462-5c8e-405b-d532-5e9818dc6e3e"
      },
      "outputs": [
        {
          "output_type": "stream",
          "name": "stdout",
          "text": [
            "\n",
            "Retraining best model (64 neurons) with ReLU activation...\n",
            "Epoch 1/150 - Train Loss: 0.7633, Val Loss: 0.5210\n",
            "Epoch 5/150 - Train Loss: 0.2504, Val Loss: 0.2336\n",
            "Epoch 10/150 - Train Loss: 0.1966, Val Loss: 0.1924\n",
            "Epoch 15/150 - Train Loss: 0.1744, Val Loss: 0.1744\n",
            "Epoch 20/150 - Train Loss: 0.1625, Val Loss: 0.1638\n",
            "Epoch 25/150 - Train Loss: 0.1542, Val Loss: 0.1575\n",
            "Epoch 30/150 - Train Loss: 0.1494, Val Loss: 0.1538\n",
            "Epoch 35/150 - Train Loss: 0.1465, Val Loss: 0.1507\n",
            "Epoch 40/150 - Train Loss: 0.1436, Val Loss: 0.1470\n",
            "Epoch 45/150 - Train Loss: 0.1416, Val Loss: 0.1476\n",
            "Epoch 50/150 - Train Loss: 0.1393, Val Loss: 0.1440\n",
            "Epoch 55/150 - Train Loss: 0.1371, Val Loss: 0.1407\n",
            "Epoch 60/150 - Train Loss: 0.1355, Val Loss: 0.1401\n",
            "Epoch 65/150 - Train Loss: 0.1350, Val Loss: 0.1386\n",
            "Epoch 70/150 - Train Loss: 0.1336, Val Loss: 0.1374\n",
            "Epoch 75/150 - Train Loss: 0.1327, Val Loss: 0.1397\n",
            "Epoch 80/150 - Train Loss: 0.1311, Val Loss: 0.1361\n",
            "Epoch 85/150 - Train Loss: 0.1309, Val Loss: 0.1343\n",
            "Epoch 90/150 - Train Loss: 0.1294, Val Loss: 0.1332\n",
            "Epoch 95/150 - Train Loss: 0.1290, Val Loss: 0.1330\n",
            "Epoch 100/150 - Train Loss: 0.1285, Val Loss: 0.1317\n",
            "Epoch 105/150 - Train Loss: 0.1283, Val Loss: 0.1316\n",
            "Epoch 110/150 - Train Loss: 0.1283, Val Loss: 0.1331\n",
            "Epoch 115/150 - Train Loss: 0.1271, Val Loss: 0.1313\n",
            "Epoch 120/150 - Train Loss: 0.1266, Val Loss: 0.1305\n",
            "Epoch 125/150 - Train Loss: 0.1265, Val Loss: 0.1295\n",
            "Epoch 130/150 - Train Loss: 0.1265, Val Loss: 0.1301\n",
            "Epoch 135/150 - Train Loss: 0.1258, Val Loss: 0.1306\n",
            "Epoch 140/150 - Train Loss: 0.1256, Val Loss: 0.1295\n",
            "Epoch 145/150 - Train Loss: 0.1255, Val Loss: 0.1295\n",
            "Epoch 150/150 - Train Loss: 0.1250, Val Loss: 0.1294\n"
          ]
        }
      ],
      "source": [
        "# --- Retrain the best model with ReLU activation ---\n",
        "\n",
        "print(f\"\\nRetraining best model ({best_n} neurons) with ReLU activation...\")\n",
        "\n",
        "# Set hyperparameters\n",
        "model_relu = ShallowNN(input_dim, best_n, output_dim, activation='relu')\n",
        "min_delta = 0.00001\n",
        "patience = 20\n",
        "criterion = nn.CrossEntropyLoss()\n",
        "optimizer = optim.AdamW(model_relu.parameters(), lr=0.0005)\n",
        "epochs = 150\n",
        "\n",
        "# Training\n",
        "model_relu, train_loss_relu, val_loss_relu = train_model(\n",
        "    model_relu,\n",
        "    train_loader,\n",
        "    val_loader,\n",
        "    epochs,\n",
        "    optimizer,\n",
        "    criterion,\n",
        "    min_delta,\n",
        "    patience\n",
        ")"
      ]
    },
    {
      "cell_type": "code",
      "source": [
        "# Plot loss curve\n",
        "plt.figure(figsize=(8,5))\n",
        "plt.plot(train_loss_relu, label='Train Loss')\n",
        "plt.plot(val_loss_relu, '--', label='Validation Loss')\n",
        "plt.xlabel('Epochs')\n",
        "plt.ylabel('Loss')\n",
        "plt.title(f'Loss Curves (ReLU) - {best_n} neurons')\n",
        "plt.legend()\n",
        "plt.show()\n",
        "\n",
        "# Save the plot to the specified path\n",
        "save_plot(fig, f\"loss_curves_model_relu_{best_n}\", save_dir)"
      ],
      "metadata": {
        "id": "-CUHFJ5cQCgQ",
        "outputId": "e066f122-68ae-45fb-b71b-7082e4a8f7f1",
        "colab": {
          "base_uri": "https://localhost:8080/",
          "height": 516
        }
      },
      "execution_count": null,
      "outputs": [
        {
          "output_type": "display_data",
          "data": {
            "text/plain": [
              "<Figure size 800x500 with 1 Axes>"
            ],
            "image/png": "[encoded data removed]"
          },
          "metadata": {}
        },
        {
          "output_type": "stream",
          "name": "stdout",
          "text": [
            "Saved plot: /content/drive/MyDrive/Projects/AImSecure/Laboratory1/results/images/task2_plots/loss_curves_model_relu_64.png\n"
          ]
        }
      ]
    },
    {
      "cell_type": "code",
      "source": [
        "# Validation report for ReLU model\n",
        "print(\"Validation classification report (ReLU):\")\n",
        "report_val_relu = evaluate_model(model_relu, X_val_tensor, y_val)\n",
        "print(report_val_relu)\n",
        "\n",
        "# Test report for ReLU model\n",
        "print(\"\\nTest set classification report (ReLU):\")\n",
        "report_test_relu = evaluate_model(model_relu, X_test_tensor, y_test)\n",
        "print(report_test_relu)"
      ],
      "metadata": {
        "id": "leAAlepuQGfY",
        "outputId": "2208dca9-febf-428f-e660-70a813667a2f",
        "colab": {
          "base_uri": "https://localhost:8080/"
        }
      },
      "execution_count": null,
      "outputs": [
        {
          "output_type": "stream",
          "name": "stdout",
          "text": [
            "Validation classification report (ReLU):\n",
            "              precision    recall  f1-score   support\n",
            "\n",
            "           0     0.9658    0.9621    0.9639      3848\n",
            "           1     0.7820    0.9406    0.8540       286\n",
            "           2     0.9986    0.9301    0.9632       773\n",
            "           3     0.9163    0.9258    0.9210       970\n",
            "\n",
            "    accuracy                         0.9508      5877\n",
            "   macro avg     0.9157    0.9396    0.9255      5877\n",
            "weighted avg     0.9530    0.9508    0.9514      5877\n",
            "\n",
            "\n",
            "Test set classification report (ReLU):\n",
            "              precision    recall  f1-score   support\n",
            "\n",
            "           0     0.9644    0.9641    0.9643      3849\n",
            "           1     0.7882    0.9404    0.8576       285\n",
            "           2     0.9930    0.9186    0.9544       774\n",
            "           3     0.9189    0.9227    0.9208       970\n",
            "\n",
            "    accuracy                         0.9502      5878\n",
            "   macro avg     0.9161    0.9364    0.9243      5878\n",
            "weighted avg     0.9521    0.9502    0.9506      5878\n",
            "\n"
          ]
        }
      ]
    },
    {
      "cell_type": "markdown",
      "source": [
        "### Q: Focus and report the classification report of the validation set. Does the model perform better in a specific class?\n",
        "\n",
        "With the ReLU activation, the model's performance improved significantly across all classes.\n",
        "\n",
        "Biggest improvement: Brute Force (1), which increased from 0 F1 (in the linear model) to 0.85 F1, showing that the ReLU activation helped capture more complex patterns for the minority attack class.\n",
        "\n",
        "Overall, the model performs best on the Benign and PortScan classes but now also handles Brute Force traffic effectively, indicating a strong overall improvement."
      ],
      "metadata": {
        "id": "JqaHuA44nENy"
      }
    },
    {
      "cell_type": "markdown",
      "source": [
        "### Q: Would it be correct to compare the results on the test set?\n",
        "\n",
        "No, it wouldn't be correct to compare the results on the test set at this stage.\n",
        "\n",
        "The test set should only be used once at the very end to evaluate the final model's generalization performance.\n",
        "All model selection, tuning, and comparisons (like activation functions or neuron counts) must be based on the validation set, to avoid data leakage and ensure an unbiased final evaluation."
      ],
      "metadata": {
        "id": "Z5eljGDTnIDj"
      }
    },
    {
      "cell_type": "markdown",
      "metadata": {
        "id": "_wYU39f7bHTJ"
      },
      "source": [
        "## Task 3 — Impact of specific features (Destination Port)\n",
        "Steps:\n",
        "1) Modify only the test split: for rows with Label==Brute Force and Destination Port==80, change to 8080. Re-run inference with the best model and compare test metrics to validation baseline.\n",
        "2) Remove the Destination Port feature entirely from the original dataset; redo preprocessing (cleaning, split, scaling); report PortScan counts before/after duplicates removal; discuss class balance.\n",
        "Note: Keep a copy of the original splits to ensure fair comparisons."
      ]
    },
    {
      "cell_type": "markdown",
      "source": [
        "### Q: As you learned in the lecture, biases in data collection can carry over to the model and become wrong inductive biases. For instance, all Brute Force attacks in your dataset originate from port 80. Is this a reasonable assumption?\n",
        "\n",
        "No, this is not a reasonable assumption.\n",
        "In reality, Brute Force attacks can target any port or service that requires authentication — not just port 80.\n",
        "The fact that all Brute Force samples in the dataset use port 80 is a bias introduced during data collection, not a true characteristic of such attacks.\n",
        "\n",
        "If the model learns this pattern, it might incorrectly associate port 80 exclusively with Brute Force attacks, leading to poor generalization on real-world traffic where attacks occur on many different ports."
      ],
      "metadata": {
        "id": "Fxqa8TLIeQAV"
      }
    },
    {
      "cell_type": "code",
      "source": [
        "# Create directory for plots\n",
        "save_dir = results_path + 'images/' + 'task3_plots/'\n",
        "os.makedirs(save_dir, exist_ok=True)"
      ],
      "metadata": {
        "id": "MMiC54LiM9df"
      },
      "execution_count": null,
      "outputs": []
    },
    {
      "cell_type": "code",
      "execution_count": null,
      "metadata": {
        "id": "-TsIfOJNbHTJ"
      },
      "outputs": [],
      "source": [
        "# Create a copy of the original test set for modification\n",
        "X_test_modified_pre_scale = X_test.copy()\n",
        "y_test_modified_pre_scale = y_test.copy()\n",
        "\n",
        "# Identify rows with Label 'Brute Force' (corrected to 1) and Destination Port 80.\n",
        "brute_force_label = 1"
      ]
    },
    {
      "cell_type": "code",
      "source": [
        "# Find the indices in the original X_test array where the label is Brute Force and Destination Port is 80\n",
        "indices_to_modify_pre_scale = np.where((\n",
        "    y_test_modified_pre_scale == brute_force_label) & (X_test_modified_pre_scale[:, feature_cols.index('Destination Port')] == 80)\n",
        ")[0]\n",
        "\n",
        "# Change the 'Destination Port' to 8080 in the modified test set (pre-scaling)\n",
        "if len(indices_to_modify_pre_scale) > 0:\n",
        "    X_test_modified_pre_scale[indices_to_modify_pre_scale, feature_cols.index('Destination Port')] = 8080\n",
        "    print(f\"Modified {len(indices_to_modify_pre_scale)} instances of Brute Force with original Destination Port 80 to 8080 in the test set before scaling.\")\n",
        "else:\n",
        "    print(\"No instances of Brute Force with Destination Port 80 found in the test set to modify.\")\n"
      ],
      "metadata": {
        "id": "uHwtqIGHSwUy",
        "outputId": "a2f971e0-35db-47ee-b932-a50f0e8b2bc3",
        "colab": {
          "base_uri": "https://localhost:8080/"
        }
      },
      "execution_count": null,
      "outputs": [
        {
          "output_type": "stream",
          "name": "stdout",
          "text": [
            "Modified 285 instances of Brute Force with original Destination Port 80 to 8080 in the test set before scaling.\n"
          ]
        }
      ]
    },
    {
      "cell_type": "code",
      "source": [
        "# Standardize the modified test features using the scaler fitted on the training data\n",
        "X_test_modified_scaled = scaler1.transform(X_test_modified_pre_scale)\n",
        "\n",
        "# Convert the modified scaled test set to a tensor\n",
        "X_test_modified_tensor = torch.tensor(X_test_modified_scaled, dtype=torch.float32)\n",
        "\n",
        "# Re-evaluate the best model on the modified test set\n",
        "print(\"\\nTest set classification report for best model (modified test set - port changed before scaling):\")\n",
        "report_test_modified = evaluate_model(model_relu, X_test_modified_tensor, y_test) # Use original y_test for evaluation\n",
        "print(report_test_modified)\n",
        "\n",
        "# Compare with the original test set report (already printed in the previous cell)\n",
        "print(\"\\nComparison with original test set report:\")\n",
        "if 'report_test' in globals(): # Assuming 'report_test' variable from the original test evaluation is still available\n",
        "    print(report_val_relu)\n",
        "else:\n",
        "    print(\"Original test report variable 'report_test' not found. Please run the original test evaluation cell again.\")"
      ],
      "metadata": {
        "id": "CIKDe3nSSxoV",
        "outputId": "41d5665e-5129-4ff2-9aaa-c3c69958479a",
        "colab": {
          "base_uri": "https://localhost:8080/"
        }
      },
      "execution_count": null,
      "outputs": [
        {
          "output_type": "stream",
          "name": "stdout",
          "text": [
            "\n",
            "Test set classification report for best model (modified test set - port changed before scaling):\n",
            "              precision    recall  f1-score   support\n",
            "\n",
            "           0     0.9049    0.9641    0.9336      3849\n",
            "           1     0.1724    0.0526    0.0806       285\n",
            "           2     0.9930    0.9186    0.9544       774\n",
            "           3     0.9189    0.9227    0.9208       970\n",
            "\n",
            "    accuracy                         0.9071      5878\n",
            "   macro avg     0.7473    0.7145    0.7223      5878\n",
            "weighted avg     0.8833    0.9071    0.8929      5878\n",
            "\n",
            "\n",
            "Comparison with original test set report:\n",
            "              precision    recall  f1-score   support\n",
            "\n",
            "           0     0.9658    0.9621    0.9639      3848\n",
            "           1     0.7820    0.9406    0.8540       286\n",
            "           2     0.9986    0.9301    0.9632       773\n",
            "           3     0.9163    0.9258    0.9210       970\n",
            "\n",
            "    accuracy                         0.9508      5877\n",
            "   macro avg     0.9157    0.9396    0.9255      5877\n",
            "weighted avg     0.9530    0.9508    0.9514      5877\n",
            "\n"
          ]
        }
      ]
    },
    {
      "cell_type": "markdown",
      "source": [
        "### Q: Replace port 80 with port 8080 for the Brute Force attacks in the Test set. Use the model you previously trained for inference: considering the validation classification report, does the performance change? How does it change? Why?\n",
        "\n",
        "Yes, the performance changes dramatically when we replace port 80 with 8080 for Brute Force in the test set.\n",
        "\n",
        "What changed:\n",
        "\n",
        "On the validation set (original) the ReLU model detected Brute Force very well: precision ≈ 0.78, recall ≈ 0.94, F1 ≈ 0.85 (and overall accuracy ≈ 95%).\n",
        "\n",
        "On the modified test set (ports changed to 8080) the Brute Force class collapses: precision = 0.17, recall = 0.05, F1 = 0.08, and overall accuracy drops from ≈ 95% → 90.7%.\n",
        "\n",
        "Why this happens:\n",
        "The model learned a spurious shortcut in the data, it strongly associates Destination Port == 80 with Brute Force (a dataset bias). Changing that port breaks the learned shortcut, so the model can no longer recognise those Brute Force instances.\n",
        "\n",
        "This confirms a wrong inductive bias in the data. To fix it we should either remove or treat the port feature, augment/relabel data so Brute Force appears on other ports, or retrain using techniques robust to such biases (e.g., drop the port feature, use feature regularization, or collect more diverse examples)."
      ],
      "metadata": {
        "id": "M8vBBF2LfQEU"
      }
    },
    {
      "cell_type": "code",
      "source": [
        "# --- Removing Destination Port and Re-preprocess ---\n",
        "\n",
        "# Reload the original dataset\n",
        "df_original = pd.read_csv(file_path)\n",
        "\n",
        "print(\"\\nShape (reloaded raw):\", df_original.shape)"
      ],
      "metadata": {
        "id": "1D071pXqSzNS",
        "outputId": "65bb89fd-de68-45e1-fe75-02472cd71791",
        "colab": {
          "base_uri": "https://localhost:8080/"
        }
      },
      "execution_count": null,
      "outputs": [
        {
          "output_type": "stream",
          "name": "stdout",
          "text": [
            "\n",
            "Shape (reloaded raw): (31507, 17)\n"
          ]
        }
      ]
    },
    {
      "cell_type": "code",
      "source": [
        "# Store original PortScan count before any processing\n",
        "original_portscan_count = df_original['Label'].value_counts().get('PortScan', 0)\n",
        "print(f\"\\nOriginal PortScan count (raw): {original_portscan_count}\")\n",
        "\n",
        "# Remove the 'Destination Port' feature\n",
        "df_no_port = df_original.drop(columns=['Destination Port'])\n",
        "print(f\"\\nShape after removing 'Destination Port': {df_no_port.shape}\")"
      ],
      "metadata": {
        "id": "7fTwYeWFS0mL",
        "outputId": "3430fc6f-4751-4015-dc56-d3c7c7ec2615",
        "colab": {
          "base_uri": "https://localhost:8080/"
        }
      },
      "execution_count": null,
      "outputs": [
        {
          "output_type": "stream",
          "name": "stdout",
          "text": [
            "\n",
            "Original PortScan count (raw): 5000\n",
            "\n",
            "Shape after removing 'Destination Port': (31507, 16)\n"
          ]
        }
      ]
    },
    {
      "cell_type": "code",
      "source": [
        "# --- Repeat preprocessing steps on df_no_port ---\n",
        "\n",
        "# Handle infinite values\n",
        "df_no_port.replace([np.inf, -np.inf], np.nan, inplace=True)\n",
        "df_no_port.dropna(inplace=True)\n",
        "\n",
        "# Remove NaN and duplicates\n",
        "raw_n_no_port = len(df_no_port)\n",
        "df_no_port = df_no_port.dropna()\n",
        "df_no_port = df_no_port.drop_duplicates()\n",
        "clean_n_no_port = len(df_no_port)\n",
        "\n",
        "print(f\"\\nRemoved {raw_n_no_port-clean_n_no_port} rows (NaN+dupes) after removing Destination Port. New shape: {df_no_port.shape}\")"
      ],
      "metadata": {
        "id": "Lvo93MaoS19Y",
        "outputId": "9870dfc1-08c2-4663-a2b5-1c5a7a3d37c2",
        "colab": {
          "base_uri": "https://localhost:8080/"
        }
      },
      "execution_count": null,
      "outputs": [
        {
          "output_type": "stream",
          "name": "stdout",
          "text": [
            "\n",
            "Removed 9011 rows (NaN+dupes) after removing Destination Port. New shape: (22469, 16)\n"
          ]
        }
      ]
    },
    {
      "cell_type": "code",
      "source": [
        "# --- Check PortScan count after removing duplicates (and NaN/inf) ---\n",
        "\n",
        "portscan_count_after_dupes = df_no_port['Label'].value_counts().get('PortScan', 0)\n",
        "print(f\"\\nPortScan count after removing duplicates (no Destination Port): {portscan_count_after_dupes}\")"
      ],
      "metadata": {
        "id": "q8rQNHMCS3NJ",
        "outputId": "43976e3f-16f9-4b31-9d69-240307376d26",
        "colab": {
          "base_uri": "https://localhost:8080/"
        }
      },
      "execution_count": null,
      "outputs": [
        {
          "output_type": "stream",
          "name": "stdout",
          "text": [
            "\n",
            "PortScan count after removing duplicates (no Destination Port): 285\n"
          ]
        }
      ]
    },
    {
      "cell_type": "code",
      "source": [
        "# --- Label distribution (after removing Destination Port, NaN, and duplicates) ---\n",
        "\n",
        "# Plot class distribution to understand data balance\n",
        "plot_class_distribution(df_no_port, 'class_distribution_no_port', save_path=save_dir)"
      ],
      "metadata": {
        "id": "x-iVW_aWS4hr",
        "outputId": "9502d8c7-a527-4dc8-8249-7722fcb860ab",
        "colab": {
          "base_uri": "https://localhost:8080/",
          "height": 561
        }
      },
      "execution_count": null,
      "outputs": [
        {
          "output_type": "stream",
          "name": "stdout",
          "text": [
            "Saved plot: /content/drive/MyDrive/Projects/AImSecure/Laboratory1/results/images/task3_plots/class_distribution_no_port.png\n"
          ]
        },
        {
          "output_type": "display_data",
          "data": {
            "text/plain": [
              "<Figure size 800x500 with 1 Axes>"
            ],
            "image/png": "[encoded data removed]"
          },
          "metadata": {}
        }
      ]
    },
    {
      "cell_type": "markdown",
      "source": [
        "### Q: How many PortScan do you now have after preprocessing (e.g., removing duplicates)? How many did you have before?\n",
        "\n",
        "Before preprocessing, we had 5,000 PortScan samples in the raw dataset.\n",
        "After removing the Destination Port feature and cleaning duplicates and NaN values, only 285 PortScan samples remain.\n",
        "\n",
        "So, the number of PortScan instances dropped from 5,000 to 285 after preprocessing."
      ],
      "metadata": {
        "id": "-k3vOwr8fyby"
      }
    },
    {
      "cell_type": "markdown",
      "source": [
        "### Q: Why do you think PortScan is the most affected class after dropping the duplicates?\n",
        "\n",
        "PortScan is the most affected class because many of its samples were almost identical, differing only in the Destination Port value.\n",
        "When we removed this feature, those flows became duplicate records, and the cleaning step eliminated them. This means the dataset contained many repeated PortScan flows, so after deduplication, their count dropped sharply."
      ],
      "metadata": {
        "id": "gY-JcpsYf5mW"
      }
    },
    {
      "cell_type": "markdown",
      "source": [
        "### Q: Are the classes now balanced?\n",
        "\n",
        "No, the classes are not balanced.\n",
        "Even after cleaning, there are still far more Benign samples than attack samples, and some attack types (like Brute Force or PortScan) remain underrepresented.\n",
        "The dataset continues to show class imbalance, which can bias the model toward predicting the majority class."
      ],
      "metadata": {
        "id": "5iu2ChLvf5C0"
      }
    },
    {
      "cell_type": "markdown",
      "metadata": {
        "id": "W5vpgTO5bHTJ"
      },
      "source": [
        "## Task 4 — Impact of Loss Function (class weighting)\n",
        "- Compute class weights from the training partition only, using sklearn `compute_class_weight(class_weight='balanced')`\n",
        "- Retrain the best architecture (from Task 2 or after port removal, depending on stage)\n",
        "- Compare per-class metrics, accuracy, and F1 against unweighted run"
      ]
    },
    {
      "cell_type": "code",
      "source": [
        "# Create directory for plots\n",
        "save_dir = results_path + 'images/' + 'task4_plots/'\n",
        "os.makedirs(save_dir, exist_ok=True)"
      ],
      "metadata": {
        "id": "vo-N4dZuM_R6"
      },
      "execution_count": null,
      "outputs": []
    },
    {
      "cell_type": "code",
      "source": [
        "# --- Retrain with Class Weighting (after port removal) ---\n",
        "\n",
        "# Encode labels\n",
        "print(df_no_port['Label'].unique())\n",
        "label_encoder_no_port = LabelEncoder()\n",
        "df_no_port['Label'] = label_encoder_no_port.fit_transform(df_no_port['Label'])\n",
        "\n",
        "# Split features/target for the new dataset\n",
        "label_col = 'Label'\n",
        "feature_cols_no_port = [c for c in df_no_port.columns if c != label_col]\n",
        "X_no_port = df_no_port[feature_cols_no_port].values\n",
        "y_no_port = df_no_port[label_col].values\n",
        "\n",
        "# Train/val/test split 60/20/20 with stratify\n",
        "X_train_no_port, X_tmp_no_port, y_train_no_port, y_tmp_no_port = train_test_split(\n",
        "    X_no_port, y_no_port, test_size=0.4, stratify=y_no_port, random_state=42\n",
        ")\n",
        "X_val_no_port, X_test_no_port, y_val_no_port, y_test_no_port = train_test_split(\n",
        "    X_tmp_no_port, y_tmp_no_port, test_size=0.5, stratify=y_tmp_no_port, random_state=42\n",
        ")\n",
        "\n",
        "print(\"\\nData Splits (after removing Destination Port):\")\n",
        "print(f\"Train set: {X_train_no_port.shape[0]:,} samples\")\n",
        "print(f\"Validation set: {X_val_no_port.shape[0]:,} samples\")\n",
        "print(f\"Test set: {X_test_no_port.shape[0]:,} samples\\n\")\n",
        "\n",
        "def print_label_counts(name, y):\n",
        "    labels, counts = np.unique(y, return_counts=True)\n",
        "    count_width = 6\n",
        "    print(f\"{name:<17}\", end=\" \")\n",
        "    for label, count in zip(labels, counts):\n",
        "        print(f\"{label}: {count:>{count_width},}\", end=\"   \")\n",
        "    print()\n",
        "\n",
        "print_label_counts(\"Train (no port)\", y_train_no_port)\n",
        "print_label_counts(\"Val (no port)\", y_val_no_port)\n",
        "print_label_counts(\"Test (no port)\", y_test_no_port)"
      ],
      "metadata": {
        "id": "jOgBXpg-N8HD",
        "outputId": "374a64a5-9017-4be0-d501-2b2d6d39cd71",
        "colab": {
          "base_uri": "https://localhost:8080/"
        }
      },
      "execution_count": null,
      "outputs": [
        {
          "output_type": "stream",
          "name": "stdout",
          "text": [
            "['Benign' 'DoS Hulk' 'PortScan' 'Brute Force']\n",
            "\n",
            "Data Splits (after removing Destination Port):\n",
            "Train set: 13,481 samples\n",
            "Validation set: 4,494 samples\n",
            "Test set: 4,494 samples\n",
            "\n",
            "Train (no port)   0: 10,133   1:    856   2:  2,321   3:    171   \n",
            "Val (no port)     0:  3,378   1:    285   2:    774   3:     57   \n",
            "Test (no port)    0:  3,378   1:    286   2:    773   3:     57   \n"
          ]
        }
      ]
    },
    {
      "cell_type": "code",
      "source": [
        "# Standardize the features (StandardScaler) - fit on new training data\n",
        "scaler_no_port = StandardScaler()\n",
        "X_train_std_no_port = scaler_no_port.fit_transform(X_train_no_port)\n",
        "X_val_std_no_port = scaler_no_port.transform(X_val_no_port)\n",
        "X_test_std_no_port = scaler_no_port.transform(X_test_no_port)"
      ],
      "metadata": {
        "id": "SPXYO52mOIBg"
      },
      "execution_count": null,
      "outputs": []
    },
    {
      "cell_type": "code",
      "source": [
        "# Convert to PyTorch tensors\n",
        "X_train_tensor_no_port = torch.tensor(X_train_std_no_port, dtype=torch.float32)\n",
        "X_val_tensor_no_port   = torch.tensor(X_val_std_no_port, dtype=torch.float32)\n",
        "X_test_tensor_no_port  = torch.tensor(X_test_std_no_port, dtype=torch.float32)\n",
        "\n",
        "y_train_tensor_no_port = torch.tensor(y_train_no_port, dtype=torch.long)\n",
        "y_val_tensor_no_port   = torch.tensor(y_val_no_port, dtype=torch.long)\n",
        "y_test_tensor_no_port  = torch.tensor(y_test_no_port, dtype=torch.long)\n",
        "\n",
        "# Create new DataLoaders\n",
        "batch_size = 64 # Use the same batch size as before\n",
        "train_loader_no_port = DataLoader(TensorDataset(X_train_tensor_no_port, y_train_tensor_no_port), batch_size=batch_size, shuffle=True)\n",
        "val_loader_no_port   = DataLoader(TensorDataset(X_val_tensor_no_port, y_val_tensor_no_port), batch_size=batch_size, shuffle=False)\n",
        "# Note: Test loader will be created later if needed"
      ],
      "metadata": {
        "id": "_VdkOr33OOqP"
      },
      "execution_count": null,
      "outputs": []
    },
    {
      "cell_type": "code",
      "execution_count": null,
      "metadata": {
        "id": "cjUSZpsPbHTJ",
        "colab": {
          "base_uri": "https://localhost:8080/"
        },
        "outputId": "96afa6b4-1d4f-479d-8001-b7f702a3fc7c"
      },
      "outputs": [
        {
          "output_type": "stream",
          "name": "stdout",
          "text": [
            "\n",
            "Retraining best model (64 neurons, ReLU activation) on data without 'Destination Port'...\n",
            "Epoch 1/150 - Train Loss: 0.7248, Val Loss: 0.4456\n",
            "Epoch 5/150 - Train Loss: 0.2481, Val Loss: 0.2550\n",
            "Epoch 10/150 - Train Loss: 0.2011, Val Loss: 0.2163\n",
            "Epoch 15/150 - Train Loss: 0.1762, Val Loss: 0.1940\n",
            "Epoch 20/150 - Train Loss: 0.1618, Val Loss: 0.1812\n",
            "Epoch 25/150 - Train Loss: 0.1519, Val Loss: 0.1744\n",
            "Epoch 30/150 - Train Loss: 0.1443, Val Loss: 0.1670\n",
            "Epoch 35/150 - Train Loss: 0.1410, Val Loss: 0.1645\n",
            "Epoch 40/150 - Train Loss: 0.1373, Val Loss: 0.1600\n",
            "Epoch 45/150 - Train Loss: 0.1363, Val Loss: 0.1600\n",
            "Epoch 50/150 - Train Loss: 0.1344, Val Loss: 0.1582\n",
            "Epoch 55/150 - Train Loss: 0.1335, Val Loss: 0.1565\n",
            "Epoch 60/150 - Train Loss: 0.1335, Val Loss: 0.1581\n",
            "Epoch 65/150 - Train Loss: 0.1333, Val Loss: 0.1585\n",
            "Epoch 70/150 - Train Loss: 0.1337, Val Loss: 0.1563\n",
            "Early stopping at epoch 71 (best val loss: 0.155534)\n"
          ]
        }
      ],
      "source": [
        "# Retrain the best model with ReLU activation using the new data\n",
        "print(f\"\\nRetraining best model ({best_n} neurons, ReLU activation) on data without 'Destination Port'...\")\n",
        "\n",
        "# Assuming 'best_n' is still available from the previous task\n",
        "input_dim_no_port = X_train_std_no_port.shape[1]\n",
        "output_dim_no_port = len(np.unique(y_train_no_port))\n",
        "\n",
        "# Set hyperparameters (same as best ReLU model from Task 2)\n",
        "model_relu_no_port = ShallowNN(input_dim_no_port, best_n, output_dim_no_port, activation='relu')\n",
        "min_delta = 0.00001\n",
        "patience = 20\n",
        "criterion = nn.CrossEntropyLoss() # Start with unweighted loss\n",
        "optimizer = optim.AdamW(model_relu_no_port.parameters(), lr=0.0005)\n",
        "epochs = 150\n",
        "\n",
        "# Training\n",
        "model_relu_no_port, train_loss_relu_no_port, val_loss_relu_no_port = train_model(\n",
        "    model_relu_no_port,\n",
        "    train_loader_no_port,\n",
        "    val_loader_no_port,\n",
        "    epochs,\n",
        "    optimizer,\n",
        "    criterion,\n",
        "    min_delta,\n",
        "    patience\n",
        ")"
      ]
    },
    {
      "cell_type": "code",
      "source": [
        "# Plot loss curve\n",
        "plt.figure(figsize=(8,5))\n",
        "plt.plot(train_loss_relu_no_port, label='Train Loss')\n",
        "plt.plot(val_loss_relu_no_port, '--', label='Validation Loss')\n",
        "plt.xlabel('Epochs')\n",
        "plt.ylabel('Loss')\n",
        "plt.title(f'Loss Curves (ReLU + no Destination Port) - {best_n} neurons')\n",
        "plt.legend()\n",
        "plt.show()\n",
        "\n",
        "# Save the plot to the specified path\n",
        "save_plot(fig, f\"loss_curves_model_relu_{best_n}_no_port\", save_dir)"
      ],
      "metadata": {
        "id": "hngkb3lsUsaE",
        "outputId": "c014bf69-cf16-4d14-def7-ceb5b35de027",
        "colab": {
          "base_uri": "https://localhost:8080/",
          "height": 516
        }
      },
      "execution_count": null,
      "outputs": [
        {
          "output_type": "display_data",
          "data": {
            "text/plain": [
              "<Figure size 800x500 with 1 Axes>"
            ],
            "image/png": "[encoded data removed]"
          },
          "metadata": {}
        },
        {
          "output_type": "stream",
          "name": "stdout",
          "text": [
            "Saved plot: /content/drive/MyDrive/Projects/AImSecure/Laboratory1/results/images/task4_plots/loss_curves_model_relu_64_no_port.png\n"
          ]
        }
      ]
    },
    {
      "cell_type": "code",
      "source": [
        "report_test_modified = evaluate_model(model_relu_no_port, X_test_tensor_no_port, y_test_no_port)\n",
        "print(report_test_modified)"
      ],
      "metadata": {
        "colab": {
          "base_uri": "https://localhost:8080/"
        },
        "id": "Y6z5DX9baZXC",
        "outputId": "ce625ce8-cc27-45d0-c2c3-b056b007624b"
      },
      "execution_count": null,
      "outputs": [
        {
          "output_type": "stream",
          "name": "stdout",
          "text": [
            "              precision    recall  f1-score   support\n",
            "\n",
            "           0     0.9540    0.9757    0.9647      3378\n",
            "           1     0.8042    0.9476    0.8700       286\n",
            "           2     0.9896    0.8603    0.9204       773\n",
            "           3     0.5000    0.2632    0.3448        57\n",
            "\n",
            "    accuracy                         0.9450      4494\n",
            "   macro avg     0.8119    0.7617    0.7750      4494\n",
            "weighted avg     0.9448    0.9450    0.9432      4494\n",
            "\n"
          ]
        }
      ]
    },
    {
      "cell_type": "markdown",
      "source": [
        "### Q: Now repeat the training process with the best architecture found in the previous step. How does the performance change? Can you still classify the rarest class?\n",
        "\n",
        "TO DO"
      ],
      "metadata": {
        "id": "DjOD38KunlcN"
      }
    },
    {
      "cell_type": "code",
      "source": [
        "# --- Compute class weights ---\n",
        "\n",
        "# Use the training partition to estimate class weights to prevent data leakage.\n",
        "class_weights = compute_class_weight(\n",
        "    class_weight='balanced',\n",
        "    classes=np.unique(y_train_no_port),\n",
        "    y=y_train_no_port\n",
        ")\n",
        "class_weights_tensor = torch.tensor(class_weights, dtype=torch.float32)\n",
        "\n",
        "print(\"\\nComputed class weights:\", class_weights)"
      ],
      "metadata": {
        "id": "QC0ub5Q8OnGo",
        "outputId": "3ee37d6e-5b6e-4e20-b94f-afe8e65324fe",
        "colab": {
          "base_uri": "https://localhost:8080/"
        }
      },
      "execution_count": null,
      "outputs": [
        {
          "output_type": "stream",
          "name": "stdout",
          "text": [
            "\n",
            "Computed class weights: [ 0.3326014   3.93720794  1.45206807 19.70906433]\n"
          ]
        }
      ]
    },
    {
      "cell_type": "markdown",
      "source": [
        "### Q: Which partition do you use to estimate the class weights?\n",
        "\n",
        "We used the training partition to estimate the class weights.\n",
        "\n",
        "This prevents data leakage, ensuring that information from the validation or test sets is not used during model training or weight calculation."
      ],
      "metadata": {
        "id": "lBgex0nonusv"
      }
    },
    {
      "cell_type": "code",
      "source": [
        "# --- Retrain the best model with ReLU activation and Weighted Cross-Entropy Loss ---\n",
        "\n",
        "print(f\"\\nRetraining best model ({best_n} neurons, ReLU activation) on data without 'Destination Port' with Weighted Cross-Entropy Loss...\")\n",
        "\n",
        "# Assuming 'best_n' is still available from the previous task\n",
        "input_dim_no_port = X_train_std_no_port.shape[1]\n",
        "output_dim_no_port = len(np.unique(y_train_no_port))\n",
        "\n",
        "# Set hyperparameters (same as best ReLU model from Task 2)\n",
        "model_relu_no_port_weighted = ShallowNN(input_dim_no_port, best_n, output_dim_no_port, activation='relu')\n",
        "min_delta = 0.00001\n",
        "patience = 20\n",
        "criterion_weighted = nn.CrossEntropyLoss(weight=class_weights_tensor) # Use weighted loss\n",
        "optimizer_weighted = optim.AdamW(model_relu_no_port_weighted.parameters(), lr=0.0005)\n",
        "epochs = 150\n",
        "\n",
        "# Training\n",
        "model_relu_no_port_weighted, train_loss_relu_no_port_weighted, val_loss_relu_no_port_weighted = train_model(\n",
        "    model_relu_no_port_weighted,\n",
        "    train_loader_no_port,\n",
        "    val_loader_no_port,\n",
        "    epochs,\n",
        "    optimizer,\n",
        "    criterion_weighted,\n",
        "    min_delta,\n",
        "    patience\n",
        ")"
      ],
      "metadata": {
        "colab": {
          "base_uri": "https://localhost:8080/"
        },
        "id": "cfAngzxOa3py",
        "outputId": "d35f08f6-4994-4a3b-e766-16ee82134f7a"
      },
      "execution_count": null,
      "outputs": [
        {
          "output_type": "stream",
          "name": "stdout",
          "text": [
            "\n",
            "Retraining best model (64 neurons, ReLU activation) on data without 'Destination Port' with Weighted Cross-Entropy Loss...\n",
            "Epoch 1/150 - Train Loss: 1.4239, Val Loss: 1.4184\n",
            "Epoch 5/150 - Train Loss: 1.4222, Val Loss: 1.4184\n",
            "Epoch 10/150 - Train Loss: 1.4252, Val Loss: 1.4184\n",
            "Epoch 15/150 - Train Loss: 1.4212, Val Loss: 1.4184\n",
            "Epoch 20/150 - Train Loss: 1.4227, Val Loss: 1.4184\n",
            "Early stopping at epoch 21 (best val loss: 1.418442)\n"
          ]
        }
      ]
    },
    {
      "cell_type": "code",
      "source": [
        "# Plot loss curve\n",
        "plt.figure(figsize=(8,5))\n",
        "plt.plot(train_loss_relu_no_port, label='Train Loss')\n",
        "plt.plot(val_loss_relu_no_port, '--', label='Validation Loss')\n",
        "plt.xlabel('Epochs')\n",
        "plt.ylabel('Loss')\n",
        "plt.title(f'Loss Curves (ReLU + no Destination Port + Weighted CE) - {best_n} neurons')\n",
        "plt.legend()\n",
        "plt.show()\n",
        "\n",
        "# Save the plot to the specified path\n",
        "save_plot(fig, f\"loss_curves_model_relu_{best_n}_no_port\", save_dir)"
      ],
      "metadata": {
        "id": "TUCvZTuZVDI7",
        "outputId": "beb8e6a7-2494-42fa-8bbe-22fbc0bd6a32",
        "colab": {
          "base_uri": "https://localhost:8080/",
          "height": 516
        }
      },
      "execution_count": null,
      "outputs": [
        {
          "output_type": "display_data",
          "data": {
            "text/plain": [
              "<Figure size 800x500 with 1 Axes>"
            ],
            "image/png": "[encoded data removed]"
          },
          "metadata": {}
        },
        {
          "output_type": "stream",
          "name": "stdout",
          "text": [
            "Saved plot: /content/drive/MyDrive/Projects/AImSecure/Laboratory1/results/images/task4_plots/loss_curves_model_relu_64_no_port.png\n"
          ]
        }
      ]
    },
    {
      "cell_type": "code",
      "source": [
        "report_test_modified = evaluate_model(model_relu_no_port_weighted, X_test_tensor_no_port, y_test_no_port)\n",
        "print(report_test_modified)"
      ],
      "metadata": {
        "id": "eI3Otwq3bTpW",
        "outputId": "36cd647b-da15-4135-e7dc-6598858c0340",
        "colab": {
          "base_uri": "https://localhost:8080/"
        }
      },
      "execution_count": null,
      "outputs": [
        {
          "output_type": "stream",
          "name": "stdout",
          "text": [
            "              precision    recall  f1-score   support\n",
            "\n",
            "           0     0.7794    0.7957    0.7875      3378\n",
            "           1     0.0000    0.0000    0.0000       286\n",
            "           2     0.0976    0.1320    0.1122       773\n",
            "           3     0.0000    0.0000    0.0000        57\n",
            "\n",
            "    accuracy                         0.6208      4494\n",
            "   macro avg     0.2192    0.2319    0.2249      4494\n",
            "weighted avg     0.6026    0.6208    0.6112      4494\n",
            "\n"
          ]
        },
        {
          "output_type": "stream",
          "name": "stderr",
          "text": [
            "/usr/local/lib/python3.12/dist-packages/sklearn/metrics/_classification.py:1565: UndefinedMetricWarning: Precision is ill-defined and being set to 0.0 in labels with no predicted samples. Use `zero_division` parameter to control this behavior.\n",
            "  _warn_prf(average, modifier, f\"{metric.capitalize()} is\", len(result))\n",
            "/usr/local/lib/python3.12/dist-packages/sklearn/metrics/_classification.py:1565: UndefinedMetricWarning: Precision is ill-defined and being set to 0.0 in labels with no predicted samples. Use `zero_division` parameter to control this behavior.\n",
            "  _warn_prf(average, modifier, f\"{metric.capitalize()} is\", len(result))\n",
            "/usr/local/lib/python3.12/dist-packages/sklearn/metrics/_classification.py:1565: UndefinedMetricWarning: Precision is ill-defined and being set to 0.0 in labels with no predicted samples. Use `zero_division` parameter to control this behavior.\n",
            "  _warn_prf(average, modifier, f\"{metric.capitalize()} is\", len(result))\n"
          ]
        }
      ]
    },
    {
      "cell_type": "markdown",
      "source": [
        "### Q: Now, repeat the training process with the new loss, how does the performance change per class and overall? In particular, how does the accuracy change? How does the f1 score change?\n",
        "\n",
        "TO DO"
      ],
      "metadata": {
        "id": "MiWGrMnvnz4X"
      }
    },
    {
      "cell_type": "markdown",
      "metadata": {
        "id": "o8lrIiG6bHTK"
      },
      "source": [
        "## Task 5 — Deep Neural Networks, Batch Size, Optimizers\n",
        "We will:\n",
        "- Try depths L in {3, 4, 5} and for each try 2 hidden-size patterns (total 6)\n",
        "- Use ReLU, AdamW, lr=5e-4, epochs<=50 with early stopping\n",
        "- Select best by validation; evaluate best on test\n",
        "- Compare batch sizes {4, 64, 256, 1024} on best arch: report validation metrics and wall-clock time\n",
        "- Compare optimizers: SGD, SGD+Momentum (0.1, 0.5, 0.9), AdamW; analyze losses and times; then tune LR/epochs for the best"
      ]
    },
    {
      "cell_type": "code",
      "source": [
        "# Create directory for plots\n",
        "save_dir = results_path + 'images/' + 'task5_plots/'\n",
        "os.makedirs(save_dir, exist_ok=True)"
      ],
      "metadata": {
        "id": "P2A8Xu2rND3a"
      },
      "execution_count": null,
      "outputs": []
    },
    {
      "cell_type": "code",
      "execution_count": null,
      "metadata": {
        "id": "q8FOzAnKbHTK"
      },
      "outputs": [],
      "source": [
        "class DeepFFNN(nn.Module):\n",
        "    def __init__(self, input_dim, layers, num_classes):\n",
        "        super().__init__()\n",
        "        dims = [input_dim] + layers\n",
        "        mods = []\n",
        "        for i in range(len(dims)-1):\n",
        "            mods.append(nn.Linear(dims[i], dims[i+1]))\n",
        "            mods.append(nn.ReLU())\n",
        "        mods.append(nn.Linear(dims[-1], num_classes))\n",
        "        self.net = nn.Sequential(*mods)\n",
        "    def forward(self, x):\n",
        "        return self.net(x)\n",
        "\n",
        "# Architectures to try: two per depth 3,4,5\n",
        "arch_grid = {\n",
        "    3: [[32,16,8],[64,32,16]],\n",
        "    4: [[64,32,16,8],[32,32,16,8]],\n",
        "    5: [[128,64,32,16,8],[32,32,32,16,8]],\n",
        "}\n",
        "\n",
        "arch_results = []\n",
        "for depth, patterns in arch_grid.items():\n",
        "    for pattern in patterns:\n",
        "        tag = f\"deep_L{depth}_h{'-'.join(map(str,pattern))}\"\n",
        "        model = DeepFFNN(INPUT_DIM, pattern, NUM_CLASSES)\n",
        "        model, tr_d, va_d = train_model(model, train_loader, val_loader, epochs=50, lr=5e-4, patience=8, tag=tag)\n",
        "        va_loss_d, va_preds_d, va_tgts_d = evaluate(model, val_loader, nn.CrossEntropyLoss())\n",
        "        rep_d = classification_report(va_tgts_d, va_preds_d, target_names=classes, output_dict=True)\n",
        "        arch_results.append({\"depth\":depth, \"pattern\":pattern, \"val_loss\":va_loss_d, \"report\":rep_d, \"model\":model, \"tag\":tag})\n",
        "\n",
        "best_deep = min(arch_results, key=lambda r: r['val_loss'])\n",
        "print(\"Best deep arch:\", best_deep['pattern'], \"(L=\", len(best_deep['pattern']), \") val_loss=\", round(best_deep['val_loss'],4))\n",
        "\n",
        "# Evaluate best deep on test\n",
        "best_deep_model = best_deep['model']\n",
        "loss_td, preds_td, tgts_td = evaluate(best_deep_model, test_loader, nn.CrossEntropyLoss())\n",
        "print(\"Test report (best deep):\")\n",
        "print(classification_report(tgts_td, preds_td, target_names=classes))\n",
        "\n",
        "# Batch size experiment\n",
        "for bs in [4, 64, 256, 1024]:\n",
        "    tl = DataLoader(train_ds, batch_size=bs, shuffle=True)\n",
        "    vl = DataLoader(val_ds, batch_size=bs)\n",
        "    model = DeepFFNN(INPUT_DIM, best_deep['pattern'], NUM_CLASSES)\n",
        "    start = time.time()\n",
        "    model, tr_b, va_b = train_model(model, tl, vl, epochs=50, lr=5e-4, patience=8, tag=f\"deep_bs{bs}\")\n",
        "    elapsed = time.time()-start\n",
        "    va_loss_b, va_preds_b, va_tgts_b = evaluate(model, vl, nn.CrossEntropyLoss())\n",
        "    print(f\"BS={bs}: val_loss={va_loss_b:.4f}, time={elapsed:.1f}s\")\n",
        "\n",
        "# Optimizer experiment\n",
        "optims = [\n",
        "    (\"SGD\", lambda params: optim.SGD(params, lr=5e-3)),\n",
        "    (\"SGD_m0.1\", lambda params: optim.SGD(params, lr=5e-3, momentum=0.1)),\n",
        "    (\"SGD_m0.5\", lambda params: optim.SGD(params, lr=5e-3, momentum=0.5)),\n",
        "    (\"SGD_m0.9\", lambda params: optim.SGD(params, lr=5e-3, momentum=0.9)),\n",
        "    (\"AdamW\", lambda params: optim.AdamW(params, lr=5e-4)),\n",
        "]\n",
        "\n",
        "opt_results = []\n",
        "for name, factory in optims:\n",
        "    model = DeepFFNN(INPUT_DIM, best_deep['pattern'], NUM_CLASSES).to(device)\n",
        "    criterion = nn.CrossEntropyLoss()\n",
        "    optimizer = factory(model.parameters())\n",
        "    es = EarlyStopper(patience=8, mode='min')\n",
        "    tr_losses, va_losses = [], []\n",
        "    start = time.time()\n",
        "    for ep in range(50):\n",
        "        tr = train_one_epoch(model, train_loader, criterion, optimizer)\n",
        "        va, _, _ = evaluate(model, val_loader, criterion)\n",
        "        tr_losses.append(tr); va_losses.append(va)\n",
        "        if es.step(va):\n",
        "            break\n",
        "    elapsed = time.time()-start\n",
        "    va_loss_o, va_preds_o, va_tgts_o = evaluate(model, val_loader, criterion)\n",
        "    opt_results.append((name, va_loss_o, elapsed))\n",
        "    # Use the global FIG_DIR for saving optimizer plots\n",
        "    plot_losses(tr_losses, va_losses, f\"opt_{name}\", save_path=FIG_DIR/f\"opt_{name}_loss.png\")\n",
        "\n",
        "print(\"Optimizer comparison (name, val_loss, time_s):\", [(n, round(l,4), round(t,1)) for n,l,t in opt_results])"
      ]
    },
    {
      "cell_type": "markdown",
      "source": [
        "### Q: • Plot and analyze the losses. Do the models converge?\n",
        "\n",
        "TO DO"
      ],
      "metadata": {
        "id": "sVfOH2SboKrV"
      }
    },
    {
      "cell_type": "markdown",
      "source": [
        "### Q: Calculate the performance in the validation set and identify the best-performing architecture. How do you select one?\n",
        "\n",
        "TO DO"
      ],
      "metadata": {
        "id": "zQiQxg1AoKZ8"
      }
    },
    {
      "cell_type": "markdown",
      "source": [
        "# The impact of Batch Size"
      ],
      "metadata": {
        "id": "KeaOUaIyof-I"
      }
    },
    {
      "cell_type": "markdown",
      "source": [
        "### Q: Use the best hyperparameter identified in the previous step and experiment with different batch sizes. In particular, use as batch size: {4, 64, 256, 1024}. Does performance change? And why? Report the validation results.\n",
        "\n",
        "TO DO"
      ],
      "metadata": {
        "id": "M6FU5x1Zof7S"
      }
    },
    {
      "cell_type": "markdown",
      "source": [
        "### Q: How long does it take to train the models depending on the batch size? And why?\n",
        "\n",
        "TO DO"
      ],
      "metadata": {
        "id": "Yem_h-fSof4z"
      }
    },
    {
      "cell_type": "markdown",
      "source": [
        "# The impact of the Optimizer"
      ],
      "metadata": {
        "id": "vcw0McwOo5R1"
      }
    },
    {
      "cell_type": "markdown",
      "source": [
        "### Q: Finally, evaluate here how the optimizers affect the classification performance, training time and loss trend. The evaluated optimizers are: Stochastic Gradient Descent (SGD), SGD with Momentum(0.1, 0.5, 0.9) and AdamW. Is there a difference in the trend of the loss functions?\n",
        "\n",
        "TO DO"
      ],
      "metadata": {
        "id": "XSa2x91To49h"
      }
    },
    {
      "cell_type": "markdown",
      "source": [
        "### Q: How long does it take to train the models with the different optimizers? And why?\n",
        "\n",
        "TO DO"
      ],
      "metadata": {
        "id": "_2DxKXzOo45L"
      }
    },
    {
      "cell_type": "markdown",
      "source": [
        "### Q: Now, focus on the architecture with the best optimizer. Evaluate the effects of the different learning rates and epochs. Report the test results for the best model.\n",
        "\n",
        "TO DO"
      ],
      "metadata": {
        "id": "vDm-wl1Epina"
      }
    },
    {
      "cell_type": "markdown",
      "metadata": {
        "id": "9Ok6n30zbHTK"
      },
      "source": [
        "## Task 6 — Overfitting and Regularization\n",
        "- Build 6-layer FFNN with widths [256, 128, 64, 32, 16] (the final layer is num_classes)\n",
        "- Train with ReLU, AdamW lr=5e-4, batch=128, epochs=50\n",
        "- Inspect losses for signs of overfitting\n",
        "- Add Dropout and BatchNorm variants; try weight decay (AdamW) and compare validation/test"
      ]
    },
    {
      "cell_type": "code",
      "source": [
        "# Create directory for plots\n",
        "save_dir = results_path + 'images/' + 'task6_plots/'\n",
        "os.makedirs(save_dir, exist_ok=True)"
      ],
      "metadata": {
        "id": "DoFAm7VVNGM2"
      },
      "execution_count": null,
      "outputs": []
    },
    {
      "cell_type": "code",
      "execution_count": null,
      "metadata": {
        "id": "7QhMq3babHTK"
      },
      "outputs": [],
      "source": [
        "class RegFFNN(nn.Module):\n",
        "    def __init__(self, input_dim, widths, num_classes, dropout=0.0, batchnorm=False):\n",
        "        super().__init__()\n",
        "        layers = []\n",
        "        prev = input_dim\n",
        "        for w in widths:\n",
        "            layers.append(nn.Linear(prev, w))\n",
        "            if batchnorm:\n",
        "                layers.append(nn.BatchNorm1d(w))\n",
        "            layers.append(nn.ReLU())\n",
        "            if dropout > 0:\n",
        "                layers.append(nn.Dropout(dropout))\n",
        "            prev = w\n",
        "        layers.append(nn.Linear(prev, num_classes))\n",
        "        self.net = nn.Sequential(*layers)\n",
        "    def forward(self, x):\n",
        "        return self.net(x)\n",
        "\n",
        "# Baseline (no regularization)\n",
        "widths6 = [256,128,64,32,16]\n",
        "BATCH_SIZE = 128\n",
        "train_loader6 = DataLoader(train_ds, batch_size=BATCH_SIZE, shuffle=True)\n",
        "val_loader6   = DataLoader(val_ds, batch_size=BATCH_SIZE)\n",
        "\n",
        "model6 = RegFFNN(INPUT_DIM, widths6, NUM_CLASSES, dropout=0.0, batchnorm=False)\n",
        "model6, tr6, va6 = train_model(model6, train_loader6, val_loader6, epochs=50, lr=5e-4, patience=8, tag=\"reg_L6_base\")\n",
        "va_loss6, va_preds6, va_tgts6 = evaluate(model6, val_loader6, nn.CrossEntropyLoss())\n",
        "print(\"Validation (no regularization):\")\n",
        "print(classification_report(va_tgts6, va_preds6, target_names=classes))\n",
        "\n",
        "# Dropout + BatchNorm + weight decay variants\n",
        "for dp in [0.2, 0.5]:\n",
        "    for bn in [False, True]:\n",
        "        tag = f\"reg_L6_dp{dp}_bn{int(bn)}\"\n",
        "        m = RegFFNN(INPUT_DIM, widths6, NUM_CLASSES, dropout=dp, batchnorm=bn).to(device)\n",
        "        weight_decay = 1e-4 if bn else 5e-4\n",
        "        # Custom train loop to set weight decay\n",
        "        criterion = nn.CrossEntropyLoss()\n",
        "        optimizer = optim.AdamW(m.parameters(), lr=5e-4, weight_decay=weight_decay)\n",
        "        es = EarlyStopper(patience=8, mode='min')\n",
        "        tr_losses, va_losses = [], []\n",
        "        for ep in range(50):\n",
        "            tr = train_one_epoch(m, train_loader6, criterion, optimizer)\n",
        "            va, _, _ = evaluate(m, val_loader6, criterion)\n",
        "            tr_losses.append(tr); va_losses.append(va)\n",
        "            if es.step(va):\n",
        "                break\n",
        "        # Use the global FIG_DIR for saving regularization plots\n",
        "        plot_losses(tr_losses, va_losses, tag, save_path=FIG_DIR/f\"{tag}_loss.png\")\n",
        "        vLoss, vp, vt = evaluate(m, val_loader6, criterion)\n",
        "        print(f\"Variant {tag} — val_loss={vLoss:.4f}\")"
      ]
    },
    {
      "cell_type": "code",
      "execution_count": null,
      "metadata": {
        "id": "e7gYhz6vbHTK"
      },
      "outputs": [],
      "source": [
        "class ShallowFFNN(nn.Module):\n",
        "    def __init__(self, input_dim, hidden_dim, num_classes, activation='linear'):\n",
        "        super().__init__()\n",
        "        self.fc1 = nn.Linear(input_dim, hidden_dim)\n",
        "        self.fc_out = nn.Linear(hidden_dim, num_classes)\n",
        "        self.activation = activation\n",
        "        if activation == 'relu':\n",
        "            self.act = nn.ReLU()\n",
        "        else:\n",
        "            self.act = nn.Identity()\n",
        "    def forward(self, x):\n",
        "        x = self.act(self.fc1(x))\n",
        "        return self.fc_out(x)\n",
        "\n",
        "\n",
        "def train_model(model, train_loader, val_loader, epochs=100, lr=5e-4, weight=None, patience=10, tag=\"model\"):\n",
        "    model = model.to(device)\n",
        "    weight_t = torch.tensor(weight, dtype=torch.float32, device=device) if weight is not None else None\n",
        "    criterion = nn.CrossEntropyLoss(weight=weight_t)\n",
        "    optimizer = optim.AdamW(model.parameters(), lr=lr)\n",
        "    es = EarlyStopper(patience=patience, mode='min')\n",
        "\n",
        "    tr_losses, va_losses = [] , []\n",
        "    best_state, best_va = None, float('inf')\n",
        "\n",
        "    # Assuming FIG_DIR is defined elsewhere, create it if not\n",
        "    global FIG_DIR # Access the global variable\n",
        "    if 'FIG_DIR' not in globals():\n",
        "         FIG_DIR = Path(results_path) / 'figures' # Or wherever you want to save\n",
        "         os.makedirs(FIG_DIR, exist_ok=True)\n",
        "\n",
        "\n",
        "    for ep in range(epochs):\n",
        "        tr = train_one_epoch(model, train_loader, criterion, optimizer)\n",
        "        va, _, _ = evaluate(model, val_loader, criterion)\n",
        "        tr_losses.append(tr)\n",
        "        va_losses.append(va)\n",
        "        if va < best_va:\n",
        "            best_va = va\n",
        "            best_state = {k:v.detach().cpu().clone() for k,v in model.state_dict().items()}\n",
        "        if es.step(va):\n",
        "            break\n",
        "    # restore best\n",
        "    if best_state is not None:\n",
        "        model.load_state_dict(best_state)\n",
        "    # plot\n",
        "    plot_losses(tr_losses, va_losses, f\"{tag} losses\", save_path=FIG_DIR/f\"{tag}_loss.png\")\n",
        "    return model, tr_losses, va_losses\n",
        "\n",
        "# Train three widths with linear activation\n",
        "hidden_sizes = [32, 64, 128]\n",
        "results = []\n",
        "for h in hidden_sizes:\n",
        "    tag = f\"shallow_linear_h{h}\"\n",
        "    m = ShallowFFNN(INPUT_DIM, h, NUM_CLASSES, activation='linear')\n",
        "    m, tr, va = train_model(m, train_loader, val_loader, epochs=100, lr=5e-4, patience=10, tag=tag)\n",
        "    va_loss, va_preds, va_tgts = evaluate(m, val_loader, nn.CrossEntropyLoss())\n",
        "    rep = classification_report(va_tgts, va_preds, target_names=classes, output_dict=True)\n",
        "    results.append({\"h\":h, \"val_loss\":va_loss, \"report\":rep, \"model\":m})\n",
        "    # save report\n",
        "    with open(METRICS_DIR/f\"{tag}_val_report.json\", \"w\") as f:\n",
        "        json.dump(rep, f, indent=2)\n",
        "\n",
        "# Select best by lowest val loss\n",
        "best = min(results, key=lambda r: r[\"val_loss\"])\n",
        "print(\"Best width (linear):\", best[\"h\"], \"val_loss:\", best[\"val_loss\"])"
      ]
    },
    {
      "cell_type": "code",
      "execution_count": null,
      "metadata": {
        "id": "LuVDciWEbHTK"
      },
      "outputs": [],
      "source": [
        "# Validation reports for the 3 linear models (summary)\n",
        "for r in results:\n",
        "    h = r['h']\n",
        "    rep = r['report']\n",
        "    print(f\"\\nWidth {h} — Val loss: {r['val_loss']:.4f}\")\n",
        "    # Compact summary per class + macro/weighted\n",
        "    keys = list(classes) + ['macro avg','weighted avg','accuracy']\n",
        "    compact = {}\n",
        "    for k in keys:\n",
        "        if k in rep:\n",
        "            if k == 'accuracy':\n",
        "                compact[k] = round(rep[k], 4)\n",
        "            else:\n",
        "                compact[k] = {m: round(rep[k][m], 4) for m in ['precision','recall','f1-score'] if m in rep[k]}\n",
        "    print(compact)\n",
        "\n",
        "# Test evaluation for best linear model\n",
        "best_model = best['model']\n",
        "test_loss, test_preds, test_tgts = evaluate(best_model, test_loader, nn.CrossEntropyLoss())\n",
        "print(\"\\nTest loss (best linear):\", round(test_loss, 4))\n",
        "print(\"Validation vs Test — compare metrics (test shown below)\")\n",
        "print(classification_report(test_tgts, test_preds, target_names=classes))"
      ]
    },
    {
      "cell_type": "markdown",
      "source": [
        "### Q: Each Neurons per Layer describes how many neurons must be present in each layer. For example: 1st layer 256, 2nd layer 128 etc. What do the losses look like? Is the model overfitting?\n",
        "\n",
        "TO DO\n"
      ],
      "metadata": {
        "id": "O3h51yQ0qHlT"
      }
    },
    {
      "cell_type": "markdown",
      "source": [
        "### Q: Now apply normalization techniques (dropout, batch normalization) and play with the regularization of the weights (AdamW's weight decay). What impact do the different normalization techniques have on validation and testing performance?\n",
        "\n",
        "TO DO"
      ],
      "metadata": {
        "id": "SqWQfg_hqQZ7"
      }
    }
  ],
  "metadata": {
    "colab": {
      "collapsed_sections": [
        "_QJSBi_iRPxw",
        "4hIyPgwBbHTI",
        "YZQQDEOsbHTI",
        "_wYU39f7bHTJ",
        "W5vpgTO5bHTJ",
        "o8lrIiG6bHTK",
        "9Ok6n30zbHTK"
      ],
      "provenance": [],
      "gpuType": "T4",
      "include_colab_link": true
    },
    "kernelspec": {
      "display_name": "Python 3",
      "name": "python3"
    },
    "language_info": {
      "codemirror_mode": {
        "name": "ipython",
        "version": 3
      },
      "file_extension": ".py",
      "mimetype": "text/x-python",
      "name": "python",
      "nbconvert_exporter": "python",
      "pygments_lexer": "ipython3",
      "version": "3.14.0"
    }
  },
  "nbformat": 4,
  "nbformat_minor": 0
}